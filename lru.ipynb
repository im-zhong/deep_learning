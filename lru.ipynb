{
 "cells": [
  {
   "cell_type": "code",
   "execution_count": 35,
   "metadata": {},
   "outputs": [],
   "source": [
    "# 2024/12/26\n",
    "# zhangzhong"
   ]
  },
  {
   "cell_type": "code",
   "execution_count": 36,
   "metadata": {},
   "outputs": [],
   "source": [
    "def serial_sum(nums: list[int]) -> list[int]:\n",
    "    sum = 0\n",
    "    sums = []\n",
    "    for n in nums:\n",
    "        sum += n\n",
    "        sums.append(sum)\n",
    "    return sums\n",
    "\n",
    "def parallel_sum(nums: list[int]) -> list[int]:\n",
    "    n = len(nums)\n",
    "    sums = nums[:]\n",
    "\n",
    "    # accumulate from tail to head\n",
    "    for k in range(0, len(nums)):\n",
    "        # break ahead of time, actually only do log2(n) iterations\n",
    "        if n - 2**k < 0:\n",
    "            break\n",
    "        for i in range(n-1, 0, -1):\n",
    "            # make sure we not out of range\n",
    "            if i - 2**k < 0:\n",
    "                break\n",
    "            # sum the corresponding pair of numbers\n",
    "            sums[i] = sums[i] + sums[i - 2**k]\n",
    "    return sums\n"
   ]
  },
  {
   "cell_type": "code",
   "execution_count": 37,
   "metadata": {},
   "outputs": [
    {
     "data": {
      "text/plain": [
       "True"
      ]
     },
     "execution_count": 37,
     "metadata": {},
     "output_type": "execute_result"
    }
   ],
   "source": [
    "# test for random length numbers\n",
    "import random\n",
    "nums = [random.randint(0, 100) for _ in range(100000)]\n",
    "serial_sum(nums) == parallel_sum(nums)"
   ]
  }
 ],
 "metadata": {
  "kernelspec": {
   "display_name": "dl",
   "language": "python",
   "name": "python3"
  },
  "language_info": {
   "codemirror_mode": {
    "name": "ipython",
    "version": 3
   },
   "file_extension": ".py",
   "mimetype": "text/x-python",
   "name": "python",
   "nbconvert_exporter": "python",
   "pygments_lexer": "ipython3",
   "version": "3.12.4"
  }
 },
 "nbformat": 4,
 "nbformat_minor": 2
}
