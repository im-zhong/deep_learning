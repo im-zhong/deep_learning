{
 "cells": [
  {
   "cell_type": "code",
   "execution_count": 1,
   "metadata": {},
   "outputs": [],
   "source": [
    "# 2023/9/10\n",
    "# zhangzhong\n",
    "# 使用matplotlib查看生成的数据是否有问题"
   ]
  },
  {
   "cell_type": "code",
   "execution_count": 2,
   "metadata": {},
   "outputs": [],
   "source": [
    "# 实在没办法了 只能这样了\n",
    "# import sys\n",
    "# print(sys.path)\n",
    "# sys.path.append('../../')\n",
    "# # 哟！kernel是看到了我在root dir下面的env的 这样的话 我直接在env里面写上自己的path不久醒了吗！！！perfect！\n",
    "# # 这样每个项目的。env就是不一样的 但是编写起来也很简单"
   ]
  },
  {
   "cell_type": "code",
   "execution_count": 3,
   "metadata": {},
   "outputs": [
    {
     "data": {
      "text/plain": [
       "[<matplotlib.lines.Line2D at 0x7fe1746b1090>]"
      ]
     },
     "execution_count": 3,
     "metadata": {},
     "output_type": "execute_result"
    },
    {
     "data": {
      "image/png": "[encoded data removed]",
      "text/plain": [
       "<Figure size 640x480 with 1 Axes>"
      ]
     },
     "metadata": {},
     "output_type": "display_data"
    }
   ],
   "source": [
    "import matplotlib.pyplot as plt\n",
    "import torch\n",
    "from mytorch.data.linear import SyntheticLinearRegressionData\n",
    "\n",
    "data = SyntheticLinearRegressionData(w=torch.tensor([2.0]), b=torch.tensor(1.0), num=20)\n",
    "plt.plot(data.X, data.y)"
   ]
  },
  {
   "cell_type": "code",
   "execution_count": 4,
   "metadata": {},
   "outputs": [
    {
     "name": "stdout",
     "output_type": "stream",
     "text": [
      "Files already downloaded and verified\n",
      "Files already downloaded and verified\n"
     ]
    }
   ],
   "source": [
    "from mytorch.data.cifar10 import CIFAR10Dataset\n",
    "\n",
    "cifar10 = CIFAR10Dataset()\n",
    "\n"
   ]
  },
  {
   "cell_type": "code",
   "execution_count": 5,
   "metadata": {},
   "outputs": [
    {
     "name": "stdout",
     "output_type": "stream",
     "text": [
      "Dataset CIFAR10\n",
      "    Number of datapoints: 50000\n",
      "    Root location: datasets/cifar10\n",
      "    Split: Train\n",
      "    StandardTransform\n",
      "Transform: Compose(\n",
      "               RandomCrop(size=(32, 32), padding=4)\n",
      "               RandomHorizontalFlip(p=0.5)\n",
      "               ToTensor()\n",
      "               Normalize(mean=[0.4914, 0.4822, 0.4465], std=[0.2023, 0.1994, 0.201])\n",
      "           )\n",
      "<class 'list'>\n",
      "2\n",
      "<class 'torch.Tensor'> <class 'torch.Tensor'>\n",
      "torch.Size([32, 3, 32, 32]) torch.Size([32])\n"
     ]
    }
   ],
   "source": [
    "print(cifar10.cifar_train)\n",
    "\n",
    "train_dataloader = cifar10.get_train_dataloader(batch_size=32)\n",
    "for x in train_dataloader:\n",
    "    print(type(x))\n",
    "    print(len(x))\n",
    "    break\n",
    "\n",
    "for x, y in train_dataloader:\n",
    "    print(type(x), type(y))\n",
    "    print(x.shape, y.shape)\n",
    "    # x.shape = (32, 3, 32, 32) = (b, c, h, w)\n",
    "    # y.shape = (32,) 代表三十二个example的类别\n",
    "    break"
   ]
  }
 ],
 "metadata": {
  "kernelspec": {
   "display_name": "ml",
   "language": "python",
   "name": "python3"
  },
  "language_info": {
   "codemirror_mode": {
    "name": "ipython",
    "version": 3
   },
   "file_extension": ".py",
   "mimetype": "text/x-python",
   "name": "python",
   "nbconvert_exporter": "python",
   "pygments_lexer": "ipython3",
   "version": "3.10.13"
  }
 },
 "nbformat": 4,
 "nbformat_minor": 2
}
