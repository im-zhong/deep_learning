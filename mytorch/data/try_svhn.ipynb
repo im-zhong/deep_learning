{
 "cells": [
  {
   "cell_type": "code",
   "execution_count": 13,
   "metadata": {},
   "outputs": [],
   "source": [
    "# 2023/12/14\n",
    "# zhangzhong"
   ]
  },
  {
   "cell_type": "code",
   "execution_count": 14,
   "metadata": {},
   "outputs": [],
   "source": [
    "from mytorch.data.svhn import SVHNDataset\n",
    "import matplotlib.pyplot as plt\n",
    "import random\n"
   ]
  },
  {
   "cell_type": "code",
   "execution_count": 15,
   "metadata": {},
   "outputs": [
    {
     "name": "stdout",
     "output_type": "stream",
     "text": [
      "Using downloaded and verified file: datasets/svhn/train_32x32.mat\n",
      "Using downloaded and verified file: datasets/svhn/test_32x32.mat\n",
      "18315\n",
      "6508\n",
      "<class 'torch.Tensor'> <class 'torch.Tensor'>\n",
      "torch.Size([4, 3, 32, 32])\n",
      "torch.Size([4])\n"
     ]
    }
   ],
   "source": [
    "svhn = SVHNDataset()\n",
    "batch_size = 4\n",
    "train_dataloader = svhn.get_train_dataloader(batch_size)\n",
    "test_dataloader = svhn.get_test_dataloader(batch_size)\n",
    "print(len(train_dataloader))\n",
    "print(len(test_dataloader))\n",
    "x, y = next(iter(train_dataloader))\n",
    "print(type(x), type(y))\n",
    "# x y 都是Tensor，因为我们在transform里面用了ToTensor\n",
    "# 其实就是图片，和MNIST CIFAR一样\n",
    "# x.shape == (batch_size, channels=3, height=32, width=32)\n",
    "print(x.shape)\n",
    "# y.shape == (batch_size,) 其实就是每张图片一个标签\n",
    "print(y.shape)\n",
    "# 我们最好随机生成一批图像和他对应的标签，这样好让我们对数据有一个整体的认识\n",
    "# 论文里也可以放这样的图片进去\n",
    "# 这个就只能用jupyter来做了"
   ]
  },
  {
   "cell_type": "code",
   "execution_count": 81,
   "metadata": {},
   "outputs": [
    {
     "name": "stdout",
     "output_type": "stream",
     "text": [
      "2\n"
     ]
    },
    {
     "data": {
      "image/png": "[encoded data removed]",
      "text/plain": [
       "<Figure size 640x480 with 1 Axes>"
      ]
     },
     "metadata": {},
     "output_type": "display_data"
    }
   ],
   "source": [
    "# select the first picture\n",
    "# image = x[0]\n",
    "# # show the picture\n",
    "# plt.imshow(image.permute(1, 2, 0))\n",
    "\n",
    "# 想要随机抽样图片 需要直接对train_dataset进行index操作\n",
    "train_dataset = svhn.train_dataset\n",
    "# random select picture from train_dataset\n",
    "image, label = train_dataset[random.randint(0, len(train_dataset) - 1)]\n",
    "# show the picture and label\n",
    "plt.imshow(image.permute(1, 2, 0))\n",
    "print(label)"
   ]
  }
 ],
 "metadata": {
  "kernelspec": {
   "display_name": "ml",
   "language": "python",
   "name": "python3"
  },
  "language_info": {
   "codemirror_mode": {
    "name": "ipython",
    "version": 3
   },
   "file_extension": ".py",
   "mimetype": "text/x-python",
   "name": "python",
   "nbconvert_exporter": "python",
   "pygments_lexer": "ipython3",
   "version": "3.10.13"
  }
 },
 "nbformat": 4,
 "nbformat_minor": 2
}
