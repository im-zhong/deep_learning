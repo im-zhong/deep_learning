{
 "cells": [
  {
   "cell_type": "code",
   "execution_count": 2,
   "id": "aaad20b6",
   "metadata": {},
   "outputs": [],
   "source": [
    "# 2025/7/12\n",
    "# zhangzhong"
   ]
  },
  {
   "cell_type": "code",
   "execution_count": 3,
   "id": "b0ecc83a",
   "metadata": {},
   "outputs": [
    {
     "data": {
      "application/vnd.jupyter.widget-view+json": {
       "model_id": "79d1570b31d2486e86e18263da379304",
       "version_major": 2,
       "version_minor": 0
      },
      "text/plain": [
       "Resolving data files:   0%|          | 0/52 [00:00<?, ?it/s]"
      ]
     },
     "metadata": {},
     "output_type": "display_data"
    },
    {
     "name": "stdout",
     "output_type": "stream",
     "text": [
      "DatasetInfo(description='',\n",
      "            citation='',\n",
      "            homepage='',\n",
      "            license='',\n",
      "            features={'id': Value('string'), 'text': Value('string')},\n",
      "            post_processed=None,\n",
      "            supervised_keys=None,\n",
      "            builder_name='parquet',\n",
      "            dataset_name='project_gutenberg',\n",
      "            config_name='default',\n",
      "            version=0.0.0,\n",
      "            splits={'de': SplitInfo(name='de',\n",
      "                                    num_bytes=1070196924,\n",
      "                                    num_examples=3131,\n",
      "                                    shard_lengths=[2044, 1087],\n",
      "                                    dataset_name='project_gutenberg'),\n",
      "                    'en': SplitInfo(name='en',\n",
      "                                    num_bytes=25616345280,\n",
      "                                    num_examples=61340,\n",
      "                                    shard_lengths=[1180,\n",
      "                                                   1180,\n",
      "                                                   2180,\n",
      "                                                   1360,\n",
      "                                                   2180,\n",
      "                                                   1180,\n",
      "                                                   1180,\n",
      "                                                   1360,\n",
      "                                                   1180,\n",
      "                                                   1180,\n",
      "                                                   2180,\n",
      "                                                   1180,\n",
      "                                                   1360,\n",
      "                                                   2180,\n",
      "                                                   1180,\n",
      "                                                   1360,\n",
      "                                                   2180,\n",
      "                                                   1360,\n",
      "                                                   2180,\n",
      "                                                   1360,\n",
      "                                                   2180,\n",
      "                                                   1180,\n",
      "                                                   1360,\n",
      "                                                   1180,\n",
      "                                                   2180,\n",
      "                                                   1358,\n",
      "                                                   2179,\n",
      "                                                   1358,\n",
      "                                                   2179,\n",
      "                                                   1358,\n",
      "                                                   2179,\n",
      "                                                   1358,\n",
      "                                                   2179,\n",
      "                                                   1358,\n",
      "                                                   2179,\n",
      "                                                   1358,\n",
      "                                                   2179,\n",
      "                                                   1358],\n",
      "                                    dataset_name='project_gutenberg'),\n",
      "                    'es': SplitInfo(name='es',\n",
      "                                    num_bytes=496728508,\n",
      "                                    num_examples=1202,\n",
      "                                    shard_lengths=None,\n",
      "                                    dataset_name='project_gutenberg'),\n",
      "                    'fr': SplitInfo(name='fr',\n",
      "                                    num_bytes=2338871137,\n",
      "                                    num_examples=5493,\n",
      "                                    shard_lengths=[2099, 1198, 2098, 98],\n",
      "                                    dataset_name='project_gutenberg'),\n",
      "                    'it': SplitInfo(name='it',\n",
      "                                    num_bytes=383733486,\n",
      "                                    num_examples=1008,\n",
      "                                    shard_lengths=None,\n",
      "                                    dataset_name='project_gutenberg'),\n",
      "                    'nl': SplitInfo(name='nl',\n",
      "                                    num_bytes=504939551,\n",
      "                                    num_examples=1420,\n",
      "                                    shard_lengths=None,\n",
      "                                    dataset_name='project_gutenberg'),\n",
      "                    'pl': SplitInfo(name='pl',\n",
      "                                    num_bytes=4864460,\n",
      "                                    num_examples=34,\n",
      "                                    shard_lengths=None,\n",
      "                                    dataset_name='project_gutenberg'),\n",
      "                    'pt': SplitInfo(name='pt',\n",
      "                                    num_bytes=204058452,\n",
      "                                    num_examples=1111,\n",
      "                                    shard_lengths=None,\n",
      "                                    dataset_name='project_gutenberg'),\n",
      "                    'ru': SplitInfo(name='ru',\n",
      "                                    num_bytes=943593,\n",
      "                                    num_examples=6,\n",
      "                                    shard_lengths=None,\n",
      "                                    dataset_name='project_gutenberg'),\n",
      "                    'sv': SplitInfo(name='sv',\n",
      "                                    num_bytes=116664385,\n",
      "                                    num_examples=388,\n",
      "                                    shard_lengths=None,\n",
      "                                    dataset_name='project_gutenberg'),\n",
      "                    'zh': SplitInfo(name='zh',\n",
      "                                    num_bytes=174238359,\n",
      "                                    num_examples=437,\n",
      "                                    shard_lengths=None,\n",
      "                                    dataset_name='project_gutenberg')},\n",
      "            download_checksums={'hf://datasets/manu/project_gutenberg@164853d214065df26a630ee1ab91a0c39e461caf/data/de-00000-of-00003-f8e581c008ccc7f2.parquet': {'checksum': None,\n",
      "                                                                                                                                                                  'num_bytes': 142157089},\n",
      "                                'hf://datasets/manu/project_gutenberg@164853d214065df26a630ee1ab91a0c39e461caf/data/de-00001-of-00003-44c9c3b458e2eef3.parquet': {'checksum': None,\n",
      "                                                                                                                                                                  'num_bytes': 134945179},\n",
      "                                'hf://datasets/manu/project_gutenberg@164853d214065df26a630ee1ab91a0c39e461caf/data/de-00002-of-00003-084edb3f286e612c.parquet': {'checksum': None,\n",
      "                                                                                                                                                                  'num_bytes': 148404696},\n",
      "                                'hf://datasets/manu/project_gutenberg@164853d214065df26a630ee1ab91a0c39e461caf/data/en-00000-of-00052-7cda8f63c262acf8.parquet': {'checksum': None,\n",
      "                                                                                                                                                                  'num_bytes': 196766094},\n",
      "                                'hf://datasets/manu/project_gutenberg@164853d214065df26a630ee1ab91a0c39e461caf/data/en-00001-of-00052-5c2b3fd5e60f0124.parquet': {'checksum': None,\n",
      "                                                                                                                                                                  'num_bytes': 209225030},\n",
      "                                'hf://datasets/manu/project_gutenberg@164853d214065df26a630ee1ab91a0c39e461caf/data/en-00002-of-00052-835bd07d97f52cbd.parquet': {'checksum': None,\n",
      "                                                                                                                                                                  'num_bytes': 214679261},\n",
      "                                'hf://datasets/manu/project_gutenberg@164853d214065df26a630ee1ab91a0c39e461caf/data/en-00003-of-00052-3827386b583e4d76.parquet': {'checksum': None,\n",
      "                                                                                                                                                                  'num_bytes': 238508258},\n",
      "                                'hf://datasets/manu/project_gutenberg@164853d214065df26a630ee1ab91a0c39e461caf/data/en-00004-of-00052-a2f24c4fe858fe0f.parquet': {'checksum': None,\n",
      "                                                                                                                                                                  'num_bytes': 267836632},\n",
      "                                'hf://datasets/manu/project_gutenberg@164853d214065df26a630ee1ab91a0c39e461caf/data/en-00005-of-00052-2a13fc98474cabed.parquet': {'checksum': None,\n",
      "                                                                                                                                                                  'num_bytes': 276717928},\n",
      "                                'hf://datasets/manu/project_gutenberg@164853d214065df26a630ee1ab91a0c39e461caf/data/en-00006-of-00052-81d2618caede0093.parquet': {'checksum': None,\n",
      "                                                                                                                                                                  'num_bytes': 194907582},\n",
      "                                'hf://datasets/manu/project_gutenberg@164853d214065df26a630ee1ab91a0c39e461caf/data/en-00007-of-00052-de0de442f370b789.parquet': {'checksum': None,\n",
      "                                                                                                                                                                  'num_bytes': 217399517},\n",
      "                                'hf://datasets/manu/project_gutenberg@164853d214065df26a630ee1ab91a0c39e461caf/data/en-00008-of-00052-a83055e8ef415c07.parquet': {'checksum': None,\n",
      "                                                                                                                                                                  'num_bytes': 244194551},\n",
      "                                'hf://datasets/manu/project_gutenberg@164853d214065df26a630ee1ab91a0c39e461caf/data/en-00009-of-00052-f2f126633fa25668.parquet': {'checksum': None,\n",
      "                                                                                                                                                                  'num_bytes': 236713314},\n",
      "                                'hf://datasets/manu/project_gutenberg@164853d214065df26a630ee1ab91a0c39e461caf/data/en-00010-of-00052-2226b3722aa696eb.parquet': {'checksum': None,\n",
      "                                                                                                                                                                  'num_bytes': 276163707},\n",
      "                                'hf://datasets/manu/project_gutenberg@164853d214065df26a630ee1ab91a0c39e461caf/data/en-00011-of-00052-6c9ae05ed451701f.parquet': {'checksum': None,\n",
      "                                                                                                                                                                  'num_bytes': 318525986},\n",
      "                                'hf://datasets/manu/project_gutenberg@164853d214065df26a630ee1ab91a0c39e461caf/data/en-00012-of-00052-2de5b14941be3266.parquet': {'checksum': None,\n",
      "                                                                                                                                                                  'num_bytes': 200551535},\n",
      "                                'hf://datasets/manu/project_gutenberg@164853d214065df26a630ee1ab91a0c39e461caf/data/en-00013-of-00052-a66a5e317603bb21.parquet': {'checksum': None,\n",
      "                                                                                                                                                                  'num_bytes': 234142773},\n",
      "                                'hf://datasets/manu/project_gutenberg@164853d214065df26a630ee1ab91a0c39e461caf/data/en-00014-of-00052-e976ff9fa7c0a4c2.parquet': {'checksum': None,\n",
      "                                                                                                                                                                  'num_bytes': 233858239},\n",
      "                                'hf://datasets/manu/project_gutenberg@164853d214065df26a630ee1ab91a0c39e461caf/data/en-00015-of-00052-9a9fd49be8a70a6c.parquet': {'checksum': None,\n",
      "                                                                                                                                                                  'num_bytes': 257159426},\n",
      "                                'hf://datasets/manu/project_gutenberg@164853d214065df26a630ee1ab91a0c39e461caf/data/en-00016-of-00052-5006e8c00e35ad72.parquet': {'checksum': None,\n",
      "                                                                                                                                                                  'num_bytes': 278497883},\n",
      "                                'hf://datasets/manu/project_gutenberg@164853d214065df26a630ee1ab91a0c39e461caf/data/en-00017-of-00052-c37121d3035604a6.parquet': {'checksum': None,\n",
      "                                                                                                                                                                  'num_bytes': 196232774},\n",
      "                                'hf://datasets/manu/project_gutenberg@164853d214065df26a630ee1ab91a0c39e461caf/data/en-00018-of-00052-76fc57ebfaac39a2.parquet': {'checksum': None,\n",
      "                                                                                                                                                                  'num_bytes': 215765689},\n",
      "                                'hf://datasets/manu/project_gutenberg@164853d214065df26a630ee1ab91a0c39e461caf/data/en-00019-of-00052-05068b06d8a4ffb7.parquet': {'checksum': None,\n",
      "                                                                                                                                                                  'num_bytes': 234648030},\n",
      "                                'hf://datasets/manu/project_gutenberg@164853d214065df26a630ee1ab91a0c39e461caf/data/en-00020-of-00052-31ef1cece5305678.parquet': {'checksum': None,\n",
      "                                                                                                                                                                  'num_bytes': 243691424},\n",
      "                                'hf://datasets/manu/project_gutenberg@164853d214065df26a630ee1ab91a0c39e461caf/data/en-00021-of-00052-82812d42cefe9a5b.parquet': {'checksum': None,\n",
      "                                                                                                                                                                  'num_bytes': 278928490},\n",
      "                                'hf://datasets/manu/project_gutenberg@164853d214065df26a630ee1ab91a0c39e461caf/data/en-00022-of-00052-061a44c5aeff4f98.parquet': {'checksum': None,\n",
      "                                                                                                                                                                  'num_bytes': 296947323},\n",
      "                                'hf://datasets/manu/project_gutenberg@164853d214065df26a630ee1ab91a0c39e461caf/data/en-00023-of-00052-380917a82781d4aa.parquet': {'checksum': None,\n",
      "                                                                                                                                                                  'num_bytes': 201204511},\n",
      "                                'hf://datasets/manu/project_gutenberg@164853d214065df26a630ee1ab91a0c39e461caf/data/en-00024-of-00052-fb2f9a960ee8c75e.parquet': {'checksum': None,\n",
      "                                                                                                                                                                  'num_bytes': 220788287},\n",
      "                                'hf://datasets/manu/project_gutenberg@164853d214065df26a630ee1ab91a0c39e461caf/data/en-00025-of-00052-9c00570871767dea.parquet': {'checksum': None,\n",
      "                                                                                                                                                                  'num_bytes': 228011306},\n",
      "                                'hf://datasets/manu/project_gutenberg@164853d214065df26a630ee1ab91a0c39e461caf/data/en-00026-of-00052-8719637a331ec653.parquet': {'checksum': None,\n",
      "                                                                                                                                                                  'num_bytes': 248951066},\n",
      "                                'hf://datasets/manu/project_gutenberg@164853d214065df26a630ee1ab91a0c39e461caf/data/en-00027-of-00052-9d8bfd7843e9718f.parquet': {'checksum': None,\n",
      "                                                                                                                                                                  'num_bytes': 277025300},\n",
      "                                'hf://datasets/manu/project_gutenberg@164853d214065df26a630ee1ab91a0c39e461caf/data/en-00028-of-00052-2e237a8d8b810dec.parquet': {'checksum': None,\n",
      "                                                                                                                                                                  'num_bytes': 208595330},\n",
      "                                'hf://datasets/manu/project_gutenberg@164853d214065df26a630ee1ab91a0c39e461caf/data/en-00029-of-00052-780d5f400fd85afa.parquet': {'checksum': None,\n",
      "                                                                                                                                                                  'num_bytes': 199485666},\n",
      "                                'hf://datasets/manu/project_gutenberg@164853d214065df26a630ee1ab91a0c39e461caf/data/en-00030-of-00052-cfdc6f381f17e852.parquet': {'checksum': None,\n",
      "                                                                                                                                                                  'num_bytes': 231378223},\n",
      "                                'hf://datasets/manu/project_gutenberg@164853d214065df26a630ee1ab91a0c39e461caf/data/en-00031-of-00052-e7f5d815a26b08d0.parquet': {'checksum': None,\n",
      "                                                                                                                                                                  'num_bytes': 232360000},\n",
      "                                'hf://datasets/manu/project_gutenberg@164853d214065df26a630ee1ab91a0c39e461caf/data/en-00032-of-00052-4ed9cbf89e3d13b5.parquet': {'checksum': None,\n",
      "                                                                                                                                                                  'num_bytes': 262717682},\n",
      "                                'hf://datasets/manu/project_gutenberg@164853d214065df26a630ee1ab91a0c39e461caf/data/en-00033-of-00052-4c525b2c5bfc7b3f.parquet': {'checksum': None,\n",
      "                                                                                                                                                                  'num_bytes': 277075636},\n",
      "                                'hf://datasets/manu/project_gutenberg@164853d214065df26a630ee1ab91a0c39e461caf/data/en-00034-of-00052-0f04bcad9d91ea41.parquet': {'checksum': None,\n",
      "                                                                                                                                                                  'num_bytes': 196966165},\n",
      "                                'hf://datasets/manu/project_gutenberg@164853d214065df26a630ee1ab91a0c39e461caf/data/en-00035-of-00052-617bd55ce8eaaf8c.parquet': {'checksum': None,\n",
      "                                                                                                                                                                  'num_bytes': 206892670},\n",
      "                                'hf://datasets/manu/project_gutenberg@164853d214065df26a630ee1ab91a0c39e461caf/data/en-00036-of-00052-dea698a178ee5475.parquet': {'checksum': None,\n",
      "                                                                                                                                                                  'num_bytes': 221565537},\n",
      "                                'hf://datasets/manu/project_gutenberg@164853d214065df26a630ee1ab91a0c39e461caf/data/en-00037-of-00052-80239e718491affb.parquet': {'checksum': None,\n",
      "                                                                                                                                                                  'num_bytes': 248251811},\n",
      "                                'hf://datasets/manu/project_gutenberg@164853d214065df26a630ee1ab91a0c39e461caf/data/en-00038-of-00052-671117f0cc621546.parquet': {'checksum': None,\n",
      "                                                                                                                                                                  'num_bytes': 275348212},\n",
      "                                'hf://datasets/manu/project_gutenberg@164853d214065df26a630ee1ab91a0c39e461caf/data/en-00039-of-00052-f766a27e24b911d6.parquet': {'checksum': None,\n",
      "                                                                                                                                                                  'num_bytes': 192144021},\n",
      "                                'hf://datasets/manu/project_gutenberg@164853d214065df26a630ee1ab91a0c39e461caf/data/en-00040-of-00052-5f304ed689a13135.parquet': {'checksum': None,\n",
      "                                                                                                                                                                  'num_bytes': 197362738},\n",
      "                                'hf://datasets/manu/project_gutenberg@164853d214065df26a630ee1ab91a0c39e461caf/data/en-00041-of-00052-6f04cd012627fa08.parquet': {'checksum': None,\n",
      "                                                                                                                                                                  'num_bytes': 209658714},\n",
      "                                'hf://datasets/manu/project_gutenberg@164853d214065df26a630ee1ab91a0c39e461caf/data/en-00042-of-00052-94e90b865e11f015.parquet': {'checksum': None,\n",
      "                                                                                                                                                                  'num_bytes': 221214573},\n",
      "                                'hf://datasets/manu/project_gutenberg@164853d214065df26a630ee1ab91a0c39e461caf/data/en-00043-of-00052-545c5249d7f68142.parquet': {'checksum': None,\n",
      "                                                                                                                                                                  'num_bytes': 253549897},\n",
      "                                'hf://datasets/manu/project_gutenberg@164853d214065df26a630ee1ab91a0c39e461caf/data/en-00044-of-00052-2f8a81e4b2cb26bd.parquet': {'checksum': None,\n",
      "                                                                                                                                                                  'num_bytes': 270036417},\n",
      "                                'hf://datasets/manu/project_gutenberg@164853d214065df26a630ee1ab91a0c39e461caf/data/en-00045-of-00052-bbb08eac7b16b553.parquet': {'checksum': None,\n",
      "                                                                                                                                                                  'num_bytes': 184675064},\n",
      "                                'hf://datasets/manu/project_gutenberg@164853d214065df26a630ee1ab91a0c39e461caf/data/en-00046-of-00052-fbf5b6f877101255.parquet': {'checksum': None,\n",
      "                                                                                                                                                                  'num_bytes': 199992461},\n",
      "                                'hf://datasets/manu/project_gutenberg@164853d214065df26a630ee1ab91a0c39e461caf/data/en-00047-of-00052-b53a9aba6fd08df1.parquet': {'checksum': None,\n",
      "                                                                                                                                                                  'num_bytes': 220051546},\n",
      "                                'hf://datasets/manu/project_gutenberg@164853d214065df26a630ee1ab91a0c39e461caf/data/en-00048-of-00052-c3e4665ddb21ff40.parquet': {'checksum': None,\n",
      "                                                                                                                                                                  'num_bytes': 238423892},\n",
      "                                'hf://datasets/manu/project_gutenberg@164853d214065df26a630ee1ab91a0c39e461caf/data/en-00049-of-00052-238a44ba6d899475.parquet': {'checksum': None,\n",
      "                                                                                                                                                                  'num_bytes': 255597088},\n",
      "                                'hf://datasets/manu/project_gutenberg@164853d214065df26a630ee1ab91a0c39e461caf/data/en-00050-of-00052-119c77546b4d5bc3.parquet': {'checksum': None,\n",
      "                                                                                                                                                                  'num_bytes': 294357079},\n",
      "                                'hf://datasets/manu/project_gutenberg@164853d214065df26a630ee1ab91a0c39e461caf/data/en-00051-of-00052-416e3a1d8d8e7d86.parquet': {'checksum': None,\n",
      "                                                                                                                                                                  'num_bytes': 200354855},\n",
      "                                'hf://datasets/manu/project_gutenberg@164853d214065df26a630ee1ab91a0c39e461caf/data/es-00000-of-00001-ad684e007393cf76.parquet': {'checksum': None,\n",
      "                                                                                                                                                                  'num_bytes': 195245151},\n",
      "                                'hf://datasets/manu/project_gutenberg@164853d214065df26a630ee1ab91a0c39e461caf/data/fr-00000-of-00005-a475c3836a0ce5b5.parquet': {'checksum': None,\n",
      "                                                                                                                                                                  'num_bytes': 188555952},\n",
      "                                'hf://datasets/manu/project_gutenberg@164853d214065df26a630ee1ab91a0c39e461caf/data/fr-00001-of-00005-b6213362f858795a.parquet': {'checksum': None,\n",
      "                                                                                                                                                                  'num_bytes': 185158993},\n",
      "                                'hf://datasets/manu/project_gutenberg@164853d214065df26a630ee1ab91a0c39e461caf/data/fr-00002-of-00005-cf81716abdc38e6a.parquet': {'checksum': None,\n",
      "                                                                                                                                                                  'num_bytes': 202004735},\n",
      "                                'hf://datasets/manu/project_gutenberg@164853d214065df26a630ee1ab91a0c39e461caf/data/fr-00003-of-00005-32d4f9159674f920.parquet': {'checksum': None,\n",
      "                                                                                                                                                                  'num_bytes': 200498306},\n",
      "                                'hf://datasets/manu/project_gutenberg@164853d214065df26a630ee1ab91a0c39e461caf/data/fr-00004-of-00005-6c2bd994bbdaed75.parquet': {'checksum': None,\n",
      "                                                                                                                                                                  'num_bytes': 198676739},\n",
      "                                'hf://datasets/manu/project_gutenberg@164853d214065df26a630ee1ab91a0c39e461caf/data/it-00000-of-00001-62485f87cf89f498.parquet': {'checksum': None,\n",
      "                                                                                                                                                                  'num_bytes': 122609579},\n",
      "                                'hf://datasets/manu/project_gutenberg@164853d214065df26a630ee1ab91a0c39e461caf/data/nl-00000-of-00002-ec9215c2bba222c1.parquet': {'checksum': None,\n",
      "                                                                                                                                                                  'num_bytes': 85536649},\n",
      "                                'hf://datasets/manu/project_gutenberg@164853d214065df26a630ee1ab91a0c39e461caf/data/nl-00001-of-00002-a8989d8ed3a39aaf.parquet': {'checksum': None,\n",
      "                                                                                                                                                                  'num_bytes': 122612648},\n",
      "                                'hf://datasets/manu/project_gutenberg@164853d214065df26a630ee1ab91a0c39e461caf/data/pl-00000-of-00001-68933bed4abc7dfd.parquet': {'checksum': None,\n",
      "                                                                                                                                                                  'num_bytes': 2451566},\n",
      "                                'hf://datasets/manu/project_gutenberg@164853d214065df26a630ee1ab91a0c39e461caf/data/pt-00000-of-00001-f6940f76b5585b13.parquet': {'checksum': None,\n",
      "                                                                                                                                                                  'num_bytes': 73873563},\n",
      "                                'hf://datasets/manu/project_gutenberg@164853d214065df26a630ee1ab91a0c39e461caf/data/ru-00000-of-00001-c0a99d21d8849748.parquet': {'checksum': None,\n",
      "                                                                                                                                                                  'num_bytes': 343355},\n",
      "                                'hf://datasets/manu/project_gutenberg@164853d214065df26a630ee1ab91a0c39e461caf/data/sv-00000-of-00001-6d07271c1c00324d.parquet': {'checksum': None,\n",
      "                                                                                                                                                                  'num_bytes': 40507318},\n",
      "                                'hf://datasets/manu/project_gutenberg@164853d214065df26a630ee1ab91a0c39e461caf/data/zh-00000-of-00001-bca42330c6f1826c.parquet': {'checksum': None,\n",
      "                                                                                                                                                                  'num_bytes': 119578050}},\n",
      "            download_size=14399256761,\n",
      "            post_processing_size=None,\n",
      "            dataset_size=30911584135,\n",
      "            size_in_bytes=45310840896)\n"
     ]
    }
   ],
   "source": [
    "from datasets import load_dataset_builder\n",
    "from pprint import pprint\n",
    "\n",
    "builder = load_dataset_builder(\"manu/project_gutenberg\")\n",
    "pprint(builder.info)"
   ]
  },
  {
   "cell_type": "code",
   "execution_count": null,
   "id": "55a321d3",
   "metadata": {},
   "outputs": [
    {
     "data": {
      "application/vnd.jupyter.widget-view+json": {
       "model_id": "2c4b8d74bda748a88522cf130ae34450",
       "version_major": 2,
       "version_minor": 0
      },
      "text/plain": [
       "README.md: 0.00B [00:00, ?B/s]"
      ]
     },
     "metadata": {},
     "output_type": "display_data"
    },
    {
     "data": {
      "application/vnd.jupyter.widget-view+json": {
       "model_id": "8b32570d96284c9894b9226896007b89",
       "version_major": 2,
       "version_minor": 0
      },
      "text/plain": [
       "Resolving data files:   0%|          | 0/1126 [00:00<?, ?it/s]"
      ]
     },
     "metadata": {},
     "output_type": "display_data"
    },
    {
     "name": "stdout",
     "output_type": "stream",
     "text": [
      "DatasetInfo(description='',\n",
      "            citation='',\n",
      "            homepage='',\n",
      "            license='',\n",
      "            features={'content': Value('string'),\n",
      "                      'license': Value('string'),\n",
      "                      'path': Value('string'),\n",
      "                      'repo_name': Value('string'),\n",
      "                      'size': Value('string')},\n",
      "            post_processed=None,\n",
      "            supervised_keys=None,\n",
      "            builder_name='parquet',\n",
      "            dataset_name='code-parrot-github-code',\n",
      "            config_name='default',\n",
      "            version=0.0.0,\n",
      "            splits={'train': SplitInfo(name='train',\n",
      "                                       num_bytes=876667458419,\n",
      "                                       num_examples=115086922,\n",
      "                                       shard_lengths=None,\n",
      "                                       dataset_name=None)},\n",
      "            download_checksums=None,\n",
      "            download_size=323967059048,\n",
      "            post_processing_size=None,\n",
      "            dataset_size=876667458419,\n",
      "            size_in_bytes=None)\n"
     ]
    }
   ],
   "source": [
    "# https://huggingface.co/datasets/CodedotAI/code_clippy_github\n",
    "builder = load_dataset_builder(\"macrocosm-os/code-parrot-github-code\")\n",
    "# 终于找到一个可以用的代码数据了，但是这个是没有过滤过的，非常大的数据\n",
    "pprint(builder.info)"
   ]
  },
  {
   "cell_type": "code",
   "execution_count": null,
   "id": "99610f6f",
   "metadata": {},
   "outputs": [
    {
     "name": "stdout",
     "output_type": "stream",
     "text": [
      "DatasetInfo(description='',\n",
      "            citation='',\n",
      "            homepage='',\n",
      "            license='',\n",
      "            features={'action_verb': Value('large_string'),\n",
      "                      'adjective': Value('large_string'),\n",
      "                      'common_sense_topic': Value('large_string'),\n",
      "                      'idx': Value('int64'),\n",
      "                      'main_topic': Value('large_string'),\n",
      "                      'programming_language': Value('large_string'),\n",
      "                      'prompt': Value('large_string'),\n",
      "                      'response': Value('large_string'),\n",
      "                      'scenario': Value('large_string'),\n",
      "                      'subtopic': Value('large_string'),\n",
      "                      'target_audience': Value('large_string')},\n",
      "            post_processed=None,\n",
      "            supervised_keys=None,\n",
      "            builder_name='parquet',\n",
      "            dataset_name='tiny-codes',\n",
      "            config_name='default',\n",
      "            version=0.0.0,\n",
      "            splits={'train': SplitInfo(name='train',\n",
      "                                       num_bytes=3860932797,\n",
      "                                       num_examples=1632309,\n",
      "                                       shard_lengths=[219972,\n",
      "                                                      219970,\n",
      "                                                      219974,\n",
      "                                                      219978,\n",
      "                                                      219974,\n",
      "                                                      219977,\n",
      "                                                      219978,\n",
      "                                                      92486],\n",
      "                                       dataset_name='parquet')},\n",
      "            download_checksums=None,\n",
      "            download_size=None,\n",
      "            post_processing_size=None,\n",
      "            dataset_size=3860932797,\n",
      "            size_in_bytes=None)\n"
     ]
    }
   ],
   "source": [
    "# nampdn-ai/tiny-codes\n",
    "# 3G 这个好啊\n",
    "builder = load_dataset_builder(\"nampdn-ai/tiny-codes\")\n",
    "pprint(builder.info)"
   ]
  },
  {
   "cell_type": "code",
   "execution_count": null,
   "id": "8cb3c01b",
   "metadata": {},
   "outputs": [
    {
     "data": {
      "application/vnd.jupyter.widget-view+json": {
       "model_id": "a6ff430f80e24d6dbacd0814c0847b81",
       "version_major": 2,
       "version_minor": 0
      },
      "text/plain": [
       "README.md:   0%|          | 0.00/340 [00:00<?, ?B/s]"
      ]
     },
     "metadata": {},
     "output_type": "display_data"
    },
    {
     "data": {
      "application/vnd.jupyter.widget-view+json": {
       "model_id": "7e22180c8d2947ed8efefb36750ac850",
       "version_major": 2,
       "version_minor": 0
      },
      "text/plain": [
       "github-code-clean.py: 0.00B [00:00, ?B/s]"
      ]
     },
     "metadata": {},
     "output_type": "display_data"
    },
    {
     "ename": "RuntimeError",
     "evalue": "Dataset scripts are no longer supported, but found github-code-clean.py",
     "output_type": "error",
     "traceback": [
      "\u001b[31m---------------------------------------------------------------------------\u001b[39m",
      "\u001b[31mRuntimeError\u001b[39m                              Traceback (most recent call last)",
      "\u001b[36mCell\u001b[39m\u001b[36m \u001b[39m\u001b[32mIn[4]\u001b[39m\u001b[32m, line 1\u001b[39m\n\u001b[32m----> \u001b[39m\u001b[32m1\u001b[39m builder = \u001b[43mload_dataset_builder\u001b[49m\u001b[43m(\u001b[49m\u001b[33;43m\"\u001b[39;49m\u001b[33;43mcodeparrot/github-code-clean\u001b[39;49m\u001b[33;43m\"\u001b[39;49m\u001b[43m)\u001b[49m\n\u001b[32m      2\u001b[39m pprint(builder.info)\n",
      "\u001b[36mFile \u001b[39m\u001b[32m/data2/zhangzhong/src/deep_learning/.venv/lib/python3.12/site-packages/datasets/load.py:1132\u001b[39m, in \u001b[36mload_dataset_builder\u001b[39m\u001b[34m(path, name, data_dir, data_files, cache_dir, features, download_config, download_mode, revision, token, storage_options, **config_kwargs)\u001b[39m\n\u001b[32m   1130\u001b[39m \u001b[38;5;28;01mif\u001b[39;00m features \u001b[38;5;129;01mis\u001b[39;00m \u001b[38;5;129;01mnot\u001b[39;00m \u001b[38;5;28;01mNone\u001b[39;00m:\n\u001b[32m   1131\u001b[39m     features = _fix_for_backward_compatible_features(features)\n\u001b[32m-> \u001b[39m\u001b[32m1132\u001b[39m dataset_module = \u001b[43mdataset_module_factory\u001b[49m\u001b[43m(\u001b[49m\n\u001b[32m   1133\u001b[39m \u001b[43m    \u001b[49m\u001b[43mpath\u001b[49m\u001b[43m,\u001b[49m\n\u001b[32m   1134\u001b[39m \u001b[43m    \u001b[49m\u001b[43mrevision\u001b[49m\u001b[43m=\u001b[49m\u001b[43mrevision\u001b[49m\u001b[43m,\u001b[49m\n\u001b[32m   1135\u001b[39m \u001b[43m    \u001b[49m\u001b[43mdownload_config\u001b[49m\u001b[43m=\u001b[49m\u001b[43mdownload_config\u001b[49m\u001b[43m,\u001b[49m\n\u001b[32m   1136\u001b[39m \u001b[43m    \u001b[49m\u001b[43mdownload_mode\u001b[49m\u001b[43m=\u001b[49m\u001b[43mdownload_mode\u001b[49m\u001b[43m,\u001b[49m\n\u001b[32m   1137\u001b[39m \u001b[43m    \u001b[49m\u001b[43mdata_dir\u001b[49m\u001b[43m=\u001b[49m\u001b[43mdata_dir\u001b[49m\u001b[43m,\u001b[49m\n\u001b[32m   1138\u001b[39m \u001b[43m    \u001b[49m\u001b[43mdata_files\u001b[49m\u001b[43m=\u001b[49m\u001b[43mdata_files\u001b[49m\u001b[43m,\u001b[49m\n\u001b[32m   1139\u001b[39m \u001b[43m    \u001b[49m\u001b[43mcache_dir\u001b[49m\u001b[43m=\u001b[49m\u001b[43mcache_dir\u001b[49m\u001b[43m,\u001b[49m\n\u001b[32m   1140\u001b[39m \u001b[43m\u001b[49m\u001b[43m)\u001b[49m\n\u001b[32m   1141\u001b[39m \u001b[38;5;66;03m# Get dataset builder class\u001b[39;00m\n\u001b[32m   1142\u001b[39m builder_kwargs = dataset_module.builder_kwargs\n",
      "\u001b[36mFile \u001b[39m\u001b[32m/data2/zhangzhong/src/deep_learning/.venv/lib/python3.12/site-packages/datasets/load.py:1031\u001b[39m, in \u001b[36mdataset_module_factory\u001b[39m\u001b[34m(path, revision, download_config, download_mode, data_dir, data_files, cache_dir, **download_kwargs)\u001b[39m\n\u001b[32m   1026\u001b[39m             \u001b[38;5;28;01mif\u001b[39;00m \u001b[38;5;28misinstance\u001b[39m(e1, \u001b[38;5;167;01mFileNotFoundError\u001b[39;00m):\n\u001b[32m   1027\u001b[39m                 \u001b[38;5;28;01mraise\u001b[39;00m \u001b[38;5;167;01mFileNotFoundError\u001b[39;00m(\n\u001b[32m   1028\u001b[39m                     \u001b[33mf\u001b[39m\u001b[33m\"\u001b[39m\u001b[33mCouldn\u001b[39m\u001b[33m'\u001b[39m\u001b[33mt find any data file at \u001b[39m\u001b[38;5;132;01m{\u001b[39;00mrelative_to_absolute_path(path)\u001b[38;5;132;01m}\u001b[39;00m\u001b[33m. \u001b[39m\u001b[33m\"\u001b[39m\n\u001b[32m   1029\u001b[39m                     \u001b[33mf\u001b[39m\u001b[33m\"\u001b[39m\u001b[33mCouldn\u001b[39m\u001b[33m'\u001b[39m\u001b[33mt find \u001b[39m\u001b[33m'\u001b[39m\u001b[38;5;132;01m{\u001b[39;00mpath\u001b[38;5;132;01m}\u001b[39;00m\u001b[33m'\u001b[39m\u001b[33m on the Hugging Face Hub either: \u001b[39m\u001b[38;5;132;01m{\u001b[39;00m\u001b[38;5;28mtype\u001b[39m(e1).\u001b[34m__name__\u001b[39m\u001b[38;5;132;01m}\u001b[39;00m\u001b[33m: \u001b[39m\u001b[38;5;132;01m{\u001b[39;00me1\u001b[38;5;132;01m}\u001b[39;00m\u001b[33m\"\u001b[39m\n\u001b[32m   1030\u001b[39m                 ) \u001b[38;5;28;01mfrom\u001b[39;00m\u001b[38;5;250m \u001b[39m\u001b[38;5;28;01mNone\u001b[39;00m\n\u001b[32m-> \u001b[39m\u001b[32m1031\u001b[39m             \u001b[38;5;28;01mraise\u001b[39;00m e1 \u001b[38;5;28;01mfrom\u001b[39;00m\u001b[38;5;250m \u001b[39m\u001b[38;5;28;01mNone\u001b[39;00m\n\u001b[32m   1032\u001b[39m \u001b[38;5;28;01melse\u001b[39;00m:\n\u001b[32m   1033\u001b[39m     \u001b[38;5;28;01mraise\u001b[39;00m \u001b[38;5;167;01mFileNotFoundError\u001b[39;00m(\u001b[33mf\u001b[39m\u001b[33m\"\u001b[39m\u001b[33mCouldn\u001b[39m\u001b[33m'\u001b[39m\u001b[33mt find any data file at \u001b[39m\u001b[38;5;132;01m{\u001b[39;00mrelative_to_absolute_path(path)\u001b[38;5;132;01m}\u001b[39;00m\u001b[33m.\u001b[39m\u001b[33m\"\u001b[39m)\n",
      "\u001b[36mFile \u001b[39m\u001b[32m/data2/zhangzhong/src/deep_learning/.venv/lib/python3.12/site-packages/datasets/load.py:989\u001b[39m, in \u001b[36mdataset_module_factory\u001b[39m\u001b[34m(path, revision, download_config, download_mode, data_dir, data_files, cache_dir, **download_kwargs)\u001b[39m\n\u001b[32m    981\u001b[39m \u001b[38;5;28;01mtry\u001b[39;00m:\n\u001b[32m    982\u001b[39m     api.hf_hub_download(\n\u001b[32m    983\u001b[39m         repo_id=path,\n\u001b[32m    984\u001b[39m         filename=filename,\n\u001b[32m   (...)\u001b[39m\u001b[32m    987\u001b[39m         proxies=download_config.proxies,\n\u001b[32m    988\u001b[39m     )\n\u001b[32m--> \u001b[39m\u001b[32m989\u001b[39m     \u001b[38;5;28;01mraise\u001b[39;00m \u001b[38;5;167;01mRuntimeError\u001b[39;00m(\u001b[33mf\u001b[39m\u001b[33m\"\u001b[39m\u001b[33mDataset scripts are no longer supported, but found \u001b[39m\u001b[38;5;132;01m{\u001b[39;00mfilename\u001b[38;5;132;01m}\u001b[39;00m\u001b[33m\"\u001b[39m)\n\u001b[32m    990\u001b[39m \u001b[38;5;28;01mexcept\u001b[39;00m EntryNotFoundError:\n\u001b[32m    991\u001b[39m     \u001b[38;5;66;03m# Use the infos from the parquet export except in some cases:\u001b[39;00m\n\u001b[32m    992\u001b[39m     \u001b[38;5;28;01mif\u001b[39;00m data_dir \u001b[38;5;129;01mor\u001b[39;00m data_files \u001b[38;5;129;01mor\u001b[39;00m (revision \u001b[38;5;129;01mand\u001b[39;00m revision != \u001b[33m\"\u001b[39m\u001b[33mmain\u001b[39m\u001b[33m\"\u001b[39m):\n",
      "\u001b[31mRuntimeError\u001b[39m: Dataset scripts are no longer supported, but found github-code-clean.py"
     ]
    }
   ],
   "source": [
    "# 这个是旧的数据。。。服了\n",
    "\n",
    "# 这些个数据是没法用的\n",
    "# builder = load_dataset_builder(\"codeparrot/github-code-clean\")\n",
    "# pprint(builder.info)"
   ]
  },
  {
   "cell_type": "code",
   "execution_count": 12,
   "id": "d69dfc5e",
   "metadata": {},
   "outputs": [
    {
     "data": {
      "application/vnd.jupyter.widget-view+json": {
       "model_id": "dea7e1a3f57d46238d0f0a98417fd090",
       "version_major": 2,
       "version_minor": 0
      },
      "text/plain": [
       "README.md: 0.00B [00:00, ?B/s]"
      ]
     },
     "metadata": {},
     "output_type": "display_data"
    },
    {
     "name": "stdout",
     "output_type": "stream",
     "text": [
      "DatasetInfo(description='',\n",
      "            citation='',\n",
      "            homepage='',\n",
      "            license='',\n",
      "            features={'INSTRUCTION': Value('string'),\n",
      "                      'METADATA': {'answer_score': Value('int64'),\n",
      "                                   'question_score': Value('int64'),\n",
      "                                   'tags': Value('string')},\n",
      "                      'RESPONSE': Value('string'),\n",
      "                      'SOURCE': Value('string')},\n",
      "            post_processed=None,\n",
      "            supervised_keys=None,\n",
      "            builder_name='parquet',\n",
      "            dataset_name='oa-stackexchange',\n",
      "            config_name='default',\n",
      "            version=0.0.0,\n",
      "            splits={'train': SplitInfo(name='train',\n",
      "                                       num_bytes=6549838664,\n",
      "                                       num_examples=6331083,\n",
      "                                       shard_lengths=None,\n",
      "                                       dataset_name=None)},\n",
      "            download_checksums=None,\n",
      "            download_size=3755782987,\n",
      "            post_processing_size=None,\n",
      "            dataset_size=6549838664,\n",
      "            size_in_bytes=None)\n"
     ]
    }
   ],
   "source": [
    "# builder = load_dataset_builder(\"flax-sentence-embeddings/stackexchange_title_best_voted_answer_jsonl\")\n",
    "# pprint(builder.info)\n",
    "# ArmelR/stack-exchange-instruction\n",
    "# flax-sentence-embeddings/stackexchange_titlebody_best_and_down_voted_answer_jsonl\n",
    "# builder = load_dataset_builder(\"ArmelR/stack-exchange-instruction\")\n",
    "# builder = load_dataset_builder(\"flax-sentence-embeddings/stackexchange_titlebody_best_and_down_voted_answer_jsonl\")\n",
    "\n",
    "# 这个感觉拿来做instruct fine tune是不错的，作为预训练数据太少了 458M\n",
    "# PrimeIntellect/stackexchange-question-answering\n",
    "# builder = load_dataset_builder(\"PrimeIntellect/stackexchange-question-answering\")\n",
    "\n",
    "# donfu/oa-stackexchange\n",
    "builder = load_dataset_builder(\"donfu/oa-stackexchange\")\n",
    "\n",
    "pprint(builder.info)"
   ]
  },
  {
   "cell_type": "code",
   "execution_count": null,
   "id": "49c5ec3d",
   "metadata": {},
   "outputs": [
    {
     "data": {
      "application/vnd.jupyter.widget-view+json": {
       "model_id": "3e35b433e3c4495fa1d2b6d70de006fd",
       "version_major": 2,
       "version_minor": 0
      },
      "text/plain": [
       "README.md: 0.00B [00:00, ?B/s]"
      ]
     },
     "metadata": {},
     "output_type": "display_data"
    },
    {
     "data": {
      "application/vnd.jupyter.widget-view+json": {
       "model_id": "9fbaa46e195140f395e7fa58ef6aa069",
       "version_major": 2,
       "version_minor": 0
      },
      "text/plain": [
       "code_search_net.py: 0.00B [00:00, ?B/s]"
      ]
     },
     "metadata": {},
     "output_type": "display_data"
    },
    {
     "ename": "RuntimeError",
     "evalue": "Dataset scripts are no longer supported, but found code_search_net.py",
     "output_type": "error",
     "traceback": [
      "\u001b[31m---------------------------------------------------------------------------\u001b[39m",
      "\u001b[31mRuntimeError\u001b[39m                              Traceback (most recent call last)",
      "\u001b[36mCell\u001b[39m\u001b[36m \u001b[39m\u001b[32mIn[9]\u001b[39m\u001b[32m, line 2\u001b[39m\n\u001b[32m      1\u001b[39m \u001b[38;5;66;03m# code-search-net/code_search_net\u001b[39;00m\n\u001b[32m----> \u001b[39m\u001b[32m2\u001b[39m builder = \u001b[43mload_dataset_builder\u001b[49m\u001b[43m(\u001b[49m\u001b[33;43m\"\u001b[39;49m\u001b[33;43mcode-search-net/code_search_net\u001b[39;49m\u001b[33;43m\"\u001b[39;49m\u001b[43m)\u001b[49m\n\u001b[32m      3\u001b[39m pprint(builder.info)\n",
      "\u001b[36mFile \u001b[39m\u001b[32m/data2/zhangzhong/src/deep_learning/.venv/lib/python3.12/site-packages/datasets/load.py:1132\u001b[39m, in \u001b[36mload_dataset_builder\u001b[39m\u001b[34m(path, name, data_dir, data_files, cache_dir, features, download_config, download_mode, revision, token, storage_options, **config_kwargs)\u001b[39m\n\u001b[32m   1130\u001b[39m \u001b[38;5;28;01mif\u001b[39;00m features \u001b[38;5;129;01mis\u001b[39;00m \u001b[38;5;129;01mnot\u001b[39;00m \u001b[38;5;28;01mNone\u001b[39;00m:\n\u001b[32m   1131\u001b[39m     features = _fix_for_backward_compatible_features(features)\n\u001b[32m-> \u001b[39m\u001b[32m1132\u001b[39m dataset_module = \u001b[43mdataset_module_factory\u001b[49m\u001b[43m(\u001b[49m\n\u001b[32m   1133\u001b[39m \u001b[43m    \u001b[49m\u001b[43mpath\u001b[49m\u001b[43m,\u001b[49m\n\u001b[32m   1134\u001b[39m \u001b[43m    \u001b[49m\u001b[43mrevision\u001b[49m\u001b[43m=\u001b[49m\u001b[43mrevision\u001b[49m\u001b[43m,\u001b[49m\n\u001b[32m   1135\u001b[39m \u001b[43m    \u001b[49m\u001b[43mdownload_config\u001b[49m\u001b[43m=\u001b[49m\u001b[43mdownload_config\u001b[49m\u001b[43m,\u001b[49m\n\u001b[32m   1136\u001b[39m \u001b[43m    \u001b[49m\u001b[43mdownload_mode\u001b[49m\u001b[43m=\u001b[49m\u001b[43mdownload_mode\u001b[49m\u001b[43m,\u001b[49m\n\u001b[32m   1137\u001b[39m \u001b[43m    \u001b[49m\u001b[43mdata_dir\u001b[49m\u001b[43m=\u001b[49m\u001b[43mdata_dir\u001b[49m\u001b[43m,\u001b[49m\n\u001b[32m   1138\u001b[39m \u001b[43m    \u001b[49m\u001b[43mdata_files\u001b[49m\u001b[43m=\u001b[49m\u001b[43mdata_files\u001b[49m\u001b[43m,\u001b[49m\n\u001b[32m   1139\u001b[39m \u001b[43m    \u001b[49m\u001b[43mcache_dir\u001b[49m\u001b[43m=\u001b[49m\u001b[43mcache_dir\u001b[49m\u001b[43m,\u001b[49m\n\u001b[32m   1140\u001b[39m \u001b[43m\u001b[49m\u001b[43m)\u001b[49m\n\u001b[32m   1141\u001b[39m \u001b[38;5;66;03m# Get dataset builder class\u001b[39;00m\n\u001b[32m   1142\u001b[39m builder_kwargs = dataset_module.builder_kwargs\n",
      "\u001b[36mFile \u001b[39m\u001b[32m/data2/zhangzhong/src/deep_learning/.venv/lib/python3.12/site-packages/datasets/load.py:1031\u001b[39m, in \u001b[36mdataset_module_factory\u001b[39m\u001b[34m(path, revision, download_config, download_mode, data_dir, data_files, cache_dir, **download_kwargs)\u001b[39m\n\u001b[32m   1026\u001b[39m             \u001b[38;5;28;01mif\u001b[39;00m \u001b[38;5;28misinstance\u001b[39m(e1, \u001b[38;5;167;01mFileNotFoundError\u001b[39;00m):\n\u001b[32m   1027\u001b[39m                 \u001b[38;5;28;01mraise\u001b[39;00m \u001b[38;5;167;01mFileNotFoundError\u001b[39;00m(\n\u001b[32m   1028\u001b[39m                     \u001b[33mf\u001b[39m\u001b[33m\"\u001b[39m\u001b[33mCouldn\u001b[39m\u001b[33m'\u001b[39m\u001b[33mt find any data file at \u001b[39m\u001b[38;5;132;01m{\u001b[39;00mrelative_to_absolute_path(path)\u001b[38;5;132;01m}\u001b[39;00m\u001b[33m. \u001b[39m\u001b[33m\"\u001b[39m\n\u001b[32m   1029\u001b[39m                     \u001b[33mf\u001b[39m\u001b[33m\"\u001b[39m\u001b[33mCouldn\u001b[39m\u001b[33m'\u001b[39m\u001b[33mt find \u001b[39m\u001b[33m'\u001b[39m\u001b[38;5;132;01m{\u001b[39;00mpath\u001b[38;5;132;01m}\u001b[39;00m\u001b[33m'\u001b[39m\u001b[33m on the Hugging Face Hub either: \u001b[39m\u001b[38;5;132;01m{\u001b[39;00m\u001b[38;5;28mtype\u001b[39m(e1).\u001b[34m__name__\u001b[39m\u001b[38;5;132;01m}\u001b[39;00m\u001b[33m: \u001b[39m\u001b[38;5;132;01m{\u001b[39;00me1\u001b[38;5;132;01m}\u001b[39;00m\u001b[33m\"\u001b[39m\n\u001b[32m   1030\u001b[39m                 ) \u001b[38;5;28;01mfrom\u001b[39;00m\u001b[38;5;250m \u001b[39m\u001b[38;5;28;01mNone\u001b[39;00m\n\u001b[32m-> \u001b[39m\u001b[32m1031\u001b[39m             \u001b[38;5;28;01mraise\u001b[39;00m e1 \u001b[38;5;28;01mfrom\u001b[39;00m\u001b[38;5;250m \u001b[39m\u001b[38;5;28;01mNone\u001b[39;00m\n\u001b[32m   1032\u001b[39m \u001b[38;5;28;01melse\u001b[39;00m:\n\u001b[32m   1033\u001b[39m     \u001b[38;5;28;01mraise\u001b[39;00m \u001b[38;5;167;01mFileNotFoundError\u001b[39;00m(\u001b[33mf\u001b[39m\u001b[33m\"\u001b[39m\u001b[33mCouldn\u001b[39m\u001b[33m'\u001b[39m\u001b[33mt find any data file at \u001b[39m\u001b[38;5;132;01m{\u001b[39;00mrelative_to_absolute_path(path)\u001b[38;5;132;01m}\u001b[39;00m\u001b[33m.\u001b[39m\u001b[33m\"\u001b[39m)\n",
      "\u001b[36mFile \u001b[39m\u001b[32m/data2/zhangzhong/src/deep_learning/.venv/lib/python3.12/site-packages/datasets/load.py:989\u001b[39m, in \u001b[36mdataset_module_factory\u001b[39m\u001b[34m(path, revision, download_config, download_mode, data_dir, data_files, cache_dir, **download_kwargs)\u001b[39m\n\u001b[32m    981\u001b[39m \u001b[38;5;28;01mtry\u001b[39;00m:\n\u001b[32m    982\u001b[39m     api.hf_hub_download(\n\u001b[32m    983\u001b[39m         repo_id=path,\n\u001b[32m    984\u001b[39m         filename=filename,\n\u001b[32m   (...)\u001b[39m\u001b[32m    987\u001b[39m         proxies=download_config.proxies,\n\u001b[32m    988\u001b[39m     )\n\u001b[32m--> \u001b[39m\u001b[32m989\u001b[39m     \u001b[38;5;28;01mraise\u001b[39;00m \u001b[38;5;167;01mRuntimeError\u001b[39;00m(\u001b[33mf\u001b[39m\u001b[33m\"\u001b[39m\u001b[33mDataset scripts are no longer supported, but found \u001b[39m\u001b[38;5;132;01m{\u001b[39;00mfilename\u001b[38;5;132;01m}\u001b[39;00m\u001b[33m\"\u001b[39m)\n\u001b[32m    990\u001b[39m \u001b[38;5;28;01mexcept\u001b[39;00m EntryNotFoundError:\n\u001b[32m    991\u001b[39m     \u001b[38;5;66;03m# Use the infos from the parquet export except in some cases:\u001b[39;00m\n\u001b[32m    992\u001b[39m     \u001b[38;5;28;01mif\u001b[39;00m data_dir \u001b[38;5;129;01mor\u001b[39;00m data_files \u001b[38;5;129;01mor\u001b[39;00m (revision \u001b[38;5;129;01mand\u001b[39;00m revision != \u001b[33m\"\u001b[39m\u001b[33mmain\u001b[39m\u001b[33m\"\u001b[39m):\n",
      "\u001b[31mRuntimeError\u001b[39m: Dataset scripts are no longer supported, but found code_search_net.py"
     ]
    }
   ],
   "source": [
    "# code-search-net/code_search_net\n",
    "# older dataset\n",
    "# builder = load_dataset_builder(\"code-search-net/code_search_net\")\n",
    "# pprint(builder.info)"
   ]
  }
 ],
 "metadata": {
  "kernelspec": {
   "display_name": "deep-learning",
   "language": "python",
   "name": "python3"
  },
  "language_info": {
   "codemirror_mode": {
    "name": "ipython",
    "version": 3
   },
   "file_extension": ".py",
   "mimetype": "text/x-python",
   "name": "python",
   "nbconvert_exporter": "python",
   "pygments_lexer": "ipython3",
   "version": "3.12.9"
  }
 },
 "nbformat": 4,
 "nbformat_minor": 5
}
