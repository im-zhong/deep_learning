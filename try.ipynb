{
 "cells": [
  {
   "cell_type": "code",
   "execution_count": 33,
   "metadata": {},
   "outputs": [],
   "source": [
    "# 2023/9/28\n",
    "# zhangzhong"
   ]
  },
  {
   "cell_type": "code",
   "execution_count": 34,
   "metadata": {},
   "outputs": [],
   "source": [
    "import torch\n",
    "import torch.nn.functional as F\n",
    "from torch import Tensor, nn"
   ]
  },
  {
   "cell_type": "code",
   "execution_count": 35,
   "metadata": {},
   "outputs": [
    {
     "name": "stdout",
     "output_type": "stream",
     "text": [
      "tensor([[1, 2, 3],\n",
      "        [4, 5, 6],\n",
      "        [7, 8, 9]])\n",
      "tensor([[7, 8, 9],\n",
      "        [4, 5, 6],\n",
      "        [1, 2, 3]])\n"
     ]
    }
   ],
   "source": [
    "a = torch.tensor([[1, 2, 3], [4, 5, 6], [7, 8, 9]])\n",
    "print(a)\n",
    "# https://stackoverflow.com/questions/71723788/how-to-reverse-order-of-rows-in-a-tensor\n",
    "# https://pytorch.org/docs/stable/generated/torch.flip.html\n",
    "b = torch.flip(a, [0])\n",
    "print(b)"
   ]
  },
  {
   "cell_type": "code",
   "execution_count": 36,
   "metadata": {},
   "outputs": [
    {
     "data": {
      "text/plain": [
       "tensor([[0, 1, 0, 0],\n",
       "        [0, 0, 1, 0],\n",
       "        [1, 0, 0, 0]])"
      ]
     },
     "execution_count": 36,
     "metadata": {},
     "output_type": "execute_result"
    }
   ],
   "source": [
    "x = torch.tensor([1, 2, 0])\n",
    "F.one_hot(x, 4)"
   ]
  },
  {
   "cell_type": "code",
   "execution_count": 37,
   "metadata": {},
   "outputs": [
    {
     "data": {
      "text/plain": [
       "tensor([[0, 0, 1]])"
      ]
     },
     "execution_count": 37,
     "metadata": {},
     "output_type": "execute_result"
    }
   ],
   "source": [
    "x = torch.tensor([2])\n",
    "F.one_hot(x, 3)"
   ]
  },
  {
   "cell_type": "code",
   "execution_count": 38,
   "metadata": {},
   "outputs": [
    {
     "name": "stdout",
     "output_type": "stream",
     "text": [
      "tensor(1) tensor([0, 1, 0, 0])\n",
      "tensor(2) tensor([0, 0, 1, 0])\n",
      "tensor(0) tensor([1, 0, 0, 0])\n",
      "tensor(3) tensor([0, 0, 0, 1])\n"
     ]
    }
   ],
   "source": [
    "# https://pytorch.org/docs/stable/generated/torch.nn.functional.one_hot.html\n",
    "x = torch.tensor([[1, 2], [0, 3]])\n",
    "x_one_hot = F.one_hot(x, 4)\n",
    "\n",
    "# 其实就是之前对应位置的某一个数字 变成一个一个one_hot vector\n",
    "print(x[0, 0], x_one_hot[0, 0])\n",
    "print(x[0, 1], x_one_hot[0, 1])\n",
    "print(x[1, 0], x_one_hot[1, 0])\n",
    "print(x[1, 1], x_one_hot[1, 1])"
   ]
  },
  {
   "cell_type": "code",
   "execution_count": 39,
   "metadata": {},
   "outputs": [
    {
     "name": "stdout",
     "output_type": "stream",
     "text": [
      "tensor([[[1, 0, 0, 0, 0, 0],\n",
      "         [0, 1, 0, 0, 0, 0],\n",
      "         [0, 0, 1, 0, 0, 0]],\n",
      "\n",
      "        [[0, 0, 0, 1, 0, 0],\n",
      "         [0, 0, 0, 0, 1, 0],\n",
      "         [0, 0, 0, 0, 0, 1]]])\n",
      "tensor([[1, 0, 0, 0, 0, 0],\n",
      "        [0, 1, 0, 0, 0, 0],\n",
      "        [0, 0, 1, 0, 0, 0]])\n",
      "tensor([[0, 0, 0, 1, 0, 0],\n",
      "        [0, 0, 0, 0, 1, 0],\n",
      "        [0, 0, 0, 0, 0, 1]])\n"
     ]
    }
   ],
   "source": [
    "# 再尝试一下交换维度\n",
    "# batch_size = 2, num_seq = 3\n",
    "x = torch.tensor([[0,1,2], [3,4,5]])\n",
    "x_one_hot = F.one_hot(x, 6)\n",
    "print(x_one_hot)\n",
    "\n",
    "# 现在我们想遍历所有的样本 \n",
    "for x in x_one_hot:\n",
    "    print(x)"
   ]
  },
  {
   "cell_type": "code",
   "execution_count": 40,
   "metadata": {},
   "outputs": [
    {
     "name": "stdout",
     "output_type": "stream",
     "text": [
      "tensor([[1, 0, 0, 0, 0, 0],\n",
      "        [0, 0, 0, 1, 0, 0]])\n",
      "tensor([[0, 1, 0, 0, 0, 0],\n",
      "        [0, 0, 0, 0, 1, 0]])\n",
      "tensor([[0, 0, 1, 0, 0, 0],\n",
      "        [0, 0, 0, 0, 0, 1]])\n"
     ]
    }
   ],
   "source": [
    "# 完全符合我们的推导 太对了!!\n",
    "# https://pytorch.org/docs/stable/generated/torch.transpose.html\n",
    "# Returns a tensor that is a transposed version of input. The given dimensions dim0 and dim1 are swapped.\n",
    "x_t = torch.transpose(x_one_hot, 0, 1)\n",
    "for x in x_t:\n",
    "    print(x)"
   ]
  },
  {
   "cell_type": "code",
   "execution_count": 41,
   "metadata": {},
   "outputs": [
    {
     "name": "stdout",
     "output_type": "stream",
     "text": [
      "1\n",
      "2\n",
      "3\n",
      "4\n",
      "5\n"
     ]
    }
   ],
   "source": [
    "# yield from\n",
    "def funa():\n",
    "    yield 1\n",
    "    yield 2\n",
    "    yield 3\n",
    "    \n",
    "def funb():\n",
    "    yield from funa()\n",
    "    yield 4\n",
    "    yield 5\n",
    "    \n",
    "for x in funb():\n",
    "    print(x)"
   ]
  },
  {
   "cell_type": "code",
   "execution_count": 42,
   "metadata": {},
   "outputs": [
    {
     "data": {
      "text/plain": [
       "tensor([[1, 2, 3],\n",
       "        [1, 2, 3],\n",
       "        [1, 2, 3],\n",
       "        [1, 2, 3]])"
      ]
     },
     "execution_count": 42,
     "metadata": {},
     "output_type": "execute_result"
    }
   ],
   "source": [
    "# list of Tensor can not convert to a whole tensor\n",
    "# outputs: list[Tensor] = []\n",
    "# outputs.append(torch.tensor([1,2,3]))\n",
    "# outputs.append(torch.tensor([1,2,3]))\n",
    "# outputs.append(torch.tensor([1,2,3]))\n",
    "# outputs.append(torch.tensor([1,2,3]))\n",
    "# output = torch.tensor(outputs)\n",
    "\n",
    "# so you can use torch.stack\n",
    "# https://pytorch.org/docs/stable/generated/torch.stack.html\n",
    "# Concatenates a sequence of tensors along a new dimension.\n",
    "# All tensors need to be of the same size.\n",
    "\n",
    "x = torch.tensor([1,2,3])\n",
    "xs = [x, x, x, x]\n",
    "torch.stack(xs)"
   ]
  },
  {
   "cell_type": "code",
   "execution_count": 43,
   "metadata": {},
   "outputs": [
    {
     "data": {
      "text/plain": [
       "tensor([[[1, 2],\n",
       "         [3, 4]],\n",
       "\n",
       "        [[1, 2],\n",
       "         [3, 4]],\n",
       "\n",
       "        [[1, 2],\n",
       "         [3, 4]],\n",
       "\n",
       "        [[1, 2],\n",
       "         [3, 4]]])"
      ]
     },
     "execution_count": 43,
     "metadata": {},
     "output_type": "execute_result"
    }
   ],
   "source": [
    "x = torch.tensor([[1,2,],[3,4,]])\n",
    "xs = [x, x, x, x]\n",
    "torch.stack(xs)"
   ]
  },
  {
   "cell_type": "code",
   "execution_count": 44,
   "metadata": {},
   "outputs": [
    {
     "data": {
      "text/plain": [
       "(torch.Size([2, 4, 2]),\n",
       " tensor([[[1, 2],\n",
       "          [1, 2],\n",
       "          [1, 2],\n",
       "          [1, 2]],\n",
       " \n",
       "         [[3, 4],\n",
       "          [3, 4],\n",
       "          [3, 4],\n",
       "          [3, 4]]]))"
      ]
     },
     "execution_count": 44,
     "metadata": {},
     "output_type": "execute_result"
    }
   ],
   "source": [
    "y = torch.stack(xs, dim=1)\n",
    "y.shape, y"
   ]
  },
  {
   "cell_type": "code",
   "execution_count": 45,
   "metadata": {},
   "outputs": [],
   "source": [
    "# 向量各分量的平方和 就是 l2范数\n",
    "# x = torch.tensor([1,2,3])\n",
    "# x.norm(1)"
   ]
  },
  {
   "cell_type": "code",
   "execution_count": 46,
   "metadata": {},
   "outputs": [
    {
     "name": "stdout",
     "output_type": "stream",
     "text": [
      "tensor([[1., 1.],\n",
      "        [1., 1.]])\n"
     ]
    }
   ],
   "source": [
    "# grad clip\n",
    "# 二维矩阵的grad长什么样子\n",
    "x = torch.tensor([[1, 2], [3, 4]], dtype=torch.float32, requires_grad=True)\n",
    "b = torch.tensor([1, 2], dtype=torch.float32, requires_grad=True)\n",
    "y = x + b\n",
    "y.backward(torch.ones_like(x))\n",
    "print(x.grad)\n"
   ]
  },
  {
   "cell_type": "code",
   "execution_count": 47,
   "metadata": {},
   "outputs": [
    {
     "name": "stdout",
     "output_type": "stream",
     "text": [
      "tensor([[[1, 2, 3],\n",
      "         [4, 5, 6]],\n",
      "\n",
      "        [[4, 5, 6],\n",
      "         [1, 2, 3]],\n",
      "\n",
      "        [[3, 2, 3],\n",
      "         [1, 3, 4]]])\n"
     ]
    },
    {
     "data": {
      "text/plain": [
       "tensor([[ 8,  9, 12],\n",
       "        [ 6, 10, 13]])"
      ]
     },
     "execution_count": 47,
     "metadata": {},
     "output_type": "execute_result"
    }
   ],
   "source": [
    "# test sum along some axis\n",
    "x1 = torch.tensor([[1,2,3], [4,5,6]])\n",
    "x2 = torch.tensor([[4,5,6], [1,2,3]])\n",
    "x3 = torch.tensor([[3,2,3], [1,3,4]])\n",
    "x = torch.stack([x1, x2, x3])\n",
    "print(x)\n",
    "\n",
    "# now we need to add the two 2x3 matrix, 好像是对的\n",
    "torch.sum(input=x, dim=0)"
   ]
  },
  {
   "cell_type": "code",
   "execution_count": 48,
   "metadata": {},
   "outputs": [
    {
     "name": "stdout",
     "output_type": "stream",
     "text": [
      "torch.Size([1, 64, 5, 7])\n",
      "tensor([[[[2.5000]],\n",
      "\n",
      "         [[2.5000]],\n",
      "\n",
      "         [[3.0000]]]])\n",
      "tensor([[2.5000, 2.5000, 3.0000]])\n"
     ]
    }
   ],
   "source": [
    "# AdaptiveAvgPool2d\n",
    "# https://pytorch.org/docs/stable/generated/torch.nn.AdaptiveAvgPool2d.html\n",
    "pool = nn.AdaptiveAvgPool2d(output_size=(5, 7))\n",
    "input = torch.randn(size=(1, 64, 8, 9))\n",
    "output = pool(input)\n",
    "print(output.shape)\n",
    "# 哦 原来如此 channel是不会变的 指定输出的最后两个维度\n",
    "\n",
    "# 实际上是每个panel上的所有元素做一下avgrage 这样最终输出的就是一个num class 的 logits 然后过cross entropy就可以分类了\n",
    "# 自己构造数据看一下实际的效果 (1, 3, 2, 2)\n",
    "input = torch.tensor(data=[\n",
    "    [[[1,2], [3,4]], [[2,3], [1,4]], [[3,4], [3,2]]]\n",
    "], dtype=torch.float)\n",
    "assert input.shape == (1, 3, 2, 2)\n",
    "pool = nn.AdaptiveAvgPool2d(output_size=(1, 1))\n",
    "output = pool(input)\n",
    "assert output.shape == (1, 3, 1, 1)\n",
    "print(output)\n",
    "flatten = nn.Flatten()\n",
    "output = flatten(output)\n",
    "assert output.shape == (1, 3)\n",
    "assert torch.all(output == torch.tensor([[2.5000, 2.5000, 3.0000]]))\n",
    "print(output)"
   ]
  },
  {
   "cell_type": "code",
   "execution_count": 53,
   "metadata": {},
   "outputs": [
    {
     "name": "stdout",
     "output_type": "stream",
     "text": [
      "torch.Size([4, 4, 4])\n",
      "torch.Size([3])\n",
      "torch.Size([1, 3, 1, 1])\n"
     ]
    }
   ],
   "source": [
    "# conv2d batch norm\n",
    "x = torch.randn(size=(4, 3, 4, 4))\n",
    "y = x.mean(dim=1)\n",
    "print(y.shape)\n",
    "\n",
    "# 好像就剩下channel了\n",
    "y1 = x.mean(dim=(0, 2, 3))\n",
    "print(y1.shape)\n",
    "\n",
    "y2 = x.mean(dim=(0, 2, 3), keepdim=True)\n",
    "print(y2.shape)"
   ]
  }
 ],
 "metadata": {
  "kernelspec": {
   "display_name": "d2l",
   "language": "python",
   "name": "python3"
  },
  "language_info": {
   "codemirror_mode": {
    "name": "ipython",
    "version": 3
   },
   "file_extension": ".py",
   "mimetype": "text/x-python",
   "name": "python",
   "nbconvert_exporter": "python",
   "pygments_lexer": "ipython3",
   "version": "3.10.13"
  },
  "orig_nbformat": 4
 },
 "nbformat": 4,
 "nbformat_minor": 2
}
