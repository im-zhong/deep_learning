{
 "cells": [
  {
   "cell_type": "code",
   "execution_count": 1,
   "metadata": {
    "ExecuteTime": {
     "end_time": "2023-11-23T12:37:35.928988300Z",
     "start_time": "2023-11-23T12:37:35.907307400Z"
    }
   },
   "outputs": [],
   "source": [
    "import torch\n",
    "import torch.nn.functional as F\n",
    "from torch import nn"
   ]
  },
  {
   "cell_type": "code",
   "execution_count": 2,
   "metadata": {
    "ExecuteTime": {
     "end_time": "2023-11-23T12:37:36.004766300Z",
     "start_time": "2023-11-23T12:37:35.925093700Z"
    }
   },
   "outputs": [
    {
     "name": "stdout",
     "output_type": "stream",
     "text": [
      "tensor([[1, 2, 3],\n",
      "        [4, 5, 6],\n",
      "        [7, 8, 9]])\n",
      "tensor([[7, 8, 9],\n",
      "        [4, 5, 6],\n",
      "        [1, 2, 3]])\n"
     ]
    }
   ],
   "source": [
    "a = torch.tensor([[1, 2, 3], [4, 5, 6], [7, 8, 9]])\n",
    "print(a)\n",
    "# https://stackoverflow.com/questions/71723788/how-to-reverse-order-of-rows-in-a-tensor\n",
    "# https://pytorch.org/docs/stable/generated/torch.flip.html\n",
    "b = torch.flip(a, [0])\n",
    "print(b)"
   ]
  },
  {
   "cell_type": "code",
   "execution_count": 3,
   "metadata": {
    "ExecuteTime": {
     "end_time": "2023-11-23T12:37:36.004766300Z",
     "start_time": "2023-11-23T12:37:35.941846500Z"
    }
   },
   "outputs": [
    {
     "data": {
      "text/plain": [
       "tensor([[0, 1, 0, 0],\n",
       "        [0, 0, 1, 0],\n",
       "        [1, 0, 0, 0]])"
      ]
     },
     "execution_count": 3,
     "metadata": {},
     "output_type": "execute_result"
    }
   ],
   "source": [
    "x = torch.tensor([1, 2, 0])\n",
    "F.one_hot(x, 4)"
   ]
  },
  {
   "cell_type": "code",
   "execution_count": 4,
   "metadata": {
    "ExecuteTime": {
     "end_time": "2023-11-23T12:37:36.005776500Z",
     "start_time": "2023-11-23T12:37:35.956618400Z"
    }
   },
   "outputs": [
    {
     "data": {
      "text/plain": [
       "tensor([[0, 0, 1]])"
      ]
     },
     "execution_count": 4,
     "metadata": {},
     "output_type": "execute_result"
    }
   ],
   "source": [
    "x = torch.tensor([2])\n",
    "F.one_hot(x, 3)"
   ]
  },
  {
   "cell_type": "code",
   "execution_count": 5,
   "metadata": {
    "ExecuteTime": {
     "end_time": "2023-11-23T12:37:36.005776500Z",
     "start_time": "2023-11-23T12:37:35.972591600Z"
    },
    "collapsed": false
   },
   "outputs": [],
   "source": [
    "# 2023/9/28\n",
    "# zhangzhong"
   ]
  },
  {
   "cell_type": "code",
   "execution_count": 6,
   "metadata": {
    "ExecuteTime": {
     "end_time": "2023-11-23T12:37:36.005776500Z",
     "start_time": "2023-11-23T12:37:35.987467800Z"
    }
   },
   "outputs": [
    {
     "name": "stdout",
     "output_type": "stream",
     "text": [
      "tensor(1) tensor([0, 1, 0, 0])\n",
      "tensor(2) tensor([0, 0, 1, 0])\n",
      "tensor(0) tensor([1, 0, 0, 0])\n",
      "tensor(3) tensor([0, 0, 0, 1])\n"
     ]
    }
   ],
   "source": [
    "# https://pytorch.org/docs/stable/generated/torch.nn.functional.one_hot.html\n",
    "x = torch.tensor([[1, 2], [0, 3]])\n",
    "x_one_hot = F.one_hot(x, 4)\n",
    "\n",
    "# 其实就是之前对应位置的某一个数字 变成一个一个one_hot vector\n",
    "print(x[0, 0], x_one_hot[0, 0])\n",
    "print(x[0, 1], x_one_hot[0, 1])\n",
    "print(x[1, 0], x_one_hot[1, 0])\n",
    "print(x[1, 1], x_one_hot[1, 1])"
   ]
  },
  {
   "cell_type": "code",
   "execution_count": 7,
   "metadata": {
    "ExecuteTime": {
     "end_time": "2023-11-23T12:37:36.024161400Z",
     "start_time": "2023-11-23T12:37:36.004766300Z"
    }
   },
   "outputs": [
    {
     "name": "stdout",
     "output_type": "stream",
     "text": [
      "tensor([[[1, 0, 0, 0, 0, 0],\n",
      "         [0, 1, 0, 0, 0, 0],\n",
      "         [0, 0, 1, 0, 0, 0]],\n",
      "\n",
      "        [[0, 0, 0, 1, 0, 0],\n",
      "         [0, 0, 0, 0, 1, 0],\n",
      "         [0, 0, 0, 0, 0, 1]]])\n",
      "tensor([[1, 0, 0, 0, 0, 0],\n",
      "        [0, 1, 0, 0, 0, 0],\n",
      "        [0, 0, 1, 0, 0, 0]])\n",
      "tensor([[0, 0, 0, 1, 0, 0],\n",
      "        [0, 0, 0, 0, 1, 0],\n",
      "        [0, 0, 0, 0, 0, 1]])\n"
     ]
    }
   ],
   "source": [
    "# 再尝试一下交换维度\n",
    "# batch_size = 2, num_seq = 3\n",
    "x = torch.tensor([[0, 1, 2], [3, 4, 5]])\n",
    "x_one_hot = F.one_hot(x, 6)\n",
    "print(x_one_hot)\n",
    "\n",
    "# 现在我们想遍历所有的样本 \n",
    "for x in x_one_hot:\n",
    "    print(x)"
   ]
  },
  {
   "cell_type": "code",
   "execution_count": 8,
   "metadata": {
    "ExecuteTime": {
     "end_time": "2023-11-23T12:37:36.124535400Z",
     "start_time": "2023-11-23T12:37:36.019953400Z"
    }
   },
   "outputs": [
    {
     "name": "stdout",
     "output_type": "stream",
     "text": [
      "tensor([[1, 0, 0, 0, 0, 0],\n",
      "        [0, 0, 0, 1, 0, 0]])\n",
      "tensor([[0, 1, 0, 0, 0, 0],\n",
      "        [0, 0, 0, 0, 1, 0]])\n",
      "tensor([[0, 0, 1, 0, 0, 0],\n",
      "        [0, 0, 0, 0, 0, 1]])\n"
     ]
    }
   ],
   "source": [
    "# 完全符合我们的推导 太对了!!\n",
    "# https://pytorch.org/docs/stable/generated/torch.transpose.html\n",
    "# Returns a tensor that is a transposed version of input. The given dimensions dim0 and dim1 are swapped.\n",
    "x_t = torch.transpose(x_one_hot, 0, 1)\n",
    "for x in x_t:\n",
    "    print(x)"
   ]
  },
  {
   "cell_type": "code",
   "execution_count": 9,
   "metadata": {
    "ExecuteTime": {
     "end_time": "2023-11-23T12:37:36.135943200Z",
     "start_time": "2023-11-23T12:37:36.035189800Z"
    }
   },
   "outputs": [
    {
     "name": "stdout",
     "output_type": "stream",
     "text": [
      "1\n",
      "2\n",
      "3\n",
      "4\n",
      "5\n"
     ]
    }
   ],
   "source": [
    "# yield from\n",
    "def funa():\n",
    "    yield 1\n",
    "    yield 2\n",
    "    yield 3\n",
    "\n",
    "\n",
    "def funb():\n",
    "    yield from funa()\n",
    "    yield 4\n",
    "    yield 5\n",
    "\n",
    "\n",
    "for x in funb():\n",
    "    print(x)"
   ]
  },
  {
   "cell_type": "code",
   "execution_count": 10,
   "metadata": {
    "ExecuteTime": {
     "end_time": "2023-11-23T12:37:36.136945500Z",
     "start_time": "2023-11-23T12:37:36.050525700Z"
    }
   },
   "outputs": [
    {
     "data": {
      "text/plain": [
       "tensor([[1, 2, 3],\n",
       "        [1, 2, 3],\n",
       "        [1, 2, 3],\n",
       "        [1, 2, 3]])"
      ]
     },
     "execution_count": 10,
     "metadata": {},
     "output_type": "execute_result"
    }
   ],
   "source": [
    "# list of Tensor can not convert to a whole tensor\n",
    "# outputs: list[Tensor] = []\n",
    "# outputs.append(torch.tensor([1,2,3]))\n",
    "# outputs.append(torch.tensor([1,2,3]))\n",
    "# outputs.append(torch.tensor([1,2,3]))\n",
    "# outputs.append(torch.tensor([1,2,3]))\n",
    "# output = torch.tensor(outputs)\n",
    "\n",
    "# so you can use torch.stack\n",
    "# https://pytorch.org/docs/stable/generated/torch.stack.html\n",
    "# Concatenates a sequence of tensors along a new dimension.\n",
    "# All tensors need to be of the same size.\n",
    "\n",
    "x = torch.tensor([1, 2, 3])\n",
    "xs = [x, x, x, x]\n",
    "torch.stack(xs)"
   ]
  },
  {
   "cell_type": "code",
   "execution_count": 11,
   "metadata": {
    "ExecuteTime": {
     "end_time": "2023-11-23T12:37:36.137946400Z",
     "start_time": "2023-11-23T12:37:36.065890400Z"
    }
   },
   "outputs": [
    {
     "data": {
      "text/plain": [
       "tensor([[[1, 2],\n",
       "         [3, 4]],\n",
       "\n",
       "        [[1, 2],\n",
       "         [3, 4]],\n",
       "\n",
       "        [[1, 2],\n",
       "         [3, 4]],\n",
       "\n",
       "        [[1, 2],\n",
       "         [3, 4]]])"
      ]
     },
     "execution_count": 11,
     "metadata": {},
     "output_type": "execute_result"
    }
   ],
   "source": [
    "x = torch.tensor([[1, 2, ], [3, 4, ]])\n",
    "xs = [x, x, x, x]\n",
    "torch.stack(xs)"
   ]
  },
  {
   "cell_type": "code",
   "execution_count": 12,
   "metadata": {
    "ExecuteTime": {
     "end_time": "2023-11-23T12:37:36.137946400Z",
     "start_time": "2023-11-23T12:37:36.081560100Z"
    }
   },
   "outputs": [
    {
     "data": {
      "text/plain": [
       "(torch.Size([2, 4, 2]),\n",
       " tensor([[[1, 2],\n",
       "          [1, 2],\n",
       "          [1, 2],\n",
       "          [1, 2]],\n",
       " \n",
       "         [[3, 4],\n",
       "          [3, 4],\n",
       "          [3, 4],\n",
       "          [3, 4]]]))"
      ]
     },
     "execution_count": 12,
     "metadata": {},
     "output_type": "execute_result"
    }
   ],
   "source": [
    "y = torch.stack(xs, dim=1)\n",
    "y.shape, y"
   ]
  },
  {
   "cell_type": "code",
   "execution_count": 13,
   "metadata": {
    "ExecuteTime": {
     "end_time": "2023-11-23T12:37:36.138943700Z",
     "start_time": "2023-11-23T12:37:36.098065100Z"
    }
   },
   "outputs": [],
   "source": [
    "# 向量各分量的平方和 就是 l2范数\n",
    "# x = torch.tensor([1,2,3])\n",
    "# x.norm(1)"
   ]
  },
  {
   "cell_type": "code",
   "execution_count": 14,
   "metadata": {
    "ExecuteTime": {
     "end_time": "2023-11-23T12:37:36.138943700Z",
     "start_time": "2023-11-23T12:37:36.115791300Z"
    }
   },
   "outputs": [
    {
     "name": "stdout",
     "output_type": "stream",
     "text": [
      "tensor([[1., 1.],\n",
      "        [1., 1.]])\n"
     ]
    }
   ],
   "source": [
    "# grad clip\n",
    "# 二维矩阵的grad长什么样子\n",
    "x = torch.tensor([[1, 2], [3, 4]], dtype=torch.float32, requires_grad=True)\n",
    "b = torch.tensor([1, 2], dtype=torch.float32, requires_grad=True)\n",
    "y = x + b\n",
    "y.backward(torch.ones_like(x))\n",
    "print(x.grad)\n"
   ]
  },
  {
   "cell_type": "code",
   "execution_count": 15,
   "metadata": {
    "ExecuteTime": {
     "end_time": "2023-11-23T12:37:36.248488200Z",
     "start_time": "2023-11-23T12:37:36.128681400Z"
    }
   },
   "outputs": [
    {
     "name": "stdout",
     "output_type": "stream",
     "text": [
      "tensor([[[1, 2, 3],\n",
      "         [4, 5, 6]],\n",
      "\n",
      "        [[4, 5, 6],\n",
      "         [1, 2, 3]],\n",
      "\n",
      "        [[3, 2, 3],\n",
      "         [1, 3, 4]]])\n"
     ]
    },
    {
     "data": {
      "text/plain": [
       "tensor([[ 8,  9, 12],\n",
       "        [ 6, 10, 13]])"
      ]
     },
     "execution_count": 15,
     "metadata": {},
     "output_type": "execute_result"
    }
   ],
   "source": [
    "# test sum along some axis\n",
    "x1 = torch.tensor([[1, 2, 3], [4, 5, 6]])\n",
    "x2 = torch.tensor([[4, 5, 6], [1, 2, 3]])\n",
    "x3 = torch.tensor([[3, 2, 3], [1, 3, 4]])\n",
    "x = torch.stack([x1, x2, x3])\n",
    "print(x)\n",
    "\n",
    "# now we need to add the two 2x3 matrix, 好像是对的\n",
    "torch.sum(input=x, dim=0)"
   ]
  },
  {
   "cell_type": "code",
   "execution_count": 16,
   "metadata": {
    "ExecuteTime": {
     "end_time": "2023-11-23T12:37:36.249036800Z",
     "start_time": "2023-11-23T12:37:36.162360400Z"
    }
   },
   "outputs": [
    {
     "name": "stdout",
     "output_type": "stream",
     "text": [
      "torch.Size([1, 64, 5, 7])\n",
      "tensor([[[[2.5000]],\n",
      "\n",
      "         [[2.5000]],\n",
      "\n",
      "         [[3.0000]]]])\n",
      "tensor([[2.5000, 2.5000, 3.0000]])\n"
     ]
    }
   ],
   "source": [
    "# AdaptiveAvgPool2d\n",
    "# https://pytorch.org/docs/stable/generated/torch.nn.AdaptiveAvgPool2d.html\n",
    "pool = nn.AdaptiveAvgPool2d(output_size=(5, 7))\n",
    "input = torch.randn(size=(1, 64, 8, 9))\n",
    "output = pool(input)\n",
    "print(output.shape)\n",
    "# 哦 原来如此 channel是不会变的 指定输出的最后两个维度\n",
    "\n",
    "# 实际上是每个panel上的所有元素做一下avgrage 这样最终输出的就是一个num class 的 logits 然后过cross entropy就可以分类了\n",
    "# 自己构造数据看一下实际的效果 (1, 3, 2, 2)\n",
    "input = torch.tensor(data=[\n",
    "    [[[1, 2], [3, 4]], [[2, 3], [1, 4]], [[3, 4], [3, 2]]]\n",
    "], dtype=torch.float)\n",
    "assert input.shape == (1, 3, 2, 2)\n",
    "pool = nn.AdaptiveAvgPool2d(output_size=(1, 1))\n",
    "output = pool(input)\n",
    "assert output.shape == (1, 3, 1, 1)\n",
    "print(output)\n",
    "flatten = nn.Flatten()\n",
    "output = flatten(output)\n",
    "assert output.shape == (1, 3)\n",
    "assert torch.all(output == torch.tensor([[2.5000, 2.5000, 3.0000]]))\n",
    "print(output)"
   ]
  },
  {
   "cell_type": "code",
   "execution_count": 17,
   "metadata": {
    "ExecuteTime": {
     "end_time": "2023-11-23T12:37:36.250042400Z",
     "start_time": "2023-11-23T12:37:36.175236300Z"
    }
   },
   "outputs": [
    {
     "name": "stdout",
     "output_type": "stream",
     "text": [
      "torch.Size([4, 4, 4])\n",
      "torch.Size([3])\n",
      "torch.Size([1, 3, 1, 1])\n"
     ]
    }
   ],
   "source": [
    "# conv2d batch norm\n",
    "x = torch.randn(size=(4, 3, 4, 4))\n",
    "y = x.mean(dim=1)\n",
    "print(y.shape)\n",
    "\n",
    "# 好像就剩下channel了\n",
    "y1 = x.mean(dim=(0, 2, 3))\n",
    "print(y1.shape)\n",
    "\n",
    "y2 = x.mean(dim=(0, 2, 3), keepdim=True)\n",
    "print(y2.shape)"
   ]
  },
  {
   "cell_type": "code",
   "execution_count": 18,
   "metadata": {
    "ExecuteTime": {
     "end_time": "2023-11-23T12:39:58.642793700Z",
     "start_time": "2023-11-23T12:39:58.622208900Z"
    },
    "collapsed": false
   },
   "outputs": [
    {
     "name": "stdout",
     "output_type": "stream",
     "text": [
      "(tensor([[1, 2]]), tensor([[3, 4]]))\n",
      "tensor([[1, 2],\n",
      "        [3, 4]])\n",
      "tensor([[True, True],\n",
      "        [True, True]])\n",
      "(tensor([[1],\n",
      "        [3]]), tensor([[2],\n",
      "        [4]]))\n",
      "tensor([[1, 2],\n",
      "        [3, 4]])\n"
     ]
    }
   ],
   "source": [
    "# split and cat\n",
    "x = torch.tensor(data=[[1, 2], [3, 4]])\n",
    "y = x.split(split_size=1, dim=0)\n",
    "print(y)\n",
    "z = torch.cat(y, dim=0)\n",
    "print(z)\n",
    "# t的类型推断是错误的 应该是tensor 但是推断成了bool\n",
    "t = (z == x)\n",
    "print(t)\n",
    "\n",
    "y = x.split(split_size=1, dim=1)\n",
    "print(y)\n",
    "z = torch.cat(y, dim=1)\n",
    "print(z)\n",
    "assert torch.all(z == x)\n"
   ]
  },
  {
   "cell_type": "code",
   "execution_count": 19,
   "metadata": {
    "ExecuteTime": {
     "end_time": "2023-11-23T12:37:36.250546600Z",
     "start_time": "2023-11-23T12:37:36.206510400Z"
    },
    "collapsed": false
   },
   "outputs": [
    {
     "name": "stderr",
     "output_type": "stream",
     "text": [
      "/tmp/ipykernel_9788/1580358168.py:1: UserWarning: torch.range is deprecated and will be removed in a future release because its behavior is inconsistent with Python's range builtin. Instead, use torch.arange, which produces values in [start, end).\n",
      "  torch.range(start=0, end=12)\n"
     ]
    },
    {
     "data": {
      "text/plain": [
       "tensor([ 0.,  1.,  2.,  3.,  4.,  5.,  6.,  7.,  8.,  9., 10., 11., 12.])"
      ]
     },
     "execution_count": 19,
     "metadata": {},
     "output_type": "execute_result"
    }
   ],
   "source": [
    "torch.range(start=0, end=12)"
   ]
  },
  {
   "cell_type": "code",
   "execution_count": 21,
   "metadata": {},
   "outputs": [
    {
     "name": "stdout",
     "output_type": "stream",
     "text": [
      "torch.Size([32, 64, 16, 16])\n",
      "torch.Size([32, 64, 8, 8])\n"
     ]
    },
    {
     "name": "stderr",
     "output_type": "stream",
     "text": [
      "/data/zhangzhong/anaconda3/envs/ml/lib/python3.10/site-packages/torch/nn/modules/lazy.py:180: UserWarning: Lazy modules are a new feature under heavy development so changes to the API or functionality can happen at any moment.\n",
      "  warnings.warn('Lazy modules are a new feature under heavy development '\n"
     ]
    }
   ],
   "source": [
    "# check the output of conv\n",
    "batch_size = 32\n",
    "out_channels = 64\n",
    "\n",
    "conv = nn.LazyConv2d(out_channels=out_channels, kernel_size=7, stride=2, padding=3)\n",
    "x = torch.randn(size=(batch_size, 3, 32, 32))\n",
    "y = conv(x)\n",
    "print(y.shape)\n",
    "\n",
    "pool = nn.MaxPool2d(kernel_size=3, stride=2, padding=1)\n",
    "y = pool(y)\n",
    "print(y.shape)"
   ]
  },
  {
   "cell_type": "code",
   "execution_count": 33,
   "metadata": {},
   "outputs": [
    {
     "name": "stdout",
     "output_type": "stream",
     "text": [
      "torch.Size([64, 3, 7, 7]) torch.float32\n",
      "torch.Size([64]) torch.float32\n",
      "9472\n"
     ]
    }
   ],
   "source": [
    "import operator, itertools\n",
    "import functools\n",
    "\n",
    "sum = 0\n",
    "for p in conv.parameters():\n",
    "    # https://pytorch.org/docs/stable/generated/torch.nn.parameter.Parameter.html\n",
    "    # p.data: Tensor\n",
    "    print(p.shape, p.data.dtype)\n",
    "    # https://docs.python.org/3.0/library/functools.html#functools.reduce\n",
    "    sum += functools.reduce(operator.mul, p.shape)\n",
    "    \n",
    "# 算了 统计类型其实没啥意义 就单纯看看参数量就行了\n",
    "print(sum)\n"
   ]
  },
  {
   "cell_type": "code",
   "execution_count": 42,
   "metadata": {},
   "outputs": [
    {
     "name": "stdout",
     "output_type": "stream",
     "text": [
      "input shape:  (1, 3, 96, 96)\n",
      "Sequential output shape:  torch.Size([1, 64, 24, 24]) , parameters:  9600\n",
      "ResNetBlock output shape:  torch.Size([1, 64, 24, 24]) , parameters:  74112\n"
     ]
    },
    {
     "ename": "RuntimeError",
     "evalue": "The size of tensor a (128) must match the size of tensor b (64) at non-singleton dimension 1",
     "output_type": "error",
     "traceback": [
      "\u001b[0;31m---------------------------------------------------------------------------\u001b[0m",
      "\u001b[0;31mRuntimeError\u001b[0m                              Traceback (most recent call last)",
      "\u001b[1;32m/data/zhangzhong/src/deep_learning/try.ipynb Cell 22\u001b[0m line \u001b[0;36m4\n\u001b[1;32m      <a href='vscode-notebook-cell://ssh-remote%2B211.81.248.212/data/zhangzhong/src/deep_learning/try.ipynb#X30sdnNjb2RlLXJlbW90ZQ%3D%3D?line=0'>1</a>\u001b[0m \u001b[39mfrom\u001b[39;00m \u001b[39mmodule\u001b[39;00m\u001b[39m.\u001b[39;00m\u001b[39mvision\u001b[39;00m\u001b[39m.\u001b[39;00m\u001b[39mresnet\u001b[39;00m \u001b[39mimport\u001b[39;00m ResNet18\n\u001b[1;32m      <a href='vscode-notebook-cell://ssh-remote%2B211.81.248.212/data/zhangzhong/src/deep_learning/try.ipynb#X30sdnNjb2RlLXJlbW90ZQ%3D%3D?line=2'>3</a>\u001b[0m net \u001b[39m=\u001b[39m ResNet18()\n\u001b[0;32m----> <a href='vscode-notebook-cell://ssh-remote%2B211.81.248.212/data/zhangzhong/src/deep_learning/try.ipynb#X30sdnNjb2RlLXJlbW90ZQ%3D%3D?line=3'>4</a>\u001b[0m net\u001b[39m.\u001b[39;49msummary(shape\u001b[39m=\u001b[39;49m(\u001b[39m1\u001b[39;49m, \u001b[39m3\u001b[39;49m, \u001b[39m96\u001b[39;49m, \u001b[39m96\u001b[39;49m))\n",
      "File \u001b[0;32m~/src/deep_learning/module/vision/resnet.py:106\u001b[0m, in \u001b[0;36mResNet18.summary\u001b[0;34m(self, shape)\u001b[0m\n\u001b[1;32m    104\u001b[0m num_params \u001b[39m=\u001b[39m \u001b[39m0\u001b[39m\n\u001b[1;32m    105\u001b[0m \u001b[39mfor\u001b[39;00m layer \u001b[39min\u001b[39;00m \u001b[39mself\u001b[39m\u001b[39m.\u001b[39mnet:\n\u001b[0;32m--> 106\u001b[0m     x \u001b[39m=\u001b[39m layer(x)\n\u001b[1;32m    108\u001b[0m     layer_params \u001b[39m=\u001b[39m \u001b[39m0\u001b[39m\n\u001b[1;32m    109\u001b[0m     \u001b[39mfor\u001b[39;00m p \u001b[39min\u001b[39;00m layer\u001b[39m.\u001b[39mparameters():\n",
      "File \u001b[0;32m~/anaconda3/envs/ml/lib/python3.10/site-packages/torch/nn/modules/module.py:1501\u001b[0m, in \u001b[0;36mModule._call_impl\u001b[0;34m(self, *args, **kwargs)\u001b[0m\n\u001b[1;32m   1496\u001b[0m \u001b[39m# If we don't have any hooks, we want to skip the rest of the logic in\u001b[39;00m\n\u001b[1;32m   1497\u001b[0m \u001b[39m# this function, and just call forward.\u001b[39;00m\n\u001b[1;32m   1498\u001b[0m \u001b[39mif\u001b[39;00m \u001b[39mnot\u001b[39;00m (\u001b[39mself\u001b[39m\u001b[39m.\u001b[39m_backward_hooks \u001b[39mor\u001b[39;00m \u001b[39mself\u001b[39m\u001b[39m.\u001b[39m_backward_pre_hooks \u001b[39mor\u001b[39;00m \u001b[39mself\u001b[39m\u001b[39m.\u001b[39m_forward_hooks \u001b[39mor\u001b[39;00m \u001b[39mself\u001b[39m\u001b[39m.\u001b[39m_forward_pre_hooks\n\u001b[1;32m   1499\u001b[0m         \u001b[39mor\u001b[39;00m _global_backward_pre_hooks \u001b[39mor\u001b[39;00m _global_backward_hooks\n\u001b[1;32m   1500\u001b[0m         \u001b[39mor\u001b[39;00m _global_forward_hooks \u001b[39mor\u001b[39;00m _global_forward_pre_hooks):\n\u001b[0;32m-> 1501\u001b[0m     \u001b[39mreturn\u001b[39;00m forward_call(\u001b[39m*\u001b[39;49margs, \u001b[39m*\u001b[39;49m\u001b[39m*\u001b[39;49mkwargs)\n\u001b[1;32m   1502\u001b[0m \u001b[39m# Do not call functions when jit is used\u001b[39;00m\n\u001b[1;32m   1503\u001b[0m full_backward_hooks, non_full_backward_hooks \u001b[39m=\u001b[39m [], []\n",
      "File \u001b[0;32m~/src/deep_learning/module/vision/resnet.py:57\u001b[0m, in \u001b[0;36mResNetBlock.forward\u001b[0;34m(self, input)\u001b[0m\n\u001b[1;32m     56\u001b[0m \u001b[39mdef\u001b[39;00m \u001b[39mforward\u001b[39m(\u001b[39mself\u001b[39m, \u001b[39minput\u001b[39m: Tensor) \u001b[39m-\u001b[39m\u001b[39m>\u001b[39m Tensor:\n\u001b[0;32m---> 57\u001b[0m     \u001b[39mreturn\u001b[39;00m \u001b[39mself\u001b[39;49m\u001b[39m.\u001b[39;49mnet(\u001b[39minput\u001b[39;49m)\n",
      "File \u001b[0;32m~/anaconda3/envs/ml/lib/python3.10/site-packages/torch/nn/modules/module.py:1501\u001b[0m, in \u001b[0;36mModule._call_impl\u001b[0;34m(self, *args, **kwargs)\u001b[0m\n\u001b[1;32m   1496\u001b[0m \u001b[39m# If we don't have any hooks, we want to skip the rest of the logic in\u001b[39;00m\n\u001b[1;32m   1497\u001b[0m \u001b[39m# this function, and just call forward.\u001b[39;00m\n\u001b[1;32m   1498\u001b[0m \u001b[39mif\u001b[39;00m \u001b[39mnot\u001b[39;00m (\u001b[39mself\u001b[39m\u001b[39m.\u001b[39m_backward_hooks \u001b[39mor\u001b[39;00m \u001b[39mself\u001b[39m\u001b[39m.\u001b[39m_backward_pre_hooks \u001b[39mor\u001b[39;00m \u001b[39mself\u001b[39m\u001b[39m.\u001b[39m_forward_hooks \u001b[39mor\u001b[39;00m \u001b[39mself\u001b[39m\u001b[39m.\u001b[39m_forward_pre_hooks\n\u001b[1;32m   1499\u001b[0m         \u001b[39mor\u001b[39;00m _global_backward_pre_hooks \u001b[39mor\u001b[39;00m _global_backward_hooks\n\u001b[1;32m   1500\u001b[0m         \u001b[39mor\u001b[39;00m _global_forward_hooks \u001b[39mor\u001b[39;00m _global_forward_pre_hooks):\n\u001b[0;32m-> 1501\u001b[0m     \u001b[39mreturn\u001b[39;00m forward_call(\u001b[39m*\u001b[39;49margs, \u001b[39m*\u001b[39;49m\u001b[39m*\u001b[39;49mkwargs)\n\u001b[1;32m   1502\u001b[0m \u001b[39m# Do not call functions when jit is used\u001b[39;00m\n\u001b[1;32m   1503\u001b[0m full_backward_hooks, non_full_backward_hooks \u001b[39m=\u001b[39m [], []\n",
      "File \u001b[0;32m~/anaconda3/envs/ml/lib/python3.10/site-packages/torch/nn/modules/container.py:217\u001b[0m, in \u001b[0;36mSequential.forward\u001b[0;34m(self, input)\u001b[0m\n\u001b[1;32m    215\u001b[0m \u001b[39mdef\u001b[39;00m \u001b[39mforward\u001b[39m(\u001b[39mself\u001b[39m, \u001b[39minput\u001b[39m):\n\u001b[1;32m    216\u001b[0m     \u001b[39mfor\u001b[39;00m module \u001b[39min\u001b[39;00m \u001b[39mself\u001b[39m:\n\u001b[0;32m--> 217\u001b[0m         \u001b[39minput\u001b[39m \u001b[39m=\u001b[39m module(\u001b[39minput\u001b[39;49m)\n\u001b[1;32m    218\u001b[0m     \u001b[39mreturn\u001b[39;00m \u001b[39minput\u001b[39m\n",
      "File \u001b[0;32m~/anaconda3/envs/ml/lib/python3.10/site-packages/torch/nn/modules/module.py:1501\u001b[0m, in \u001b[0;36mModule._call_impl\u001b[0;34m(self, *args, **kwargs)\u001b[0m\n\u001b[1;32m   1496\u001b[0m \u001b[39m# If we don't have any hooks, we want to skip the rest of the logic in\u001b[39;00m\n\u001b[1;32m   1497\u001b[0m \u001b[39m# this function, and just call forward.\u001b[39;00m\n\u001b[1;32m   1498\u001b[0m \u001b[39mif\u001b[39;00m \u001b[39mnot\u001b[39;00m (\u001b[39mself\u001b[39m\u001b[39m.\u001b[39m_backward_hooks \u001b[39mor\u001b[39;00m \u001b[39mself\u001b[39m\u001b[39m.\u001b[39m_backward_pre_hooks \u001b[39mor\u001b[39;00m \u001b[39mself\u001b[39m\u001b[39m.\u001b[39m_forward_hooks \u001b[39mor\u001b[39;00m \u001b[39mself\u001b[39m\u001b[39m.\u001b[39m_forward_pre_hooks\n\u001b[1;32m   1499\u001b[0m         \u001b[39mor\u001b[39;00m _global_backward_pre_hooks \u001b[39mor\u001b[39;00m _global_backward_hooks\n\u001b[1;32m   1500\u001b[0m         \u001b[39mor\u001b[39;00m _global_forward_hooks \u001b[39mor\u001b[39;00m _global_forward_pre_hooks):\n\u001b[0;32m-> 1501\u001b[0m     \u001b[39mreturn\u001b[39;00m forward_call(\u001b[39m*\u001b[39;49margs, \u001b[39m*\u001b[39;49m\u001b[39m*\u001b[39;49mkwargs)\n\u001b[1;32m   1502\u001b[0m \u001b[39m# Do not call functions when jit is used\u001b[39;00m\n\u001b[1;32m   1503\u001b[0m full_backward_hooks, non_full_backward_hooks \u001b[39m=\u001b[39m [], []\n",
      "File \u001b[0;32m~/src/deep_learning/module/vision/resnet.py:36\u001b[0m, in \u001b[0;36mResidualBlock.forward\u001b[0;34m(self, input)\u001b[0m\n\u001b[1;32m     34\u001b[0m res \u001b[39m=\u001b[39m \u001b[39mself\u001b[39m\u001b[39m.\u001b[39mnet(\u001b[39minput\u001b[39m)\n\u001b[1;32m     35\u001b[0m bypass \u001b[39m=\u001b[39m \u001b[39mself\u001b[39m\u001b[39m.\u001b[39mbypass(\u001b[39minput\u001b[39m) \u001b[39mif\u001b[39;00m \u001b[39mself\u001b[39m\u001b[39m.\u001b[39mbypass \u001b[39mis\u001b[39;00m \u001b[39mnot\u001b[39;00m \u001b[39mNone\u001b[39;00m \u001b[39melse\u001b[39;00m \u001b[39minput\u001b[39m\n\u001b[0;32m---> 36\u001b[0m output \u001b[39m=\u001b[39m res \u001b[39m+\u001b[39;49m bypass\n\u001b[1;32m     37\u001b[0m \u001b[39mreturn\u001b[39;00m \u001b[39mself\u001b[39m\u001b[39m.\u001b[39mrelu(output)\n",
      "\u001b[0;31mRuntimeError\u001b[0m: The size of tensor a (128) must match the size of tensor b (64) at non-singleton dimension 1"
     ]
    }
   ],
   "source": [
    "from module.vision.resnet import ResNet18\n",
    "\n",
    "net = ResNet18()\n",
    "net.summary(shape=(1, 3, 96, 96))"
   ]
  }
 ],
 "metadata": {
  "kernelspec": {
   "display_name": "d2l",
   "language": "python",
   "name": "python3"
  },
  "language_info": {
   "codemirror_mode": {
    "name": "ipython",
    "version": 3
   },
   "file_extension": ".py",
   "mimetype": "text/x-python",
   "name": "python",
   "nbconvert_exporter": "python",
   "pygments_lexer": "ipython3",
   "version": "3.10.13"
  },
  "orig_nbformat": 4
 },
 "nbformat": 4,
 "nbformat_minor": 2
}
