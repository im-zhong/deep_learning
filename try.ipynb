{
 "cells": [
  {
   "cell_type": "code",
   "execution_count": 1,
   "metadata": {
    "ExecuteTime": {
     "end_time": "2023-12-13T11:15:59.997083300Z",
     "start_time": "2023-12-13T11:15:59.966434400Z"
    }
   },
   "outputs": [],
   "source": [
    "import torch\n",
    "import torch.nn.functional as F\n",
    "from torch import nn"
   ]
  },
  {
   "cell_type": "code",
   "execution_count": 2,
   "metadata": {
    "ExecuteTime": {
     "end_time": "2023-12-13T11:16:01.462635700Z",
     "start_time": "2023-12-13T11:16:01.426654200Z"
    }
   },
   "outputs": [
    {
     "name": "stdout",
     "output_type": "stream",
     "text": [
      "tensor([[1, 2, 3],\n",
      "        [4, 5, 6],\n",
      "        [7, 8, 9]])\n",
      "tensor([[7, 8, 9],\n",
      "        [4, 5, 6],\n",
      "        [1, 2, 3]])\n"
     ]
    }
   ],
   "source": [
    "a = torch.tensor([[1, 2, 3], [4, 5, 6], [7, 8, 9]])\n",
    "print(a)\n",
    "# https://stackoverflow.com/questions/71723788/how-to-reverse-order-of-rows-in-a-tensor\n",
    "# https://pytorch.org/docs/stable/generated/torch.flip.html\n",
    "b = torch.flip(a, [0])\n",
    "print(b)"
   ]
  },
  {
   "cell_type": "code",
   "execution_count": 3,
   "metadata": {
    "ExecuteTime": {
     "end_time": "2023-12-13T11:16:03.038798800Z",
     "start_time": "2023-12-13T11:16:02.988433700Z"
    }
   },
   "outputs": [
    {
     "data": {
      "text/plain": [
       "tensor([[0, 1, 0, 0],\n",
       "        [0, 0, 1, 0],\n",
       "        [1, 0, 0, 0]])"
      ]
     },
     "execution_count": 3,
     "metadata": {},
     "output_type": "execute_result"
    }
   ],
   "source": [
    "x = torch.tensor([1, 2, 0])\n",
    "F.one_hot(x, 4)"
   ]
  },
  {
   "cell_type": "code",
   "execution_count": 4,
   "metadata": {
    "ExecuteTime": {
     "end_time": "2023-12-13T11:16:04.486084800Z",
     "start_time": "2023-12-13T11:16:04.450152600Z"
    }
   },
   "outputs": [
    {
     "data": {
      "text/plain": [
       "tensor([[0, 0, 1]])"
      ]
     },
     "execution_count": 4,
     "metadata": {},
     "output_type": "execute_result"
    }
   ],
   "source": [
    "x = torch.tensor([2])\n",
    "F.one_hot(x, 3)"
   ]
  },
  {
   "cell_type": "code",
   "execution_count": 5,
   "metadata": {
    "ExecuteTime": {
     "end_time": "2023-12-13T11:16:05.043327400Z",
     "start_time": "2023-12-13T11:16:05.011606100Z"
    },
    "collapsed": false
   },
   "outputs": [],
   "source": [
    "# 2023/9/28\n",
    "# zhangzhong"
   ]
  },
  {
   "cell_type": "code",
   "execution_count": 6,
   "metadata": {
    "ExecuteTime": {
     "end_time": "2023-12-13T11:16:06.013167900Z",
     "start_time": "2023-12-13T11:16:05.983719400Z"
    }
   },
   "outputs": [
    {
     "name": "stdout",
     "output_type": "stream",
     "text": [
      "tensor(1) tensor([0, 1, 0, 0])\n",
      "tensor(2) tensor([0, 0, 1, 0])\n",
      "tensor(0) tensor([1, 0, 0, 0])\n",
      "tensor(3) tensor([0, 0, 0, 1])\n"
     ]
    }
   ],
   "source": [
    "# https://pytorch.org/docs/stable/generated/torch.nn.functional.one_hot.html\n",
    "x = torch.tensor([[1, 2], [0, 3]])\n",
    "x_one_hot = F.one_hot(x, 4)\n",
    "\n",
    "# 其实就是之前对应位置的某一个数字 变成一个一个one_hot vector\n",
    "print(x[0, 0], x_one_hot[0, 0])\n",
    "print(x[0, 1], x_one_hot[0, 1])\n",
    "print(x[1, 0], x_one_hot[1, 0])\n",
    "print(x[1, 1], x_one_hot[1, 1])"
   ]
  },
  {
   "cell_type": "code",
   "execution_count": 7,
   "metadata": {
    "ExecuteTime": {
     "end_time": "2023-12-13T11:16:06.583541800Z",
     "start_time": "2023-12-13T11:16:06.560161300Z"
    }
   },
   "outputs": [
    {
     "name": "stdout",
     "output_type": "stream",
     "text": [
      "tensor([[[1, 0, 0, 0, 0, 0],\n",
      "         [0, 1, 0, 0, 0, 0],\n",
      "         [0, 0, 1, 0, 0, 0]],\n",
      "\n",
      "        [[0, 0, 0, 1, 0, 0],\n",
      "         [0, 0, 0, 0, 1, 0],\n",
      "         [0, 0, 0, 0, 0, 1]]])\n",
      "tensor([[1, 0, 0, 0, 0, 0],\n",
      "        [0, 1, 0, 0, 0, 0],\n",
      "        [0, 0, 1, 0, 0, 0]])\n",
      "tensor([[0, 0, 0, 1, 0, 0],\n",
      "        [0, 0, 0, 0, 1, 0],\n",
      "        [0, 0, 0, 0, 0, 1]])\n"
     ]
    }
   ],
   "source": [
    "# 再尝试一下交换维度\n",
    "# batch_size = 2, num_seq = 3\n",
    "x = torch.tensor([[0, 1, 2], [3, 4, 5]])\n",
    "x_one_hot = F.one_hot(x, 6)\n",
    "print(x_one_hot)\n",
    "\n",
    "# 现在我们想遍历所有的样本 \n",
    "for x in x_one_hot:\n",
    "    print(x)"
   ]
  },
  {
   "cell_type": "code",
   "execution_count": 8,
   "metadata": {
    "ExecuteTime": {
     "end_time": "2023-12-13T11:16:07.801405200Z",
     "start_time": "2023-12-13T11:16:07.774565300Z"
    }
   },
   "outputs": [
    {
     "name": "stdout",
     "output_type": "stream",
     "text": [
      "tensor([[1, 0, 0, 0, 0, 0],\n",
      "        [0, 0, 0, 1, 0, 0]])\n",
      "tensor([[0, 1, 0, 0, 0, 0],\n",
      "        [0, 0, 0, 0, 1, 0]])\n",
      "tensor([[0, 0, 1, 0, 0, 0],\n",
      "        [0, 0, 0, 0, 0, 1]])\n"
     ]
    }
   ],
   "source": [
    "# 完全符合我们的推导 太对了!!\n",
    "# https://pytorch.org/docs/stable/generated/torch.transpose.html\n",
    "# Returns a tensor that is a transposed version of input. The given dimensions dim0 and dim1 are swapped.\n",
    "x_t = torch.transpose(x_one_hot, 0, 1)\n",
    "for x in x_t:\n",
    "    print(x)"
   ]
  },
  {
   "cell_type": "code",
   "execution_count": 9,
   "metadata": {
    "ExecuteTime": {
     "end_time": "2023-12-13T11:16:08.572593100Z",
     "start_time": "2023-12-13T11:16:08.549793200Z"
    }
   },
   "outputs": [
    {
     "name": "stdout",
     "output_type": "stream",
     "text": [
      "1\n",
      "2\n",
      "3\n",
      "4\n",
      "5\n"
     ]
    }
   ],
   "source": [
    "# yield from\n",
    "def funa():\n",
    "    yield 1\n",
    "    yield 2\n",
    "    yield 3\n",
    "\n",
    "\n",
    "def funb():\n",
    "    yield from funa()\n",
    "    yield 4\n",
    "    yield 5\n",
    "\n",
    "\n",
    "for x in funb():\n",
    "    print(x)"
   ]
  },
  {
   "cell_type": "code",
   "execution_count": 10,
   "metadata": {
    "ExecuteTime": {
     "end_time": "2023-12-13T11:16:09.111157Z",
     "start_time": "2023-12-13T11:16:09.081215400Z"
    }
   },
   "outputs": [
    {
     "data": {
      "text/plain": [
       "tensor([[1, 2, 3],\n",
       "        [1, 2, 3],\n",
       "        [1, 2, 3],\n",
       "        [1, 2, 3]])"
      ]
     },
     "execution_count": 10,
     "metadata": {},
     "output_type": "execute_result"
    }
   ],
   "source": [
    "# list of Tensor can not convert to a whole tensor\n",
    "# outputs: list[Tensor] = []\n",
    "# outputs.append(torch.tensor([1,2,3]))\n",
    "# outputs.append(torch.tensor([1,2,3]))\n",
    "# outputs.append(torch.tensor([1,2,3]))\n",
    "# outputs.append(torch.tensor([1,2,3]))\n",
    "# output = torch.tensor(outputs)\n",
    "\n",
    "# so you can use torch.stack\n",
    "# https://pytorch.org/docs/stable/generated/torch.stack.html\n",
    "# Concatenates a sequence of tensors along a new dimension.\n",
    "# All tensors need to be of the same size.\n",
    "\n",
    "x = torch.tensor([1, 2, 3])\n",
    "xs = [x, x, x, x]\n",
    "torch.stack(xs)"
   ]
  },
  {
   "cell_type": "code",
   "execution_count": 11,
   "metadata": {
    "ExecuteTime": {
     "end_time": "2023-12-13T11:16:09.640510800Z",
     "start_time": "2023-12-13T11:16:09.597774500Z"
    }
   },
   "outputs": [
    {
     "data": {
      "text/plain": [
       "tensor([[[1, 2],\n",
       "         [3, 4]],\n",
       "\n",
       "        [[1, 2],\n",
       "         [3, 4]],\n",
       "\n",
       "        [[1, 2],\n",
       "         [3, 4]],\n",
       "\n",
       "        [[1, 2],\n",
       "         [3, 4]]])"
      ]
     },
     "execution_count": 11,
     "metadata": {},
     "output_type": "execute_result"
    }
   ],
   "source": [
    "x = torch.tensor([[1, 2, ], [3, 4, ]])\n",
    "xs = [x, x, x, x]\n",
    "torch.stack(xs)"
   ]
  },
  {
   "cell_type": "code",
   "execution_count": 12,
   "metadata": {
    "ExecuteTime": {
     "end_time": "2023-12-13T11:16:10.140494700Z",
     "start_time": "2023-12-13T11:16:10.105223200Z"
    }
   },
   "outputs": [
    {
     "data": {
      "text/plain": [
       "(torch.Size([2, 4, 2]),\n",
       " tensor([[[1, 2],\n",
       "          [1, 2],\n",
       "          [1, 2],\n",
       "          [1, 2]],\n",
       " \n",
       "         [[3, 4],\n",
       "          [3, 4],\n",
       "          [3, 4],\n",
       "          [3, 4]]]))"
      ]
     },
     "execution_count": 12,
     "metadata": {},
     "output_type": "execute_result"
    }
   ],
   "source": [
    "y = torch.stack(xs, dim=1)\n",
    "y.shape, y"
   ]
  },
  {
   "cell_type": "code",
   "execution_count": 13,
   "metadata": {
    "ExecuteTime": {
     "end_time": "2023-12-13T11:16:10.575253700Z",
     "start_time": "2023-12-13T11:16:10.543838300Z"
    }
   },
   "outputs": [],
   "source": [
    "# 向量各分量的平方和 就是 l2范数\n",
    "# x = torch.tensor([1,2,3])\n",
    "# x.norm(1)"
   ]
  },
  {
   "cell_type": "code",
   "execution_count": 14,
   "metadata": {
    "ExecuteTime": {
     "end_time": "2023-12-13T11:16:11.000307Z",
     "start_time": "2023-12-13T11:16:10.978023200Z"
    }
   },
   "outputs": [
    {
     "name": "stdout",
     "output_type": "stream",
     "text": [
      "tensor([[1., 1.],\n",
      "        [1., 1.]])\n"
     ]
    }
   ],
   "source": [
    "# grad clip\n",
    "# 二维矩阵的grad长什么样子\n",
    "x = torch.tensor([[1, 2], [3, 4]], dtype=torch.float32, requires_grad=True)\n",
    "b = torch.tensor([1, 2], dtype=torch.float32, requires_grad=True)\n",
    "y = x + b\n",
    "y.backward(torch.ones_like(x))\n",
    "print(x.grad)\n"
   ]
  },
  {
   "cell_type": "code",
   "execution_count": 15,
   "metadata": {
    "ExecuteTime": {
     "end_time": "2023-12-13T11:16:11.421460700Z",
     "start_time": "2023-12-13T11:16:11.400961600Z"
    }
   },
   "outputs": [
    {
     "name": "stdout",
     "output_type": "stream",
     "text": [
      "tensor([[[1, 2, 3],\n",
      "         [4, 5, 6]],\n",
      "\n",
      "        [[4, 5, 6],\n",
      "         [1, 2, 3]],\n",
      "\n",
      "        [[3, 2, 3],\n",
      "         [1, 3, 4]]])\n"
     ]
    },
    {
     "data": {
      "text/plain": [
       "tensor([[ 8,  9, 12],\n",
       "        [ 6, 10, 13]])"
      ]
     },
     "execution_count": 15,
     "metadata": {},
     "output_type": "execute_result"
    }
   ],
   "source": [
    "# test sum along some axis\n",
    "x1 = torch.tensor([[1, 2, 3], [4, 5, 6]])\n",
    "x2 = torch.tensor([[4, 5, 6], [1, 2, 3]])\n",
    "x3 = torch.tensor([[3, 2, 3], [1, 3, 4]])\n",
    "x = torch.stack([x1, x2, x3])\n",
    "print(x)\n",
    "\n",
    "# now we need to add the two 2x3 matrix, 好像是对的\n",
    "torch.sum(input=x, dim=0)"
   ]
  },
  {
   "cell_type": "code",
   "execution_count": 16,
   "metadata": {
    "ExecuteTime": {
     "end_time": "2023-12-13T11:16:11.848005500Z",
     "start_time": "2023-12-13T11:16:11.824928900Z"
    }
   },
   "outputs": [
    {
     "name": "stdout",
     "output_type": "stream",
     "text": [
      "torch.Size([1, 64, 5, 7])\n",
      "tensor([[[[2.5000]],\n",
      "\n",
      "         [[2.5000]],\n",
      "\n",
      "         [[3.0000]]]])\n",
      "tensor([[2.5000, 2.5000, 3.0000]])\n"
     ]
    }
   ],
   "source": [
    "# AdaptiveAvgPool2d\n",
    "# https://pytorch.org/docs/stable/generated/torch.nn.AdaptiveAvgPool2d.html\n",
    "pool = nn.AdaptiveAvgPool2d(output_size=(5, 7))\n",
    "input = torch.randn(size=(1, 64, 8, 9))\n",
    "output = pool(input)\n",
    "print(output.shape)\n",
    "# 哦 原来如此 channel是不会变的 指定输出的最后两个维度\n",
    "\n",
    "# 实际上是每个panel上的所有元素做一下avgrage 这样最终输出的就是一个num class 的 logits 然后过cross entropy就可以分类了\n",
    "# 自己构造数据看一下实际的效果 (1, 3, 2, 2)\n",
    "input = torch.tensor(data=[\n",
    "    [[[1, 2], [3, 4]], [[2, 3], [1, 4]], [[3, 4], [3, 2]]]\n",
    "], dtype=torch.float)\n",
    "assert input.shape == (1, 3, 2, 2)\n",
    "pool = nn.AdaptiveAvgPool2d(output_size=(1, 1))\n",
    "output = pool(input)\n",
    "assert output.shape == (1, 3, 1, 1)\n",
    "print(output)\n",
    "flatten = nn.Flatten()\n",
    "output = flatten(output)\n",
    "assert output.shape == (1, 3)\n",
    "assert torch.all(output == torch.tensor([[2.5000, 2.5000, 3.0000]]))\n",
    "print(output)"
   ]
  },
  {
   "cell_type": "code",
   "execution_count": 17,
   "metadata": {
    "ExecuteTime": {
     "end_time": "2023-12-13T11:16:12.421842200Z",
     "start_time": "2023-12-13T11:16:12.417071600Z"
    }
   },
   "outputs": [
    {
     "name": "stdout",
     "output_type": "stream",
     "text": [
      "torch.Size([4, 4, 4])\n",
      "torch.Size([3])\n",
      "torch.Size([1, 3, 1, 1])\n"
     ]
    }
   ],
   "source": [
    "# conv2d batch norm\n",
    "x = torch.randn(size=(4, 3, 4, 4))\n",
    "y = x.mean(dim=1)\n",
    "print(y.shape)\n",
    "\n",
    "# 好像就剩下channel了\n",
    "y1 = x.mean(dim=(0, 2, 3))\n",
    "print(y1.shape)\n",
    "\n",
    "y2 = x.mean(dim=(0, 2, 3), keepdim=True)\n",
    "print(y2.shape)"
   ]
  },
  {
   "cell_type": "code",
   "execution_count": 18,
   "metadata": {
    "ExecuteTime": {
     "end_time": "2023-12-13T11:16:12.929151500Z",
     "start_time": "2023-12-13T11:16:12.889557800Z"
    },
    "collapsed": false
   },
   "outputs": [
    {
     "name": "stdout",
     "output_type": "stream",
     "text": [
      "(tensor([[1, 2]]), tensor([[3, 4]]))\n",
      "tensor([[1, 2],\n",
      "        [3, 4]])\n",
      "tensor([[True, True],\n",
      "        [True, True]])\n",
      "(tensor([[1],\n",
      "        [3]]), tensor([[2],\n",
      "        [4]]))\n",
      "tensor([[1, 2],\n",
      "        [3, 4]])\n"
     ]
    }
   ],
   "source": [
    "# split and cat\n",
    "x = torch.tensor(data=[[1, 2], [3, 4]])\n",
    "y = x.split(split_size=1, dim=0)\n",
    "print(y)\n",
    "z = torch.cat(y, dim=0)\n",
    "print(z)\n",
    "# t的类型推断是错误的 应该是tensor 但是推断成了bool\n",
    "t = (z == x)\n",
    "print(t)\n",
    "\n",
    "y = x.split(split_size=1, dim=1)\n",
    "print(y)\n",
    "z = torch.cat(y, dim=1)\n",
    "print(z)\n",
    "assert torch.all(z == x)\n"
   ]
  },
  {
   "cell_type": "code",
   "execution_count": 19,
   "metadata": {
    "ExecuteTime": {
     "end_time": "2023-12-13T11:16:13.528937600Z",
     "start_time": "2023-12-13T11:16:13.483938500Z"
    },
    "collapsed": false
   },
   "outputs": [
    {
     "name": "stderr",
     "output_type": "stream",
     "text": [
      "/tmp/ipykernel_20557/1580358168.py:1: UserWarning: torch.range is deprecated and will be removed in a future release because its behavior is inconsistent with Python's range builtin. Instead, use torch.arange, which produces values in [start, end).\n",
      "  torch.range(start=0, end=12)\n"
     ]
    },
    {
     "data": {
      "text/plain": [
       "tensor([ 0.,  1.,  2.,  3.,  4.,  5.,  6.,  7.,  8.,  9., 10., 11., 12.])"
      ]
     },
     "execution_count": 19,
     "metadata": {},
     "output_type": "execute_result"
    }
   ],
   "source": [
    "torch.range(start=0, end=12)"
   ]
  },
  {
   "cell_type": "code",
   "execution_count": 20,
   "metadata": {
    "ExecuteTime": {
     "end_time": "2023-12-13T11:16:18.535548300Z",
     "start_time": "2023-12-13T11:16:18.502550300Z"
    }
   },
   "outputs": [
    {
     "name": "stdout",
     "output_type": "stream",
     "text": [
      "torch.Size([32, 64, 16, 16])\n",
      "torch.Size([32, 64, 8, 8])\n"
     ]
    },
    {
     "name": "stderr",
     "output_type": "stream",
     "text": [
      "/data/zhangzhong/anaconda3/envs/ml/lib/python3.10/site-packages/torch/nn/modules/lazy.py:180: UserWarning: Lazy modules are a new feature under heavy development so changes to the API or functionality can happen at any moment.\n",
      "  warnings.warn('Lazy modules are a new feature under heavy development '\n"
     ]
    }
   ],
   "source": [
    "# check the output of conv\n",
    "batch_size = 32\n",
    "out_channels = 64\n",
    "\n",
    "conv = nn.LazyConv2d(out_channels=out_channels, kernel_size=7, stride=2, padding=3)\n",
    "x = torch.randn(size=(batch_size, 3, 32, 32))\n",
    "y = conv(x)\n",
    "print(y.shape)\n",
    "\n",
    "pool = nn.MaxPool2d(kernel_size=3, stride=2, padding=1)\n",
    "y = pool(y)\n",
    "print(y.shape)"
   ]
  },
  {
   "cell_type": "code",
   "execution_count": 21,
   "metadata": {
    "ExecuteTime": {
     "end_time": "2023-12-13T11:16:19.267972200Z",
     "start_time": "2023-12-13T11:16:19.253978700Z"
    }
   },
   "outputs": [
    {
     "name": "stdout",
     "output_type": "stream",
     "text": [
      "torch.Size([64, 3, 7, 7]) torch.float32\n",
      "torch.Size([64]) torch.float32\n",
      "9472\n"
     ]
    }
   ],
   "source": [
    "import operator\n",
    "import functools\n",
    "\n",
    "sum = 0\n",
    "for p in conv.parameters():\n",
    "    # https://pytorch.org/docs/stable/generated/torch.nn.parameter.Parameter.html\n",
    "    # p.data: Tensor\n",
    "    print(p.shape, p.data.dtype)\n",
    "    # https://docs.python.org/3.0/library/functools.html#functools.reduce\n",
    "    sum += functools.reduce(operator.mul, p.shape)\n",
    "\n",
    "# 算了 统计类型其实没啥意义 就单纯看看参数量就行了\n",
    "print(sum)\n"
   ]
  },
  {
   "cell_type": "code",
   "execution_count": 22,
   "metadata": {
    "ExecuteTime": {
     "end_time": "2023-12-13T11:16:49.502036300Z",
     "start_time": "2023-12-13T11:16:20.104673700Z"
    }
   },
   "outputs": [
    {
     "name": "stdout",
     "output_type": "stream",
     "text": [
      "Files already downloaded and verified\n",
      "Files already downloaded and verified\n",
      "Dataset CIFAR10\n",
      "    Number of datapoints: 50000\n",
      "    Root location: datasets/cifar10\n",
      "    Split: Train\n",
      "    StandardTransform\n",
      "Transform: Compose(\n",
      "               RandomCrop(size=(32, 32), padding=4)\n",
      "               RandomHorizontalFlip(p=0.5)\n",
      "               ToTensor()\n",
      "               Normalize(mean=[0.4914, 0.4822, 0.4465], std=[0.2023, 0.1994, 0.201])\n",
      "           )\n",
      "Dataset CIFAR10\n",
      "    Number of datapoints: 10000\n",
      "    Root location: datasets/cifar10\n",
      "    Split: Test\n",
      "    StandardTransform\n",
      "Transform: Compose(\n",
      "               ToTensor()\n",
      "           )\n"
     ]
    }
   ],
   "source": [
    "# data augmentation\n",
    "\n",
    "from mytorch.data.cifar10 import CIFAR10Dataset\n",
    "\n",
    "# transform并不会改变图片的数量，所以才会有概率\n",
    "# 我还是希望可以增加图片的数量，这个要如何才能做到？\n",
    "cifar10 = CIFAR10Dataset()\n",
    "print(cifar10.cifar_train)\n",
    "print(cifar10.cifar_test)"
   ]
  },
  {
   "cell_type": "code",
   "execution_count": 23,
   "metadata": {
    "ExecuteTime": {
     "end_time": "2023-12-13T11:24:17.464577200Z",
     "start_time": "2023-12-13T11:24:17.453804100Z"
    },
    "collapsed": false
   },
   "outputs": [
    {
     "name": "stdout",
     "output_type": "stream",
     "text": [
      "tensor([[[1, 2, 3],\n",
      "         [4, 5, 6]],\n",
      "\n",
      "        [[1, 2, 3],\n",
      "         [4, 5, 6]],\n",
      "\n",
      "        [[1, 2, 3],\n",
      "         [4, 5, 6]],\n",
      "\n",
      "        [[1, 2, 3],\n",
      "         [4, 5, 6]]]) torch.Size([4, 2, 3])\n"
     ]
    }
   ],
   "source": [
    "# repeat \n",
    "# https://pytorch.org/docs/stable/generated/torch.Tensor.repeat.html\n",
    "# Repeats this tensor along the specified dimensions.\n",
    "\n",
    "\n",
    "x = torch.tensor([[1, 2, 3], [4, 5, 6]])\n",
    "# 也就是输入的维度必须和之前的维度+1一样\n",
    "x = x.repeat(4, 1, 1)\n",
    "print(x, x.shape)\n",
    "\n"
   ]
  },
  {
   "cell_type": "code",
   "execution_count": 24,
   "metadata": {
    "ExecuteTime": {
     "end_time": "2023-12-13T11:24:35.053909300Z",
     "start_time": "2023-12-13T11:24:35.016465400Z"
    },
    "collapsed": false
   },
   "outputs": [
    {
     "name": "stdout",
     "output_type": "stream",
     "text": [
      "tensor([1, 2, 3]) torch.Size([3])\n",
      "tensor([[1, 2, 3],\n",
      "        [1, 2, 3]]) torch.Size([2, 3])\n"
     ]
    }
   ],
   "source": [
    "x = torch.tensor([1, 2, 3])\n",
    "print(x, x.shape)\n",
    "x = x.repeat(2, 1)\n",
    "print(x, x.shape)"
   ]
  },
  {
   "cell_type": "code",
   "execution_count": 25,
   "metadata": {
    "ExecuteTime": {
     "end_time": "2023-12-13T11:25:34.363800100Z",
     "start_time": "2023-12-13T11:25:34.356609400Z"
    },
    "collapsed": false
   },
   "outputs": [
    {
     "name": "stdout",
     "output_type": "stream",
     "text": [
      "tensor([[[1, 2, 3, 4]]]) torch.Size([1, 1, 4])\n",
      "tensor([[[1, 2, 3, 4]],\n",
      "\n",
      "        [[1, 2, 3, 4]]]) torch.Size([2, 1, 4])\n"
     ]
    }
   ],
   "source": [
    "# b, s, h\n",
    "x = torch.tensor([[[1, 2, 3, 4]]])\n",
    "print(x, x.shape)\n",
    "x = x.repeat(2, 1, 1)\n",
    "print(x, x.shape)"
   ]
  },
  {
   "cell_type": "code",
   "execution_count": 26,
   "metadata": {
    "collapsed": false
   },
   "outputs": [
    {
     "name": "stdout",
     "output_type": "stream",
     "text": [
      "torch.Size([4, 64, 112, 112])\n",
      "torch.Size([4, 64, 55, 55])\n"
     ]
    },
    {
     "name": "stderr",
     "output_type": "stream",
     "text": [
      "/data/zhangzhong/anaconda3/envs/ml/lib/python3.10/site-packages/torch/nn/modules/lazy.py:180: UserWarning: Lazy modules are a new feature under heavy development so changes to the API or functionality can happen at any moment.\n",
      "  warnings.warn('Lazy modules are a new feature under heavy development '\n"
     ]
    }
   ],
   "source": [
    "batch_size = 4\n",
    "channels = 3\n",
    "height = 224\n",
    "width = 224\n",
    "\n",
    "conv = nn.LazyConv2d(out_channels=64, kernel_size=7, stride=2, padding=3)\n",
    "x = torch.randn(size=(batch_size, channels, height, width))\n",
    "y = conv(x)\n",
    "print(y.shape)\n",
    "\n",
    "pool = nn.MaxPool2d(kernel_size=3, stride=2)\n",
    "y = pool(y)\n",
    "print(y.shape)"
   ]
  },
  {
   "cell_type": "code",
   "execution_count": 27,
   "metadata": {},
   "outputs": [
    {
     "ename": "AttributeError",
     "evalue": "module 'torch.nn' has no attribute 'Dense'",
     "output_type": "error",
     "traceback": [
      "\u001b[0;31m---------------------------------------------------------------------------\u001b[0m",
      "\u001b[0;31mAttributeError\u001b[0m                            Traceback (most recent call last)",
      "Cell \u001b[0;32mIn[27], line 1\u001b[0m\n\u001b[0;32m----> 1\u001b[0m \u001b[43mnn\u001b[49m\u001b[38;5;241;43m.\u001b[39;49m\u001b[43mDense\u001b[49m(\u001b[38;5;241m10\u001b[39m)\n",
      "\u001b[0;31mAttributeError\u001b[0m: module 'torch.nn' has no attribute 'Dense'"
     ]
    }
   ],
   "source": []
  }
 ],
 "metadata": {
  "kernelspec": {
   "display_name": "d2l",
   "language": "python",
   "name": "python3"
  },
  "language_info": {
   "codemirror_mode": {
    "name": "ipython",
    "version": 3
   },
   "file_extension": ".py",
   "mimetype": "text/x-python",
   "name": "python",
   "nbconvert_exporter": "python",
   "pygments_lexer": "ipython3",
   "version": "3.10.13"
  },
  "orig_nbformat": 4
 },
 "nbformat": 4,
 "nbformat_minor": 2
}
