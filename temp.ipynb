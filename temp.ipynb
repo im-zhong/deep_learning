{
 "cells": [
  {
   "cell_type": "code",
   "execution_count": 3,
   "metadata": {},
   "outputs": [],
   "source": [
    "# 2023/11/26\n",
    "# zhangzhong\n",
    "\n",
    "from module.vision.resnet import ResNet18, SmallResNet18\n",
    "# import torchsummary  # type: ignore\n",
    "from mytorch.data.cifar10 import CIFAR10Dataset, cifar10_predict\n",
    "from mytorch.data.svhn import SVHNDataset\n",
    "import torch\n",
    "from mytorch import training, utils\n",
    "import json\n",
    "from torch import nn, Tensor\n",
    "from mytorch import utils\n",
    "from tqdm import tqdm\n",
    "from torch.optim.lr_scheduler import LinearLR, CosineAnnealingLR, SequentialLR\n",
    "from mytorch.data.mnist import MNISTDataset, FashionMNISTDataset\n",
    "\n",
    "def test_small_resnet_on_svhn() -> None:\n",
    "    batch_size = 128\n",
    "    num_workers = 16\n",
    "    svhn = SVHNDataset(num_workers=num_workers)\n",
    "    # cifar10 = FashionMNISTDataset()\n",
    "    train_dataloader = svhn.get_train_dataloader(batch_size=batch_size)\n",
    "    val_dataloader = svhn.get_val_dataloader(batch_size=batch_size)\n",
    "    test_dataloader = svhn.get_test_dataloader(batch_size=batch_size)\n",
    "\n",
    "    tag = 'resnet18_svhn_6'\n",
    "    net = SmallResNet18()\n",
    "\n",
    "    lr: float = 0.1\n",
    "    optimizer = torch.optim.SGD(net.parameters(), lr=lr)\n",
    "    warmup_epochs = 5\n",
    "    num_epochs = 0\n",
    "    scheduler = SequentialLR(\n",
    "        optimizer=optimizer,\n",
    "        schedulers=[\n",
    "            LinearLR(optimizer=optimizer, start_factor=0.1, total_iters=warmup_epochs),\n",
    "            CosineAnnealingLR(optimizer=optimizer, T_max=num_epochs-warmup_epochs)\n",
    "        ],\n",
    "        milestones=[warmup_epochs]\n",
    "    )\n",
    "    device = utils.get_device()\n",
    "    trainer = training.TrainerV2(\n",
    "        model=net,\n",
    "        loss_fn=torch.nn.CrossEntropyLoss(),\n",
    "        optimizer=optimizer,\n",
    "        num_epochs=num_epochs,\n",
    "        train_dataloader=train_dataloader,\n",
    "        val_dataloader=val_dataloader,\n",
    "        test_dataloader=test_dataloader,\n",
    "        scheduler=scheduler,\n",
    "        device=device)\n",
    "\n",
    "    trainer.train(tag=tag)\n",
    "    pretrained_model = trainer.model\n",
    "\n",
    "    layers = ['net.last.AdaptiveMaxPool2d', \n",
    "              'net.last.LazyLinear1', \n",
    "              'net.last.BatchNorm', \n",
    "              'net.last.ReLU',\n",
    "              # 'net.last.Dropout'\n",
    "              ]\n",
    "    hook = utils.RegisterIntermediateOutputHook(model=pretrained_model, layers=layers)\n",
    "\n",
    "    # forward\n",
    "    intermediate_outputs: dict[str, list[Tensor]] = {}\n",
    "    for x, y in tqdm(svhn.get_test_dataloader(batch_size=batch_size)):\n",
    "        x = x.to(device)\n",
    "        y = pretrained_model(x)\n",
    "        \n",
    "        output = hook.get_intermediate_output()\n",
    "        for layer in layers:\n",
    "            if layer not in intermediate_outputs:\n",
    "                intermediate_outputs[layer] = []\n",
    "            intermediate_outputs[layer].append(output[layer])\n",
    "   \n",
    "    for layer in layers:\n",
    "        outputs = intermediate_outputs[layer]\n",
    "        outputs = torch.cat(outputs, dim=0)\n",
    "        utils.draw_tsne(data=outputs, labels=svhn.test_dataset.labels)\n",
    "\n",
    "    \n"
   ]
  },
  {
   "cell_type": "code",
   "execution_count": 4,
   "metadata": {},
   "outputs": [
    {
     "name": "stdout",
     "output_type": "stream",
     "text": [
      "Using downloaded and verified file: datasets/svhn/train_32x32.mat\n",
      "Using downloaded and verified file: datasets/svhn/test_32x32.mat\n"
     ]
    },
    {
     "name": "stderr",
     "output_type": "stream",
     "text": [
      "100%|██████████| 204/204 [00:02<00:00, 84.00it/s] \n"
     ]
    },
    {
     "ename": "OSError",
     "evalue": "libmkl_intel_lp64.so: cannot open shared object file: No such file or directory",
     "output_type": "error",
     "traceback": [
      "\u001b[0;31m---------------------------------------------------------------------------\u001b[0m",
      "\u001b[0;31mOSError\u001b[0m                                   Traceback (most recent call last)",
      "Cell \u001b[0;32mIn[4], line 1\u001b[0m\n\u001b[0;32m----> 1\u001b[0m \u001b[43mtest_small_resnet_on_svhn\u001b[49m\u001b[43m(\u001b[49m\u001b[43m)\u001b[49m\n",
      "Cell \u001b[0;32mIn[3], line 79\u001b[0m, in \u001b[0;36mtest_small_resnet_on_svhn\u001b[0;34m()\u001b[0m\n\u001b[1;32m     77\u001b[0m outputs \u001b[38;5;241m=\u001b[39m intermediate_outputs[layer]\n\u001b[1;32m     78\u001b[0m outputs \u001b[38;5;241m=\u001b[39m torch\u001b[38;5;241m.\u001b[39mcat(outputs, dim\u001b[38;5;241m=\u001b[39m\u001b[38;5;241m0\u001b[39m)\n\u001b[0;32m---> 79\u001b[0m \u001b[43mutils\u001b[49m\u001b[38;5;241;43m.\u001b[39;49m\u001b[43mdraw_tsne\u001b[49m\u001b[43m(\u001b[49m\u001b[43mdata\u001b[49m\u001b[38;5;241;43m=\u001b[39;49m\u001b[43moutputs\u001b[49m\u001b[43m,\u001b[49m\u001b[43m \u001b[49m\u001b[43mlabels\u001b[49m\u001b[38;5;241;43m=\u001b[39;49m\u001b[43msvhn\u001b[49m\u001b[38;5;241;43m.\u001b[39;49m\u001b[43mtest_dataset\u001b[49m\u001b[38;5;241;43m.\u001b[39;49m\u001b[43mlabels\u001b[49m\u001b[43m)\u001b[49m\n",
      "File \u001b[0;32m~/src/deep_learning/mytorch/utils.py:145\u001b[0m, in \u001b[0;36mdraw_tsne\u001b[0;34m(data, labels, name)\u001b[0m\n\u001b[1;32m    142\u001b[0m \u001b[38;5;28;01massert\u001b[39;00m labels\u001b[38;5;241m.\u001b[39mshape[\u001b[38;5;241m0\u001b[39m] \u001b[38;5;241m==\u001b[39m batch_size\n\u001b[1;32m    144\u001b[0m \u001b[38;5;66;03m# 原来t-SNE每次的输出是随机的\u001b[39;00m\n\u001b[0;32m--> 145\u001b[0m tsne \u001b[38;5;241m=\u001b[39m \u001b[43mTSNE\u001b[49m\u001b[43m(\u001b[49m\u001b[43mn_components\u001b[49m\u001b[38;5;241;43m=\u001b[39;49m\u001b[38;5;241;43m2\u001b[39;49m\u001b[43m,\u001b[49m\u001b[43m \u001b[49m\u001b[43mperplexity\u001b[49m\u001b[38;5;241;43m=\u001b[39;49m\u001b[38;5;241;43m15\u001b[39;49m\u001b[43m,\u001b[49m\n\u001b[1;32m    146\u001b[0m \u001b[43m            \u001b[49m\u001b[43mlearning_rate\u001b[49m\u001b[38;5;241;43m=\u001b[39;49m\u001b[38;5;241;43m10\u001b[39;49m\u001b[43m)\u001b[49m\u001b[38;5;241m.\u001b[39mfit_transform(data)\n\u001b[1;32m    147\u001b[0m figure, ax \u001b[38;5;241m=\u001b[39m plt\u001b[38;5;241m.\u001b[39msubplots()\n\u001b[1;32m    148\u001b[0m \u001b[38;5;66;03m# https://matplotlib.org/stable/api/_as_gen/matplotlib.axes.Axes.scatter.html\u001b[39;00m\n\u001b[1;32m    149\u001b[0m \u001b[38;5;66;03m# https://matplotlib.org/stable/gallery/color/colormap_reference.html\u001b[39;00m\n",
      "File \u001b[0;32m~/anaconda3/envs/dl/lib/python3.10/site-packages/tsnecuda/TSNE.py:139\u001b[0m, in \u001b[0;36mTSNE.__init__\u001b[0;34m(self, n_components, perplexity, early_exaggeration, learning_rate, num_neighbors, force_magnify_iters, pre_momentum, post_momentum, theta, epssq, n_iter, n_iter_without_progress, min_grad_norm, perplexity_epsilon, metric, init, return_style, num_snapshots, verbose, random_seed, use_interactive, viz_timeout, viz_server, dump_points, dump_file, dump_interval, print_interval, device, magnitude_factor)\u001b[0m\n\u001b[1;32m    137\u001b[0m \u001b[38;5;66;03m# Build the hooks for the BH T-SNE library\u001b[39;00m\n\u001b[1;32m    138\u001b[0m \u001b[38;5;28mself\u001b[39m\u001b[38;5;241m.\u001b[39m_path \u001b[38;5;241m=\u001b[39m os\u001b[38;5;241m.\u001b[39mpath\u001b[38;5;241m.\u001b[39mdirname(\u001b[38;5;18m__file__\u001b[39m)\n\u001b[0;32m--> 139\u001b[0m \u001b[38;5;28mself\u001b[39m\u001b[38;5;241m.\u001b[39m_lib \u001b[38;5;241m=\u001b[39m \u001b[43mN\u001b[49m\u001b[38;5;241;43m.\u001b[39;49m\u001b[43mctypeslib\u001b[49m\u001b[38;5;241;43m.\u001b[39;49m\u001b[43mload_library\u001b[49m\u001b[43m(\u001b[49m\n\u001b[1;32m    140\u001b[0m \u001b[43m    \u001b[49m\u001b[38;5;124;43m'\u001b[39;49m\u001b[38;5;124;43mlibtsnecuda\u001b[39;49m\u001b[38;5;124;43m'\u001b[39;49m\u001b[43m,\u001b[49m\u001b[43m \u001b[49m\u001b[38;5;28;43mself\u001b[39;49m\u001b[38;5;241;43m.\u001b[39;49m\u001b[43m_path\u001b[49m\u001b[43m)\u001b[49m  \u001b[38;5;66;03m# Load the ctypes library\u001b[39;00m\n\u001b[1;32m    142\u001b[0m \u001b[38;5;66;03m# Hook the BH T-SNE function\u001b[39;00m\n\u001b[1;32m    143\u001b[0m \u001b[38;5;28mself\u001b[39m\u001b[38;5;241m.\u001b[39m_lib\u001b[38;5;241m.\u001b[39mpymodule_tsne\u001b[38;5;241m.\u001b[39mrestype \u001b[38;5;241m=\u001b[39m \u001b[38;5;28;01mNone\u001b[39;00m\n",
      "File \u001b[0;32m~/anaconda3/envs/dl/lib/python3.10/site-packages/numpy/ctypeslib.py:156\u001b[0m, in \u001b[0;36mload_library\u001b[0;34m(libname, loader_path)\u001b[0m\n\u001b[1;32m    154\u001b[0m \u001b[38;5;28;01mif\u001b[39;00m os\u001b[38;5;241m.\u001b[39mpath\u001b[38;5;241m.\u001b[39mexists(libpath):\n\u001b[1;32m    155\u001b[0m     \u001b[38;5;28;01mtry\u001b[39;00m:\n\u001b[0;32m--> 156\u001b[0m         \u001b[38;5;28;01mreturn\u001b[39;00m \u001b[43mctypes\u001b[49m\u001b[38;5;241;43m.\u001b[39;49m\u001b[43mcdll\u001b[49m\u001b[43m[\u001b[49m\u001b[43mlibpath\u001b[49m\u001b[43m]\u001b[49m\n\u001b[1;32m    157\u001b[0m     \u001b[38;5;28;01mexcept\u001b[39;00m \u001b[38;5;167;01mOSError\u001b[39;00m:\n\u001b[1;32m    158\u001b[0m         \u001b[38;5;66;03m## defective lib file\u001b[39;00m\n\u001b[1;32m    159\u001b[0m         \u001b[38;5;28;01mraise\u001b[39;00m\n",
      "File \u001b[0;32m~/anaconda3/envs/dl/lib/python3.10/ctypes/__init__.py:449\u001b[0m, in \u001b[0;36mLibraryLoader.__getitem__\u001b[0;34m(self, name)\u001b[0m\n\u001b[1;32m    448\u001b[0m \u001b[38;5;28;01mdef\u001b[39;00m \u001b[38;5;21m__getitem__\u001b[39m(\u001b[38;5;28mself\u001b[39m, name):\n\u001b[0;32m--> 449\u001b[0m     \u001b[38;5;28;01mreturn\u001b[39;00m \u001b[38;5;28;43mgetattr\u001b[39;49m\u001b[43m(\u001b[49m\u001b[38;5;28;43mself\u001b[39;49m\u001b[43m,\u001b[49m\u001b[43m \u001b[49m\u001b[43mname\u001b[49m\u001b[43m)\u001b[49m\n",
      "File \u001b[0;32m~/anaconda3/envs/dl/lib/python3.10/ctypes/__init__.py:444\u001b[0m, in \u001b[0;36mLibraryLoader.__getattr__\u001b[0;34m(self, name)\u001b[0m\n\u001b[1;32m    442\u001b[0m \u001b[38;5;28;01mif\u001b[39;00m name[\u001b[38;5;241m0\u001b[39m] \u001b[38;5;241m==\u001b[39m \u001b[38;5;124m'\u001b[39m\u001b[38;5;124m_\u001b[39m\u001b[38;5;124m'\u001b[39m:\n\u001b[1;32m    443\u001b[0m     \u001b[38;5;28;01mraise\u001b[39;00m \u001b[38;5;167;01mAttributeError\u001b[39;00m(name)\n\u001b[0;32m--> 444\u001b[0m dll \u001b[38;5;241m=\u001b[39m \u001b[38;5;28;43mself\u001b[39;49m\u001b[38;5;241;43m.\u001b[39;49m\u001b[43m_dlltype\u001b[49m\u001b[43m(\u001b[49m\u001b[43mname\u001b[49m\u001b[43m)\u001b[49m\n\u001b[1;32m    445\u001b[0m \u001b[38;5;28msetattr\u001b[39m(\u001b[38;5;28mself\u001b[39m, name, dll)\n\u001b[1;32m    446\u001b[0m \u001b[38;5;28;01mreturn\u001b[39;00m dll\n",
      "File \u001b[0;32m~/anaconda3/envs/dl/lib/python3.10/ctypes/__init__.py:374\u001b[0m, in \u001b[0;36mCDLL.__init__\u001b[0;34m(self, name, mode, handle, use_errno, use_last_error, winmode)\u001b[0m\n\u001b[1;32m    371\u001b[0m \u001b[38;5;28mself\u001b[39m\u001b[38;5;241m.\u001b[39m_FuncPtr \u001b[38;5;241m=\u001b[39m _FuncPtr\n\u001b[1;32m    373\u001b[0m \u001b[38;5;28;01mif\u001b[39;00m handle \u001b[38;5;129;01mis\u001b[39;00m \u001b[38;5;28;01mNone\u001b[39;00m:\n\u001b[0;32m--> 374\u001b[0m     \u001b[38;5;28mself\u001b[39m\u001b[38;5;241m.\u001b[39m_handle \u001b[38;5;241m=\u001b[39m \u001b[43m_dlopen\u001b[49m\u001b[43m(\u001b[49m\u001b[38;5;28;43mself\u001b[39;49m\u001b[38;5;241;43m.\u001b[39;49m\u001b[43m_name\u001b[49m\u001b[43m,\u001b[49m\u001b[43m \u001b[49m\u001b[43mmode\u001b[49m\u001b[43m)\u001b[49m\n\u001b[1;32m    375\u001b[0m \u001b[38;5;28;01melse\u001b[39;00m:\n\u001b[1;32m    376\u001b[0m     \u001b[38;5;28mself\u001b[39m\u001b[38;5;241m.\u001b[39m_handle \u001b[38;5;241m=\u001b[39m handle\n",
      "\u001b[0;31mOSError\u001b[0m: libmkl_intel_lp64.so: cannot open shared object file: No such file or directory"
     ]
    }
   ],
   "source": [
    "test_small_resnet_on_svhn()"
   ]
  }
 ],
 "metadata": {
  "kernelspec": {
   "display_name": "ml",
   "language": "python",
   "name": "python3"
  },
  "language_info": {
   "codemirror_mode": {
    "name": "ipython",
    "version": 3
   },
   "file_extension": ".py",
   "mimetype": "text/x-python",
   "name": "python",
   "nbconvert_exporter": "python",
   "pygments_lexer": "ipython3",
   "version": "3.10.13"
  }
 },
 "nbformat": 4,
 "nbformat_minor": 2
}
