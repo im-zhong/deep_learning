{
 "cells": [
  {
   "cell_type": "code",
   "execution_count": 17,
   "id": "49758899",
   "metadata": {},
   "outputs": [],
   "source": [
    "# 2025/7/3\n",
    "# zhangzhong"
   ]
  },
  {
   "cell_type": "code",
   "execution_count": 1,
   "id": "b3a73334",
   "metadata": {},
   "outputs": [
    {
     "name": "stderr",
     "output_type": "stream",
     "text": [
      "/data2/zhangzhong/src/deep_learning/.venv/lib/python3.12/site-packages/tqdm/auto.py:21: TqdmWarning: IProgress not found. Please update jupyter and ipywidgets. See https://ipywidgets.readthedocs.io/en/stable/user_install.html\n",
      "  from .autonotebook import tqdm as notebook_tqdm\n"
     ]
    }
   ],
   "source": [
    "from datasets import load_dataset\n",
    "from transformers import AutoModelForSeq2SeqLM, AutoTokenizer, Seq2SeqTrainingArguments"
   ]
  },
  {
   "cell_type": "code",
   "execution_count": 2,
   "id": "4f61b397",
   "metadata": {},
   "outputs": [],
   "source": [
    "dataset = load_dataset(\"wmt16\", \"ro-en\")\n",
    "model_name = \"bigscience/mt0-large\"\n",
    "tokenizer = AutoTokenizer.from_pretrained(model_name)\n",
    "model = AutoModelForSeq2SeqLM.from_pretrained(model_name)"
   ]
  },
  {
   "cell_type": "code",
   "execution_count": 20,
   "id": "2fe22869",
   "metadata": {},
   "outputs": [
    {
     "data": {
      "text/plain": [
       "DatasetDict({\n",
       "    train: Dataset({\n",
       "        features: ['translation'],\n",
       "        num_rows: 610320\n",
       "    })\n",
       "    validation: Dataset({\n",
       "        features: ['translation'],\n",
       "        num_rows: 1999\n",
       "    })\n",
       "    test: Dataset({\n",
       "        features: ['translation'],\n",
       "        num_rows: 1999\n",
       "    })\n",
       "})"
      ]
     },
     "execution_count": 20,
     "metadata": {},
     "output_type": "execute_result"
    }
   ],
   "source": [
    "dataset"
   ]
  },
  {
   "cell_type": "code",
   "execution_count": 3,
   "id": "1b72308d",
   "metadata": {},
   "outputs": [
    {
     "data": {
      "text/plain": [
       "{'translation': {'en': 'Membership of Parliament: see Minutes',\n",
       "  'ro': 'Componenţa Parlamentului: a se vedea procesul-verbal'}}"
      ]
     },
     "execution_count": 3,
     "metadata": {},
     "output_type": "execute_result"
    }
   ],
   "source": [
    "# Show first training example\n",
    "dataset['train'][0]\n",
    "\n",
    "# The dataset contains 610,320 training examples, 1,999 validation examples, and 1,999 test examples of Romanian-English translation pairs. Each example has the structure:\n",
    "# Each example has the structure:\n",
    "# {\n",
    "#     'translation': {\n",
    "#         'ro': 'Romanian text here',\n",
    "#         'en': 'English text here'\n",
    "#     }\n",
    "# }\n"
   ]
  },
  {
   "cell_type": "code",
   "execution_count": 7,
   "id": "fc0b6418",
   "metadata": {},
   "outputs": [
    {
     "name": "stdout",
     "output_type": "stream",
     "text": [
      "10\n",
      "['Membership of Parliament: see Minutes', 'Approval of Minutes of previous sitting: see Minutes', 'Membership of Parliament: see Minutes', 'Verification of credentials: see Minutes', 'Documents received: see Minutes', 'Written statements and oral questions (tabling): see Minutes', 'Petitions: see Minutes', 'Texts of agreements forwarded by the Council: see Minutes', \"Action taken on Parliament's resolutions: see Minutes\", 'Agenda for next sitting: see Minutes']\n"
     ]
    }
   ],
   "source": [
    "inputs = [ex[\"en\"] for ex in dataset[\"train\"][\"translation\"][:10]]\n",
    "print(len(inputs))\n",
    "print(inputs)"
   ]
  },
  {
   "cell_type": "code",
   "execution_count": 22,
   "id": "1bd6600e",
   "metadata": {},
   "outputs": [
    {
     "name": "stdout",
     "output_type": "stream",
     "text": [
      "Example 1:\n",
      "Romanian: Componenţa Parlamentului: a se vedea procesul-verbal\n",
      "English: Membership of Parliament: see Minutes\n",
      "--------------------------------------------------\n",
      "Example 2:\n",
      "Romanian: Aprobarea procesului-verbal al şedinţei precedente: a se vedea procesul-verbal\n",
      "English: Approval of Minutes of previous sitting: see Minutes\n",
      "--------------------------------------------------\n",
      "Example 3:\n",
      "Romanian: Componenţa Parlamentului: a se vedea procesul-verbal\n",
      "English: Membership of Parliament: see Minutes\n",
      "--------------------------------------------------\n",
      "Example 4:\n",
      "Romanian: Verificarea prerogativelor: a se vedea procesul-verbal\n",
      "English: Verification of credentials: see Minutes\n",
      "--------------------------------------------------\n",
      "Example 5:\n",
      "Romanian: Depunere de documente: a se vedea procesul-verbal\n",
      "English: Documents received: see Minutes\n",
      "--------------------------------------------------\n"
     ]
    }
   ],
   "source": [
    "# Show first 5 training examples\n",
    "for i in range(5):\n",
    "    example = dataset['train'][i]\n",
    "    print(f\"Example {i+1}:\")\n",
    "    print(f\"Romanian: {example['translation']['ro']}\")\n",
    "    print(f\"English: {example['translation']['en']}\")\n",
    "    print(\"-\" * 50)"
   ]
  },
  {
   "cell_type": "code",
   "execution_count": 23,
   "id": "efd03a1d",
   "metadata": {},
   "outputs": [
    {
     "name": "stdout",
     "output_type": "stream",
     "text": [
      "Validation examples:\n",
      "Val Example 1:\n",
      "Romanian: Fostul șef al cabinetului prezidențial brazilian este adus în fața instanței\n",
      "English: Brazil's Former Presidential Chief-of-Staff to Stand Trial\n",
      "--------------------------------------------------\n",
      "Val Example 2:\n",
      "Romanian: Marți, un judecător federal a acceptat acuzațiile aduse împotriva fostului șef al cabinetului prezidențial brazilian pentru presupusa implicare a acestuia într-o schemă masivă de corupție privind compania petrolieră de stat Petrobras.\n",
      "English: A federal judge on Tuesday accepted the charges filed against Brazil's former presidential chief of staff for his alleged involvement in a massive corruption scheme at state-owned oil company Petrobras.\n",
      "--------------------------------------------------\n",
      "Val Example 3:\n",
      "Romanian: Biroul procurorului federal a declarat că Jose Dirceu va fi trimis în judecată pentru acuzațiile de corupție, înșelătorie și spălare de bani aduse în această lună.\n",
      "English: The federal prosecutor's office said Jose Dirceu will face trial on the corruption, racketeering and money laundering charges filed earlier this month.\n",
      "--------------------------------------------------\n"
     ]
    }
   ],
   "source": [
    "# Show examples from validation set\n",
    "print(\"Validation examples:\")\n",
    "for i in range(3):\n",
    "    example = dataset['validation'][i]\n",
    "    print(f\"Val Example {i+1}:\")\n",
    "    print(f\"Romanian: {example['translation']['ro']}\")\n",
    "    print(f\"English: {example['translation']['en']}\")\n",
    "    print(\"-\" * 50)"
   ]
  },
  {
   "cell_type": "code",
   "execution_count": 24,
   "id": "934b0893",
   "metadata": {},
   "outputs": [
    {
     "name": "stdout",
     "output_type": "stream",
     "text": [
      "Random training examples:\n",
      "Random Example 1 (index 506517):\n",
      "Romanian: Între 4 şi 6 ianuarie, Croaţia a găzduit slalomul premiat cu Trofeul Regina Zăpezii.\n",
      "English: Croatia hosted the Snow Queen Trophy Slalom from January 4th to 6th.\n",
      "--------------------------------------------------\n",
      "Random Example 2 (index 40231):\n",
      "Romanian: Transparenţa trebuie să se aplice la fiecare nivel administrativ în ceea ce priveşte documentele.\n",
      "English: Transparency must apply at each administrative level with regard to documents.\n",
      "--------------------------------------------------\n",
      "Random Example 3 (index 381104):\n",
      "Romanian: Avem două opţiuni.\n",
      "English: We have two options.\n",
      "--------------------------------------------------\n"
     ]
    }
   ],
   "source": [
    "# Show random examples from training set\n",
    "import random\n",
    "\n",
    "print(\"Random training examples:\")\n",
    "train_size = len(dataset['train'])\n",
    "random_indices = random.sample(range(train_size), 3)\n",
    "\n",
    "for i, idx in enumerate(random_indices):\n",
    "    example = dataset['train'][idx]\n",
    "    print(f\"Random Example {i+1} (index {idx}):\")\n",
    "    print(f\"Romanian: {example['translation']['ro']}\")\n",
    "    print(f\"English: {example['translation']['en']}\")\n",
    "    print(\"-\" * 50)"
   ]
  },
  {
   "cell_type": "code",
   "execution_count": 25,
   "id": "0e1ec160",
   "metadata": {},
   "outputs": [
    {
     "name": "stdout",
     "output_type": "stream",
     "text": [
      "Dataset Statistics:\n",
      "Training examples: 610,320\n",
      "Validation examples: 1,999\n",
      "Test examples: 1,999\n",
      "Total examples: 614,318\n",
      "\n",
      "Sample sentence lengths (first 10 examples):\n",
      "Romanian avg length: 7.6 words\n",
      "English avg length: 6.0 words\n"
     ]
    }
   ],
   "source": [
    "# Dataset statistics\n",
    "print(\"Dataset Statistics:\")\n",
    "print(f\"Training examples: {len(dataset['train']):,}\")\n",
    "print(f\"Validation examples: {len(dataset['validation']):,}\")\n",
    "print(f\"Test examples: {len(dataset['test']):,}\")\n",
    "print(f\"Total examples: {len(dataset['train']) + len(dataset['validation']) + len(dataset['test']):,}\")\n",
    "\n",
    "# Sample some examples to check sentence lengths\n",
    "sample_examples = [dataset['train'][i] for i in range(10)]\n",
    "ro_lengths = [len(ex['translation']['ro'].split()) for ex in sample_examples]\n",
    "en_lengths = [len(ex['translation']['en'].split()) for ex in sample_examples]\n",
    "\n",
    "print(f\"\\nSample sentence lengths (first 10 examples):\")\n",
    "print(f\"Romanian avg length: {sum(ro_lengths)/len(ro_lengths):.1f} words\")\n",
    "print(f\"English avg length: {sum(en_lengths)/len(en_lengths):.1f} words\")"
   ]
  },
  {
   "cell_type": "code",
   "execution_count": 26,
   "id": "8e2c80ee",
   "metadata": {},
   "outputs": [],
   "source": [
    "# we need to preprocess the dataset and tokenize the dataset to be trained\n",
    "\n",
    "def preprocess_function(examples):\n",
    "    inputs = [ex[\"translation\"][\"en\"] for ex in examples]\n",
    "    targets = [ex[\"translation\"][\"ro\"] for ex in examples]\n",
    "\n",
    "    model_inputs = tokenizer(\n",
    "        inputs,\n",
    "        max_length=128,\n",
    "        truncation=True,\n",
    "        padding=False,  # Dynamic padding to longest in batch (set to False for no padding during preprocessing\n",
    "    )\n",
    "\n",
    "    # tokenizer.as_target_tokenizer() is crucial for seq2seq models because:\n",
    "    # Some tokenizers behave differently for source vs target text\n",
    "    # For T5/mT5 models, it ensures proper handling of decoder inputs\n",
    "    # It may add special tokens or handle BOS/EOS tokens differently\n",
    "    with tokenizer.as_target_tokenizer():\n",
    "        labels = tokenizer(\n",
    "            targets,\n",
    "            max_length=128,\n",
    "            truncation=True,\n",
    "            padding=False,  # Dynamic padding to longest in batch\n",
    "        )\n",
    "\n",
    "    return model_inputs, labels\n"
   ]
  },
  {
   "cell_type": "code",
   "execution_count": null,
   "id": "7fa78f31",
   "metadata": {},
   "outputs": [],
   "source": [
    "# tokenizer(inputs) 返回的结构\n",
    "# model_inputs = {\n",
    "#     \"input_ids\": [\n",
    "#         [259, 899, 1, 0, 0, ...],  # \"Hello world\" 的 token IDs (填充到128长度)\n",
    "#         [876, 432, 1, 0, 0, ...]   # \"Good morning\" 的 token IDs\n",
    "#     ],\n",
    "#     \"attention_mask\": [\n",
    "#         [1, 1, 1, 0, 0, ...],      # 实际内容为1，填充为0\n",
    "#         [1, 1, 1, 0, 0, ...]\n",
    "#     ]\n",
    "# }\n",
    "\n",
    "# # tokenizer(targets) 返回的结构\n",
    "# labels = {\n",
    "#     \"input_ids\": [\n",
    "#         [385, 765, 1, 0, 0, ...],  # \"Salut lume\" 的 token IDs\n",
    "#         [654, 231, 1, 0, 0, ...]   # \"Bună dimineața\" 的 token IDs\n",
    "#     ],\n",
    "#     \"attention_mask\": [\n",
    "#         [1, 1, 1, 0, 0, ...],\n",
    "#         [1, 1, 1, 0, 0, ...]\n",
    "#     ]\n",
    "# }\n",
    "#\n",
    "# 真的神奇，只有input_ids才能访问。。。"
   ]
  },
  {
   "cell_type": "code",
   "execution_count": 27,
   "id": "81f1e1d6",
   "metadata": {},
   "outputs": [
    {
     "name": "stderr",
     "output_type": "stream",
     "text": [
      "/data2/zhangzhong/src/deep_learning/.venv/lib/python3.12/site-packages/transformers/tokenization_utils_base.py:3951: UserWarning: `as_target_tokenizer` is deprecated and will be removed in v5 of Transformers. You can tokenize your labels by using the argument `text_target` of the regular `__call__` method (either in the same call as your input texts if you use the same keyword arguments, or in a separate call.\n",
      "  warnings.warn(\n"
     ]
    },
    {
     "name": "stdout",
     "output_type": "stream",
     "text": [
      "hello\n"
     ]
    }
   ],
   "source": [
    "model_inputs, labels = preprocess_function(dataset['train'])\n",
    "\n",
    "print(\"hello\")"
   ]
  },
  {
   "cell_type": "code",
   "execution_count": null,
   "id": "1af8ca29",
   "metadata": {},
   "outputs": [
    {
     "data": {
      "text/plain": [
       "['translation']"
      ]
     },
     "execution_count": 28,
     "metadata": {},
     "output_type": "execute_result"
    }
   ],
   "source": [
    "dataset[\"train\"].column_names\n",
    "\n"
   ]
  },
  {
   "cell_type": "code",
   "execution_count": null,
   "id": "ab2330ee",
   "metadata": {},
   "outputs": [],
   "source": [
    "\n",
    "\n",
    "tokenized_datasets = dataset.map(\n",
    "    preprocess_function,\n",
    "    batched=True,\n",
    "    # The dataset would have BOTH old and new columns:\n",
    "    # {\n",
    "    #     'translation': {  # Original column still exists\n",
    "    #         'ro': 'Rezoluția se referă la o problemă importantă.',\n",
    "    #         'en': 'The resolution refers to an important problem.'\n",
    "    #     },\n",
    "    #     'input_ids': [259, 899, 1, ...],      # New tokenized data\n",
    "    #     'attention_mask': [1, 1, 1, ...],     # New tokenized data\n",
    "    #     'labels': [385, 765, 1, ...]          # New tokenized data\n",
    "    # }\n",
    "    # 如果不去掉，最终处理出来的数据集就会有上面的 translation 这个东西\n",
    "    # If you want to remove the original 'translation' column, set remove_columns\n",
    "    # Only the new tokenized columns remain:\n",
    "    # {\n",
    "    #     'input_ids': [259, 899, 1, ...],      # Tokenized input\n",
    "    #     'attention_mask': [1, 1, 1, ...],     # Attention mask\n",
    "    #     'labels': [385, 765, 1, ...]          # Tokenized targets\n",
    "    # }\n",
    "    remove_columns=dataset[\"train\"].column_names, # \n",
    "    desc=\"Running tokenizer on dataset\",\n",
    "    load_from_cache_file=True,\n",
    ")"
   ]
  }
 ],
 "metadata": {
  "kernelspec": {
   "display_name": "deep-learning",
   "language": "python",
   "name": "python3"
  },
  "language_info": {
   "codemirror_mode": {
    "name": "ipython",
    "version": 3
   },
   "file_extension": ".py",
   "mimetype": "text/x-python",
   "name": "python",
   "nbconvert_exporter": "python",
   "pygments_lexer": "ipython3",
   "version": "3.12.9"
  }
 },
 "nbformat": 4,
 "nbformat_minor": 5
}
