{
 "cells": [
  {
   "cell_type": "code",
   "execution_count": null,
   "id": "938c3ef1",
   "metadata": {},
   "outputs": [],
   "source": [
    "# 2025/7/12\n",
    "# zhangzhong\n"
   ]
  },
  {
   "cell_type": "code",
   "execution_count": null,
   "id": "61ee1dcd",
   "metadata": {},
   "outputs": [
    {
     "name": "stdout",
     "output_type": "stream",
     "text": [
      "\n",
      "\n",
      "\n"
     ]
    },
    {
     "data": {
      "text/plain": [
       "['my_tokenizer/vocab.json', 'my_tokenizer/merges.txt']"
      ]
     },
     "execution_count": 6,
     "metadata": {},
     "output_type": "execute_result"
    }
   ],
   "source": [
    "from tokenizers import ByteLevelBPETokenizer\n",
    "\n",
    "# Initialize the tokenizer\n",
    "tokenizer = ByteLevelBPETokenizer()\n",
    "\n",
    "# Train using a file path\n",
    "tokenizer.train(\n",
    "    files=[\"my_corpus.txt\"],\n",
    "    vocab_size=5000,\n",
    "    min_frequency=2,\n",
    "    special_tokens=[\"<s>\", \"<pad>\", \"</s>\", \"<unk>\", \"<mask>\"]\n",
    ")\n",
    "\n",
    "# Save the trained tokenizer\n",
    "tokenizer.save_model(\"my_tokenizer\")"
   ]
  },
  {
   "cell_type": "code",
   "execution_count": null,
   "id": "46e3da85",
   "metadata": {},
   "outputs": [
    {
     "name": "stdout",
     "output_type": "stream",
     "text": [
      "['H', 'el', 'l', 'o', ',', 'Ġ', 'w', 'or', 'l', 'd', '!', 'Ġ', 'T', 'h', 'is', 'Ġ', 'is', 'Ġa', 'Ġ', 't', 'e', 's', 't', '.']\n",
      "[44, 261, 80, 83, 16, 225, 91, 263, 80, 72, 5, 225, 56, 76, 262, 225, 262, 266, 225, 88, 73, 87, 88, 18]\n"
     ]
    }
   ],
   "source": [
    "tokens = tokenizer.encode(\"Hello, world! This is a test.\")\n",
    "print(tokens.tokens)  # Output the tokens\n",
    "print(tokens.ids)       # Output the token IDs"
   ]
  },
  {
   "cell_type": "code",
   "execution_count": 9,
   "id": "87cad8df",
   "metadata": {},
   "outputs": [
    {
     "name": "stdout",
     "output_type": "stream",
     "text": [
      "Hello, world! This is a test.\n"
     ]
    }
   ],
   "source": [
    "# how to do decode\n",
    "decoded = tokenizer.decode(tokens.ids)\n",
    "print(decoded)  # Output the decoded string"
   ]
  },
  {
   "cell_type": "code",
   "execution_count": 11,
   "id": "809f463b",
   "metadata": {},
   "outputs": [
    {
     "ename": "Exception",
     "evalue": "Is a directory (os error 21)",
     "output_type": "error",
     "traceback": [
      "\u001b[31m---------------------------------------------------------------------------\u001b[39m",
      "\u001b[31mException\u001b[39m                                 Traceback (most recent call last)",
      "\u001b[36mCell\u001b[39m\u001b[36m \u001b[39m\u001b[32mIn[11]\u001b[39m\u001b[32m, line 3\u001b[39m\n\u001b[32m      1\u001b[39m \u001b[38;5;66;03m# how to load the tokenizer from saved files\u001b[39;00m\n\u001b[32m      2\u001b[39m \u001b[38;5;28;01mfrom\u001b[39;00m\u001b[38;5;250m \u001b[39m\u001b[34;01mtokenizers\u001b[39;00m\u001b[38;5;250m \u001b[39m\u001b[38;5;28;01mimport\u001b[39;00m Tokenizer\n\u001b[32m----> \u001b[39m\u001b[32m3\u001b[39m tokenizer = \u001b[43mTokenizer\u001b[49m\u001b[43m.\u001b[49m\u001b[43mfrom_file\u001b[49m\u001b[43m(\u001b[49m\u001b[33;43m\"\u001b[39;49m\u001b[33;43mmy_tokenizer\u001b[39;49m\u001b[33;43m\"\u001b[39;49m\u001b[43m)\u001b[49m\n\u001b[32m      4\u001b[39m \u001b[38;5;66;03m# Now you can use the tokenizer as before\u001b[39;00m\n\u001b[32m      5\u001b[39m tokens = tokenizer.encode(\u001b[33m\"\u001b[39m\u001b[33mHello, world! This is a test.\u001b[39m\u001b[33m\"\u001b[39m)\n",
      "\u001b[31mException\u001b[39m: Is a directory (os error 21)"
     ]
    }
   ],
   "source": [
    "# how to load the tokenizer from saved files\n",
    "from tokenizers import Tokenizer\n",
    "tokenizer = Tokenizer.from_file(\"my_tokenizer\")\n",
    "# Now you can use the tokenizer as before\n",
    "tokens = tokenizer.encode(\"Hello, world! This is a test.\")\n",
    "print(tokens.tokens)  # Output the tokens\n",
    "print(tokens.ids)       # Output the token IDs\n",
    "# how to do decode\n",
    "decoded = tokenizer.decode(tokens.ids)\n",
    "print(decoded)  # Output the decoded string"
   ]
  },
  {
   "cell_type": "code",
   "execution_count": 23,
   "id": "4939db68",
   "metadata": {},
   "outputs": [
    {
     "name": "stdout",
     "output_type": "stream",
     "text": [
      "\n",
      "\n",
      "\n"
     ]
    }
   ],
   "source": [
    "# 这种才是更好的方式！\n",
    "# 就用这种吧，hugging face的教程里面也是这种\n",
    "\n",
    "from tokenizers import Tokenizer, models, pre_tokenizers, decoders, trainers\n",
    "from tokenizers.pre_tokenizers import ByteLevel\n",
    "from tokenizers import normalizers\n",
    "\n",
    "tokenizer = Tokenizer(models.BPE())\n",
    "tokenizer.normalizer = None  # No normalization, default for GPT2\n",
    "# tokenizer.normalizer = normalizers.Sequence([\n",
    "#     normalizers.NFKC(),  \n",
    "# ])\n",
    "tokenizer.pre_tokenizer = pre_tokenizers.Sequence([\n",
    "pre_tokenizers.ByteLevel(use_regex=False)\n",
    "]) \n",
    "tokenizer.decoder = decoders.Sequence([\n",
    "decoders.ByteLevel()\n",
    "]) \n",
    "\n",
    "trainer = trainers.BpeTrainer(\n",
    "    vocab_size=5000,\n",
    "    # min_frequency=2,\n",
    "    special_tokens=[\"<s>\", \"<pad>\", \"</s>\", \"<unk>\", \"<mask>\"],\n",
    "    initial_alphabet=ByteLevel.alphabet()  # ← key point: includes all 256 bytes\n",
    ")\n",
    "\n",
    "tokenizer.train([\"my_corpus.txt\"], trainer)\n",
    "tokenizer.save(\"my_tokenizer/tokenizer.json\")"
   ]
  },
  {
   "cell_type": "code",
   "execution_count": 24,
   "id": "941b91db",
   "metadata": {},
   "outputs": [
    {
     "name": "stdout",
     "output_type": "stream",
     "text": [
      "['ĠHello', ',', 'Ġwor', 'l', 'd', '!', 'Ġ', 'T', 'h', 'isĠ', 'isĠ', 'a', 'Ġ', 't', 'es', 't', '.']\n",
      "[338, 16, 277, 80, 72, 5, 225, 56, 76, 267, 267, 69, 225, 88, 292, 88, 18]\n",
      " Hello, world! This is a test.\n"
     ]
    }
   ],
   "source": [
    "# 语料库里面没有这种基本的字符还不行。。。\n",
    "tokens = tokenizer.encode(\"Hello, world! This is a test.\")\n",
    "print(tokens.tokens)  # Output the tokens\n",
    "print(tokens.ids)       # Output the token IDs\n",
    "# how to do decode\n",
    "decoded = tokenizer.decode(tokens.ids)\n",
    "print(decoded)  # Output the decoded string\n",
    "\n",
    "# 我们还真不能全都把字符都变成小写，因为大模型的输出就是要区分大小写的，看看chatgpt的输出就知道了呀。"
   ]
  },
  {
   "cell_type": "markdown",
   "id": "27dfd872",
   "metadata": {},
   "source": [
    "# Normalization\n",
    "\n",
    "Great question!\n",
    "\n",
    "In the context of Hugging Face’s tokenizers and NLP in general:\n",
    "\n",
    "⸻\n",
    "\n",
    "🧠 What Is a Normalizer?\n",
    "\n",
    "A normalizer is a preprocessing step in tokenization that modifies the raw input text before it is split into tokens.\n",
    "\n",
    "📦 Typical Normalization Tasks:\n",
    "\t•\tLowercasing (\"Hello\" → \"hello\")\n",
    "\t•\tUnicode normalization (e.g., NFC/NFD/NFKC/NFKD)\n",
    "\t•\tStripping accents (\"café\" → \"cafe\")\n",
    "\t•\tRemoving or standardizing whitespace\n",
    "\t•\tReplacing characters or patterns (e.g., quotes, emojis, punctuations)\n",
    "\n",
    "⸻\n",
    "\n",
    "✅ Why Is Normalization Important?\n",
    "\n",
    "Because:\n",
    "\t•\tDifferent text formats may represent the same character differently (e.g., é vs e + ´)\n",
    "\t•\tHelps standardize input for better token consistency\n",
    "\t•\tReduces vocabulary size and data sparsity\n",
    "\n",
    "⸻\n",
    "\n",
    "💡 Examples\n",
    "\n",
    "Without normalization:\n",
    "\n",
    "\"Hello\" → ['H', 'e', 'l', 'l', 'o']\n",
    "\"hello\" → ['h', 'e', 'l', 'l', 'o']\n",
    "\n",
    "These result in different tokens, unless normalization is applied.\n",
    "\n",
    "⸻\n",
    "\n",
    "✅ In Hugging Face tokenizers\n",
    "\n",
    "You can set a normalizer like this:\n",
    "\n",
    "from tokenizers import Tokenizer, normalizers\n",
    "from tokenizers.normalizers import Lowercase, NFD, StripAccents, Sequence\n",
    "\n",
    "# Build a normalization pipeline\n",
    "normalizer = Sequence([\n",
    "    NFD(),             # Unicode decomposition (Normalization Form D)\n",
    "    Lowercase(),       # Convert to lowercase\n",
    "    StripAccents(),    # Remove diacritics like é → e\n",
    "])\n",
    "\n",
    "tokenizer.normalizer = normalizer\n",
    "\n",
    "You can also use built-in ones like:\n",
    "\n",
    "from tokenizers.normalizers import BertNormalizer\n",
    "\n",
    "tokenizer.normalizer = BertNormalizer(lowercase=True, strip_accents=True)\n",
    "\n",
    "\n",
    "⸻\n",
    "\n",
    "🔍 Unicode Normalization Forms\n",
    "\n",
    "Name\tDescription\n",
    "NFC\tCanonical Composition (default in most systems)\n",
    "NFD\tCanonical Decomposition\n",
    "NFKC\tCompatibility Composition\n",
    "NFKD\tCompatibility Decomposition\n",
    "\n",
    "\n",
    "⸻\n",
    "\n",
    "🚫 Byte-Level Tokenizers (e.g., GPT-2)\n",
    "\n",
    "For Byte-Level BPE like GPT-2:\n",
    "\n",
    "⚠ No normalization is applied, because they operate on raw bytes.\n",
    "\n",
    "tokenizer = ByteLevelBPETokenizer()\n",
    "# tokenizer.normalizer = None (by default)\n",
    "\n",
    "This ensures:\n",
    "\t•\tEvery possible character (even rare ones like emoji or Japanese kanji) is preserved\n",
    "\t•\tUnicode differences are preserved too (which is why GPT uses byte-level)\n",
    "\n",
    "⸻\n",
    "\n",
    "✅ Summary\n",
    "\n",
    "Term\tMeaning\n",
    "Normalizer\tA text preprocessor before tokenization\n",
    "Used For\tLowercasing, stripping accents, Unicode handling\n",
    "In BERT\tOften used (e.g., lowercase + NFD + accent strip)\n",
    "In GPT-2\tNot used (raw byte-level input)\n",
    "\n",
    "\n",
    "⸻\n",
    "\n",
    "Let me know if you want to visualize the effect of different normalizers on a sentence like \"Café Déjà Vu – HELLO\"!"
   ]
  },
  {
   "cell_type": "code",
   "execution_count": null,
   "id": "c4677eb8",
   "metadata": {},
   "outputs": [],
   "source": []
  }
 ],
 "metadata": {
  "kernelspec": {
   "display_name": "deep-learning",
   "language": "python",
   "name": "python3"
  },
  "language_info": {
   "codemirror_mode": {
    "name": "ipython",
    "version": 3
   },
   "file_extension": ".py",
   "mimetype": "text/x-python",
   "name": "python",
   "nbconvert_exporter": "python",
   "pygments_lexer": "ipython3",
   "version": "3.12.9"
  }
 },
 "nbformat": 4,
 "nbformat_minor": 5
}
