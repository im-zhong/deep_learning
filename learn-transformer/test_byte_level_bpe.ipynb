{
 "cells": [
  {
   "cell_type": "code",
   "execution_count": 19,
   "id": "4e68f530",
   "metadata": {},
   "outputs": [],
   "source": [
    "# 2025/7/13\n",
    "# zhangzhong"
   ]
  },
  {
   "cell_type": "code",
   "execution_count": 20,
   "id": "386c149f",
   "metadata": {},
   "outputs": [],
   "source": [
    "from tokenizers import Tokenizer \n",
    "\n",
    "tokenizer = Tokenizer.from_file(\"byte_level_bpe_tokenizer.json\")\n",
    "\n",
    "# from transformers import PreTrainedTokenizerFast\n",
    "\n",
    "# tokenizer = PreTrainedTokenizerFast(tokenizer_file=\"byte_level_bpe_tokenizer.json\")"
   ]
  },
  {
   "cell_type": "code",
   "execution_count": 21,
   "id": "0234935e",
   "metadata": {},
   "outputs": [],
   "source": [
    "# 咱们测试一下这个tokenizer吧\n",
    "def test_tokenizer(sentence: str) -> None:\n",
    "    tokens = tokenizer.encode(sentence)\n",
    "    print(tokens.tokens)  # Output the tokens\n",
    "    print(tokens.ids)       # Output the token IDs\n",
    "    # how to do decode\n",
    "    decoded = tokenizer.decode(tokens.ids)\n",
    "    print(decoded)  # Output the decoded string"
   ]
  },
  {
   "cell_type": "code",
   "execution_count": 22,
   "id": "0ee1d6cc",
   "metadata": {},
   "outputs": [
    {
     "name": "stdout",
     "output_type": "stream",
     "text": [
      "['Ġ', 'the']\n",
      "[221, 403]\n",
      " the\n"
     ]
    }
   ],
   "source": [
    "test_tokenizer(\"the\")"
   ]
  },
  {
   "cell_type": "code",
   "execution_count": 23,
   "id": "2b0296bb",
   "metadata": {},
   "outputs": [
    {
     "name": "stdout",
     "output_type": "stream",
     "text": [
      "['ĠH', 'ell', 'o,Ġ', 'world', '!', 'ĠThisĠ', 'isĠaĠ', 't', 'estĠ', 's', 'ent', 'enceĠ', 'forĠtheĠ', 'to', 'k', 'en', 'iz', 'er', '.']\n",
      "[613, 554, 1195, 1596, 1, 2078, 728, 84, 492, 83, 328, 609, 618, 943, 75, 269, 724, 263, 14]\n",
      " Hello, world! This is a test sentence for the tokenizer.\n"
     ]
    }
   ],
   "source": [
    "test_tokenizer(\"Hello, world! This is a test sentence for the tokenizer.\")"
   ]
  },
  {
   "cell_type": "code",
   "execution_count": 24,
   "id": "125797b4",
   "metadata": {},
   "outputs": [
    {
     "name": "stdout",
     "output_type": "stream",
     "text": [
      "['ĠB', 'y', 'te', '-', 'level', 'ĠB', 'P', 'E', 'Ġ', 'suppor', 'tsĠ', 'em', 'o', 'j', 'isĠ', 'ð', 'Ł', 'ĳ', 'ĭ', 'ĠandĠ', 'sy', 'mb', 'ol', 'sĠ', 'Â', '©', 'Â', '®', 'ð', 'Ł', 'ĳ', 'į', '.']\n",
      "[460, 89, 504, 13, 1503, 460, 48, 37, 221, 2402, 433, 318, 79, 74, 298, 173, 254, 240, 234, 400, 636, 2792, 304, 258, 127, 103, 127, 107, 173, 254, 240, 236, 14]\n",
      " Byte-level BPE supports emojis 👋 and symbols ©®👍.\n"
     ]
    }
   ],
   "source": [
    "test_tokenizer(\"Byte-level BPE supports emojis 👋 and symbols ©®👍.\")"
   ]
  },
  {
   "cell_type": "code",
   "execution_count": 25,
   "id": "71428eac",
   "metadata": {},
   "outputs": [
    {
     "name": "stdout",
     "output_type": "stream",
     "text": [
      "['Ġ', 'ä', '½', 'ł', 'å', '¥', '½', 'ï', '¼', 'Į', 'ä', '¸', 'ĸ', 'ç', 'ķ', 'Į', 'ï', '¼', 'ģ']\n",
      "[221, 161, 122, 255, 162, 99, 122, 172, 121, 235, 161, 117, 245, 164, 244, 235, 172, 121, 224]\n",
      " 你好，世界！\n"
     ]
    }
   ],
   "source": [
    "test_tokenizer(\"你好，世界！\")"
   ]
  }
 ],
 "metadata": {
  "kernelspec": {
   "display_name": "deep-learning",
   "language": "python",
   "name": "python3"
  },
  "language_info": {
   "codemirror_mode": {
    "name": "ipython",
    "version": 3
   },
   "file_extension": ".py",
   "mimetype": "text/x-python",
   "name": "python",
   "nbconvert_exporter": "python",
   "pygments_lexer": "ipython3",
   "version": "3.12.9"
  }
 },
 "nbformat": 4,
 "nbformat_minor": 5
}
