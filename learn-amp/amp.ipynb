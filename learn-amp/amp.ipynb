{
 "cells": [
  {
   "cell_type": "code",
   "execution_count": null,
   "id": "b38f4e5d",
   "metadata": {},
   "outputs": [],
   "source": [
    "# 2025/7/22\n",
    "# zhangzhong\n",
    "# https://docs.pytorch.org/tutorials/recipes/recipes/amp_recipe.html\n",
    "# This recipe measures the performance of a simple network in default precision, \n",
    "# then walks through adding autocast and GradScaler to run the same network in mixed precision with improved performance."
   ]
  },
  {
   "cell_type": "code",
   "execution_count": null,
   "id": "74a4b848",
   "metadata": {},
   "outputs": [],
   "source": [
    "# Some ops, like linear layers and convolutions, are much faster in float16 or bfloat16. \n",
    "# Other ops, like reductions, often require the dynamic range of float32\n",
    "# Mixed precision tries to match each op to its appropriate datatype, which can reduce your network’s runtime and memory footprint."
   ]
  },
  {
   "cell_type": "code",
   "execution_count": 2,
   "id": "12db3526",
   "metadata": {},
   "outputs": [],
   "source": [
    "import torch\n",
    "import time\n",
    "import gc\n",
    "\n",
    "# Timing utilities\n",
    "start_time = None\n",
    "\n",
    "def start_timer():\n",
    "    global start_time\n",
    "    gc.collect()\n",
    "    torch.cuda.empty_cache()\n",
    "    torch.cuda.reset_max_memory_allocated()\n",
    "    torch.cuda.synchronize()\n",
    "    start_time = time.time()\n",
    "\n",
    "def end_timer_and_print(local_msg):\n",
    "    torch.cuda.synchronize()\n",
    "    end_time = time.time()\n",
    "    print(\"\\n\" + local_msg)\n",
    "    print(\"Total execution time = {:.3f} sec\".format(end_time - start_time))\n",
    "    print(\"Max memory used by tensors = {} bytes\".format(torch.cuda.max_memory_allocated()))"
   ]
  },
  {
   "cell_type": "code",
   "execution_count": 4,
   "id": "db886372",
   "metadata": {},
   "outputs": [],
   "source": [
    "# A simple network\n",
    "# batch_size, in_size, out_size, and num_layers are chosen to be large enough to saturate the GPU with work.\n",
    "def make_model(in_size, out_size, num_layers):\n",
    "    layers = []\n",
    "    for _ in range(num_layers - 1):\n",
    "        layers.append(torch.nn.Linear(in_size, in_size))\n",
    "        layers.append(torch.nn.ReLU())\n",
    "    layers.append(torch.nn.Linear(in_size, out_size))\n",
    "    return torch.nn.Sequential(*tuple(layers)).cuda()"
   ]
  },
  {
   "cell_type": "code",
   "execution_count": 8,
   "id": "0444220e",
   "metadata": {},
   "outputs": [],
   "source": [
    "batch_size = 4096 # Try, for example, 128, 256, 513.\n",
    "in_size = 4096\n",
    "out_size = 4096\n",
    "num_layers = 3\n",
    "num_batches = 50\n",
    "epochs = 3\n",
    "\n",
    "device = 'cuda' if torch.cuda.is_available() else 'cpu'\n",
    "torch.set_default_device(device)\n",
    "\n",
    "# Creates data in default precision.\n",
    "# The same data is used for both default and mixed precision trials below.\n",
    "# You don't need to manually change inputs' ``dtype`` when enabling mixed precision.\n",
    "data = [torch.randn(batch_size, in_size) for _ in range(num_batches)]\n",
    "targets = [torch.randn(batch_size, out_size) for _ in range(num_batches)]\n",
    "\n",
    "loss_fn = torch.nn.MSELoss().cuda()"
   ]
  },
  {
   "cell_type": "code",
   "execution_count": 12,
   "id": "59e189c8",
   "metadata": {},
   "outputs": [
    {
     "name": "stdout",
     "output_type": "stream",
     "text": [
      "\n",
      "Default precision:\n",
      "Total execution time = 7.738 sec\n",
      "Max memory used by tensors = 7533332992 bytes\n"
     ]
    }
   ],
   "source": [
    "# Default precision: float32\n",
    "net = make_model(in_size, out_size, num_layers)\n",
    "opt = torch.optim.SGD(net.parameters(), lr=0.001)\n",
    "\n",
    "start_timer()\n",
    "for epoch in range(epochs):\n",
    "    for input, target in zip(data, targets):\n",
    "        output = net(input)\n",
    "        loss = loss_fn(output, target)\n",
    "        loss.backward()\n",
    "        opt.step()\n",
    "        opt.zero_grad() # set_to_none=True here can modestly improve performance\n",
    "end_timer_and_print(\"Default precision:\")"
   ]
  },
  {
   "cell_type": "code",
   "execution_count": 10,
   "id": "eb7373ea",
   "metadata": {},
   "outputs": [],
   "source": [
    "# torch.autocast\n",
    "# context managers that allow regions of your script to run in mixed precision\n",
    "# autocast会自动选择每个操作的dtype\n",
    "# https://docs.pytorch.org/docs/stable/amp.html#autocast-op-reference 这里面有那种操作用float32 那种用float16\n",
    "# 一般的矩阵，卷积等操作都是用float16\n",
    "\n",
    "\n",
    "for epoch in range(0): # 0 epochs, this section is for illustration only\n",
    "    for input, target in zip(data, targets):\n",
    "        # Runs the forward pass under ``autocast``.\n",
    "        with torch.autocast(device_type=device, dtype=torch.float16):\n",
    "            output = net(input)\n",
    "            # output is float16 because linear layers ``autocast`` to float16.\n",
    "            assert output.dtype is torch.float16\n",
    "\n",
    "            loss = loss_fn(output, target)\n",
    "            # loss is float32 because ``mse_loss`` layers ``autocast`` to float32.\n",
    "            assert loss.dtype is torch.float32\n",
    "\n",
    "        # Exits ``autocast`` before backward().\n",
    "        # Backward passes under ``autocast`` are not recommended.\n",
    "        # Backward ops run in the same ``dtype`` ``autocast`` chose for corresponding forward ops.\n",
    "        loss.backward()\n",
    "        opt.step()\n",
    "        opt.zero_grad() # set_to_none=True here can modestly improve performance"
   ]
  },
  {
   "cell_type": "code",
   "execution_count": null,
   "id": "74f5342f",
   "metadata": {},
   "outputs": [],
   "source": [
    "# Adding GradScaler\n",
    "# Gradient scaling helps prevent gradients with small magnitudes from flushing to zero (“underflowing”) when training with mixed precision.\n",
    "\n",
    "# Constructs a ``scaler`` once, at the beginning of the convergence run, using default arguments.\n",
    "# If your network fails to converge with default ``GradScaler`` arguments, please file an issue.\n",
    "# The same ``GradScaler`` instance should be used for the entire convergence run.\n",
    "# If you perform multiple convergence runs in the same script, each run should use\n",
    "# a dedicated fresh ``GradScaler`` instance. ``GradScaler`` instances are lightweight.\n",
    "# cause dynamic scaling: https://docs.nvidia.com/deeplearning/performance/mixed-precision-training/index.html#faq-general__section_on4_qgf_djb\n",
    "scaler = torch.amp.GradScaler(\"cuda\")\n",
    "\n",
    "for epoch in range(0): # 0 epochs, this section is for illustration only\n",
    "    for input, target in zip(data, targets):\n",
    "        with torch.autocast(device_type=device, dtype=torch.float16):\n",
    "            output = net(input)\n",
    "            loss = loss_fn(output, target)\n",
    "\n",
    "        # Scales loss. Calls ``backward()`` on scaled loss to create scaled gradients.\n",
    "        scaler.scale(loss).backward()\n",
    "\n",
    "        # ``scaler.step()`` first unscales the gradients of the optimizer's assigned parameters.\n",
    "        # If these gradients do not contain ``inf``s or ``NaN``s, optimizer.step() is then called,\n",
    "        # otherwise, optimizer.step() is skipped.\n",
    "        scaler.step(opt)\n",
    "\n",
    "        # Updates the scale for next iteration.\n",
    "        # scaler need to update its scaling factor, cause dynamic scaling tricks\n",
    "        scaler.update()\n",
    "\n",
    "        opt.zero_grad() # set_to_none=True here can modestly improve performance"
   ]
  },
  {
   "cell_type": "code",
   "execution_count": null,
   "id": "9bada289",
   "metadata": {},
   "outputs": [
    {
     "name": "stderr",
     "output_type": "stream",
     "text": [
      "/data2/zhangzhong/src/deep_learning/.venv/lib/python3.12/site-packages/torch/cuda/memory.py:489: FutureWarning: torch.cuda.reset_max_memory_allocated now calls torch.cuda.reset_peak_memory_stats, which resets /all/ peak memory stats.\n",
      "  warnings.warn(\n"
     ]
    },
    {
     "name": "stdout",
     "output_type": "stream",
     "text": [
      "\n",
      "Mixed precision:\n",
      "Total execution time = 3.325 sec\n",
      "Max memory used by tensors = 7634019840 bytes\n"
     ]
    }
   ],
   "source": [
    "# All together: AMP\n",
    "use_amp = True\n",
    "\n",
    "net = make_model(in_size, out_size, num_layers)\n",
    "opt = torch.optim.SGD(net.parameters(), lr=0.001)\n",
    "scaler = torch.amp.GradScaler(\"cuda\" ,enabled=use_amp)\n",
    "\n",
    "start_timer()\n",
    "for epoch in range(epochs):\n",
    "    for input, target in zip(data, targets):\n",
    "        with torch.autocast(device_type=device, dtype=torch.float16, enabled=use_amp):\n",
    "            output = net(input)\n",
    "            loss = loss_fn(output, target)\n",
    "        scaler.scale(loss).backward()\n",
    "\n",
    "        # # Unscales the gradients of optimizer's assigned parameters in-place\n",
    "        # scaler.unscale_(opt)\n",
    "\n",
    "        # # Since the gradients of optimizer's assigned parameters are now unscaled, clips as usual.\n",
    "        # # You may use the same value for max_norm here as you would without gradient scaling.\n",
    "        # torch.nn.utils.clip_grad_norm_(net.parameters(), max_norm=0.1)\n",
    "\n",
    "        scaler.step(opt) # 在这里调用了 optimizer.step()\n",
    "        scaler.update()\n",
    "        opt.zero_grad() # set_to_none=True here can modestly improve performance\n",
    "end_timer_and_print(\"Mixed precision:\")"
   ]
  },
  {
   "cell_type": "code",
   "execution_count": null,
   "id": "f5741fb7",
   "metadata": {},
   "outputs": [],
   "source": [
    "#. Saving/Resuming\n",
    "\n",
    "# checkpoint = {\"model\": net.state_dict(),\n",
    "#               \"optimizer\": opt.state_dict(),\n",
    "#               \"scaler\": scaler.state_dict()}\n",
    "# # Write checkpoint as desired, e.g.,\n",
    "# # torch.save(checkpoint, \"filename\")\n",
    "\n",
    "# # read\n",
    "# dev = torch.cuda.current_device()\n",
    "# # 直接加载到显卡中\n",
    "# checkpoint = torch.load(\"filename\",\n",
    "#                         map_location = lambda storage, loc: storage.cuda(dev))\n",
    "# net.load_state_dict(checkpoint[\"model\"])\n",
    "# opt.load_state_dict(checkpoint[\"optimizer\"])\n",
    "# scaler.load_state_dict(checkpoint[\"scaler\"])"
   ]
  },
  {
   "cell_type": "code",
   "execution_count": null,
   "id": "4e319f04",
   "metadata": {},
   "outputs": [],
   "source": [
    "# Inference/Evaluation\n",
    "# autocast may be used by itself to wrap inference or evaluation forward passes.\n",
    "# GradScaler is not necessary."
   ]
  },
  {
   "cell_type": "code",
   "execution_count": null,
   "id": "bd84d95c",
   "metadata": {},
   "outputs": [],
   "source": [
    "# combine AMP with DDP\n",
    "# https://docs.pytorch.org/docs/stable/notes/amp_examples.html"
   ]
  }
 ],
 "metadata": {
  "kernelspec": {
   "display_name": "deep-learning (3.12.9)",
   "language": "python",
   "name": "python3"
  },
  "language_info": {
   "codemirror_mode": {
    "name": "ipython",
    "version": 3
   },
   "file_extension": ".py",
   "mimetype": "text/x-python",
   "name": "python",
   "nbconvert_exporter": "python",
   "pygments_lexer": "ipython3",
   "version": "3.12.9"
  }
 },
 "nbformat": 4,
 "nbformat_minor": 5
}
